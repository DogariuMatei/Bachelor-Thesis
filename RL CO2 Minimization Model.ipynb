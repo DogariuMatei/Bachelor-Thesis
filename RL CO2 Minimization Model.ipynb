{
 "cells": [
  {
   "cell_type": "code",
   "execution_count": 56,
   "id": "initial_id",
   "metadata": {
    "collapsed": true,
    "ExecuteTime": {
     "end_time": "2024-05-16T20:00:55.572134900Z",
     "start_time": "2024-05-16T20:00:55.471088700Z"
    }
   },
   "outputs": [],
   "source": [
    "import os\n",
    "from gymnasium import Env\n",
    "from gymnasium import spaces\n",
    "from gymnasium.spaces import Discrete\n",
    "import pandas as pd\n",
    "import numpy as np\n",
    "\n",
    "from stable_baselines3 import DQN\n",
    "from stable_baselines3 import PPO\n",
    "from stable_baselines3.common.env_util import make_vec_env\n",
    "from stable_baselines3.common.evaluation import evaluate_policy\n",
    "\n"
   ]
  },
  {
   "cell_type": "code",
   "execution_count": 57,
   "outputs": [],
   "source": [
    "carbon_intensity = pd.read_csv('Datasets/Carbon_intensity_processed_hourly.csv')\n",
    "electricity_usage = pd.read_csv('Datasets/Household_processed_hourly.csv')"
   ],
   "metadata": {
    "collapsed": false,
    "ExecuteTime": {
     "end_time": "2024-05-16T20:00:55.847641900Z",
     "start_time": "2024-05-16T20:00:55.478078200Z"
    }
   },
   "id": "9acea165d31417fc"
  },
  {
   "cell_type": "code",
   "execution_count": 58,
   "outputs": [],
   "source": [
    "carbon_intensity['Datetime (UTC)'] = pd.to_datetime(carbon_intensity['Datetime (UTC)'], utc=True)\n",
    "carbon_intensity = carbon_intensity.set_index('Datetime (UTC)')\n",
    "carbon_intensity.index = carbon_intensity.index.tz_convert(None)\n",
    "carbon_intensity = carbon_intensity['Carbon Intensity gCO₂eq/kWh (LCA)']\n"
   ],
   "metadata": {
    "collapsed": false,
    "ExecuteTime": {
     "end_time": "2024-05-16T20:00:55.877633300Z",
     "start_time": "2024-05-16T20:00:55.577145Z"
    }
   },
   "id": "ac609cd148501070"
  },
  {
   "cell_type": "code",
   "execution_count": 59,
   "outputs": [],
   "source": [
    "c_int = np.asarray(carbon_intensity['2021-07-05 00:00:00':'2021-12-05 21:00:00'],dtype=int)"
   ],
   "metadata": {
    "collapsed": false,
    "ExecuteTime": {
     "end_time": "2024-05-16T20:00:55.877633300Z",
     "start_time": "2024-05-16T20:00:55.585595200Z"
    }
   },
   "id": "b52da773c2a0fbe1"
  },
  {
   "cell_type": "code",
   "execution_count": 60,
   "outputs": [],
   "source": [
    "electricity_usage['date'] = pd.to_datetime(electricity_usage['date'], utc=True)\n",
    "electricity_usage= electricity_usage.set_index('date')\n",
    "electricity_usage.index = electricity_usage.index.tz_convert(None)\n",
    "electricity_usage = electricity_usage['energy meter val']"
   ],
   "metadata": {
    "collapsed": false,
    "ExecuteTime": {
     "end_time": "2024-05-16T20:00:55.878643200Z",
     "start_time": "2024-05-16T20:00:55.601293Z"
    }
   },
   "id": "11cd1e0acf3bf76b"
  },
  {
   "cell_type": "code",
   "execution_count": 61,
   "outputs": [],
   "source": [
    "e_usage = np.asarray([(i * 10) for i in electricity_usage['2015-07-05 00:00:00':]], dtype=int)"
   ],
   "metadata": {
    "collapsed": false,
    "ExecuteTime": {
     "end_time": "2024-05-16T20:00:55.878643200Z",
     "start_time": "2024-05-16T20:00:55.606300200Z"
    }
   },
   "id": "ccc36b6530c936ca"
  },
  {
   "cell_type": "markdown",
   "source": [
    "----------------------"
   ],
   "metadata": {
    "collapsed": false
   },
   "id": "9b532a69a5187653"
  },
  {
   "cell_type": "code",
   "execution_count": 62,
   "outputs": [],
   "source": [
    "evaluation_data = pd.DataFrame()\n",
    "hourly_emission_difference = []\n",
    "hourly_battery_level = []\n",
    "hourly_baseline_em = []\n",
    "hourly_battery_em = []\n",
    "decision_hist = []\n",
    "reward_hist = []\n",
    "total_emissions_saved = 0\n"
   ],
   "metadata": {
    "collapsed": false,
    "ExecuteTime": {
     "end_time": "2024-05-16T20:00:55.878643200Z",
     "start_time": "2024-05-16T20:00:55.616147Z"
    }
   },
   "id": "cf5973345046501a"
  },
  {
   "cell_type": "code",
   "execution_count": 63,
   "outputs": [],
   "source": [
    "# Constant Environment Vars \n",
    "env_length = 1000 # number of hours\n",
    "battery_size = 1000 #Watt/Hour\n",
    "charge_discharge_rate = 250 #Watt/Hour"
   ],
   "metadata": {
    "collapsed": false,
    "ExecuteTime": {
     "end_time": "2024-05-16T20:00:55.878643200Z",
     "start_time": "2024-05-16T20:00:55.623680500Z"
    }
   },
   "id": "7172a12dafdf059c"
  },
  {
   "cell_type": "code",
   "execution_count": 64,
   "outputs": [],
   "source": [
    "def get_carbon_emissions(c_int, e_usage):\n",
    "    em = c_int * (e_usage/1000)\n",
    "    return em"
   ],
   "metadata": {
    "collapsed": false,
    "ExecuteTime": {
     "end_time": "2024-05-16T20:00:55.878643200Z",
     "start_time": "2024-05-16T20:00:55.631676300Z"
    }
   },
   "id": "1138f83050a4d0ee"
  },
  {
   "cell_type": "code",
   "execution_count": 65,
   "outputs": [],
   "source": [
    "def reward_algo(self):\n",
    "    curr_delta = self.emissions_baseline - self.emissions_with_battery\n",
    "    if curr_delta > self.state[\"old_em_delta\"]:\n",
    "        reward_hist.append(1)\n",
    "        return 1\n",
    "    else:\n",
    "        reward_hist.append(-1)\n",
    "        return -1"
   ],
   "metadata": {
    "collapsed": false,
    "ExecuteTime": {
     "end_time": "2024-05-16T20:00:55.878643200Z",
     "start_time": "2024-05-16T20:00:55.639688Z"
    }
   },
   "id": "5ad53d73b3785341"
  },
  {
   "cell_type": "code",
   "execution_count": 66,
   "outputs": [],
   "source": [
    "def is_done(self):\n",
    "    if self.length == 0:\n",
    "        return True\n",
    "    else:\n",
    "        return False"
   ],
   "metadata": {
    "collapsed": false,
    "ExecuteTime": {
     "end_time": "2024-05-16T20:00:55.878643200Z",
     "start_time": "2024-05-16T20:00:55.645691Z"
    }
   },
   "id": "d108dc74de5e8913"
  },
  {
   "cell_type": "code",
   "execution_count": 67,
   "outputs": [],
   "source": [
    "class Environment(Env):\n",
    "    def __init__(self):\n",
    "        super().__init__()\n",
    "        # Actions are discharge(-1), nothing (0) and charge (1)\n",
    "        self.action_space = Discrete(3)\n",
    "        self.observation_space = spaces.Dict({\n",
    "                \"carbon_int\" : spaces.Box(low = 0, high = 100000, shape=(1,), dtype=int),\n",
    "                \"electric_usage\" : spaces.Box(low = 0, high = 10000, shape=(1,), dtype=int),\n",
    "                \"battery_charge\" : spaces.Box(low = 0, high = battery_size, shape=(1,), dtype=int),\n",
    "                \"old_em_delta\" : spaces.Box(low = -np.inf, high = np.inf, shape=(1,), dtype=int)\n",
    "            }\n",
    "        )            \n",
    "        \n",
    "        self.c_int = c_int\n",
    "        self.e_usage = e_usage\n",
    "        self.length = env_length\n",
    "        self.hour_index = 0\n",
    "        self.emissions_baseline = 0\n",
    "        self.emissions_with_battery = 0\n",
    "        \n",
    "        self.state = {\n",
    "            \"carbon_int\": np.array([self.c_int[0]]),\n",
    "            \"electric_usage\": np.array([self.e_usage[0]]),\n",
    "            \"battery_charge\": np.array([0]),\n",
    "            \"old_em_delta\": np.array([0]),\n",
    "        }\n",
    "        \n",
    "    def step(self, action):\n",
    "\n",
    "        if self.state[\"old_em_delta\"] != [0]:\n",
    "          self.state.update({\"old_em_delta\" : self.emissions_baseline - self.emissions_with_battery})\n",
    "\n",
    "        curr_c_int = self.state[\"carbon_int\"]\n",
    "        curr_e_usage = self.state[\"electric_usage\"]\n",
    "        curr_charge = self.state[\"battery_charge\"]\n",
    "        \n",
    "        baseline_em_now = get_carbon_emissions(curr_c_int, curr_e_usage)\n",
    "        self.emissions_baseline = self.emissions_baseline + baseline_em_now\n",
    "        hourly_baseline_em.append(baseline_em_now)\n",
    "        \n",
    "\n",
    "        # Perform 'game logic' for each possible agent action\n",
    "        if action == 0 and curr_charge >= 0:\n",
    "            decision_hist.append(\"Discharged\")\n",
    "            if curr_charge > charge_discharge_rate:\n",
    "                em_new = get_carbon_emissions(curr_c_int, curr_e_usage - charge_discharge_rate)\n",
    "                hourly_battery_em.append(em_new)\n",
    "                self.emissions_with_battery = self.emissions_with_battery + em_new\n",
    "                new_battery_charge_val = curr_charge - charge_discharge_rate\n",
    "                hourly_battery_level.append(new_battery_charge_val)\n",
    "                self.state.update({\"battery_charge\" : new_battery_charge_val})\n",
    "            elif 0 <= curr_charge <= charge_discharge_rate:\n",
    "                em_new = get_carbon_emissions(curr_c_int, curr_e_usage - curr_charge)\n",
    "                hourly_battery_em.append(em_new)\n",
    "                self.emissions_with_battery = self.emissions_with_battery + em_new\n",
    "                new_battery_charge_val = np.array([0])\n",
    "                hourly_battery_level.append(new_battery_charge_val)\n",
    "                self.state.update({\"battery_charge\" : new_battery_charge_val})\n",
    "            \n",
    "        elif action == 1:\n",
    "            decision_hist.append(\"Nothing\")\n",
    "            hourly_battery_level.append(curr_charge)\n",
    "            em_new = get_carbon_emissions(curr_c_int,curr_e_usage)\n",
    "            hourly_battery_em.append(em_new)\n",
    "            self.emissions_with_battery = self.emissions_with_battery + em_new\n",
    "            \n",
    "        elif action == 2 and curr_charge <= battery_size:\n",
    "            decision_hist.append(\"Charged\")\n",
    "            if (battery_size - charge_discharge_rate) <= curr_charge <= battery_size:\n",
    "                em_new = get_carbon_emissions(curr_c_int, curr_e_usage + (battery_size - curr_charge))\n",
    "                hourly_battery_em.append(em_new)\n",
    "                self.emissions_with_battery = self.emissions_with_battery + em_new\n",
    "                new_battery_charge_val = np.array([battery_size])\n",
    "                hourly_battery_level.append(new_battery_charge_val)\n",
    "                self.state.update({\"battery_charge\" : new_battery_charge_val})\n",
    "            elif 0 <= curr_charge < (battery_size - charge_discharge_rate):\n",
    "                em_new = get_carbon_emissions(curr_c_int, curr_e_usage + charge_discharge_rate)\n",
    "                hourly_battery_em.append(em_new)\n",
    "                self.emissions_with_battery = self.emissions_with_battery + em_new\n",
    "                new_battery_charge_val = curr_charge + charge_discharge_rate\n",
    "                hourly_battery_level.append(new_battery_charge_val)\n",
    "                self.state.update({\"battery_charge\" : new_battery_charge_val})\n",
    "        else:\n",
    "            decision_hist.append(\"PASSED\")\n",
    "            print(\"Smth weird happened\")\n",
    "            pass\n",
    "        \n",
    "        \n",
    "        hourly_emission_difference.append(self.emissions_baseline-self.emissions_with_battery)\n",
    "        \n",
    "        # Update env variables\n",
    "        self.length = self.length - 1\n",
    "        self.hour_index = self.hour_index + 1\n",
    "        # Go to next state\n",
    "        self.state.update({\"carbon_int\": np.array([self.c_int[self.hour_index]])})\n",
    "        self.state.update({\"electric_usage\": np.array([self.e_usage[self.hour_index]])})\n",
    "\n",
    "        # Update reward\n",
    "        reward = reward_algo(self)\n",
    "            \n",
    "        # Check if finished\n",
    "        done = is_done(self)\n",
    "        \n",
    "        info = {}\n",
    "        truncated = False\n",
    "        return self.state, reward, done, truncated, info\n",
    "    \n",
    "    \n",
    "    def reset(self, seed = None, options = None):\n",
    "        self.state = {\n",
    "            \"carbon_int\": np.array([self.c_int[0]]),\n",
    "            \"electric_usage\": np.array([self.e_usage[0]]),\n",
    "            \"battery_charge\": np.array([0]),\n",
    "            \"old_em_delta\" : np.array([0]),\n",
    "        } \n",
    "        self.c_int = c_int\n",
    "        self.e_usage = e_usage\n",
    "        self.length = env_length\n",
    "        self.hour_index = 0\n",
    "        self.emissions_baseline = 0\n",
    "        self.emissions_with_battery = 0\n",
    "\n",
    "        info = {}\n",
    "        \n",
    "        return self.state, info"
   ],
   "metadata": {
    "collapsed": false,
    "ExecuteTime": {
     "end_time": "2024-05-16T20:00:55.879633300Z",
     "start_time": "2024-05-16T20:00:55.656673600Z"
    }
   },
   "id": "84894bb74b346dcc"
  },
  {
   "cell_type": "code",
   "execution_count": 68,
   "outputs": [],
   "source": [
    "env = Environment()"
   ],
   "metadata": {
    "collapsed": false,
    "ExecuteTime": {
     "end_time": "2024-05-16T20:00:55.879633300Z",
     "start_time": "2024-05-16T20:00:55.674669600Z"
    }
   },
   "id": "3f3b92941a4d0be2"
  },
  {
   "cell_type": "code",
   "execution_count": 69,
   "outputs": [],
   "source": [
    "from stable_baselines3.common.env_checker import check_env\n",
    "check_env(env)"
   ],
   "metadata": {
    "collapsed": false,
    "ExecuteTime": {
     "end_time": "2024-05-16T20:00:55.879633300Z",
     "start_time": "2024-05-16T20:00:55.684667200Z"
    }
   },
   "id": "489b8e147a6da2d2"
  },
  {
   "cell_type": "code",
   "execution_count": 70,
   "outputs": [],
   "source": [
    "# episodes = 5\n",
    "# for episode in range(1, episodes+1):\n",
    "#     state = env.reset()\n",
    "#     done = False\n",
    "#     score = 0\n",
    "# \n",
    "#     while not done:\n",
    "#         action = env.action_space.sample() # Random actions here\n",
    "#         n_state, reward, done, truncated, info = env.step(action)\n",
    "#         score+=reward\n",
    "#     print('Episode:{} Score:{}'.format(episode, score))"
   ],
   "metadata": {
    "collapsed": false,
    "ExecuteTime": {
     "end_time": "2024-05-16T20:00:55.879633300Z",
     "start_time": "2024-05-16T20:00:55.696666600Z"
    }
   },
   "id": "22b8929025289b30"
  },
  {
   "cell_type": "code",
   "execution_count": 71,
   "outputs": [
    {
     "name": "stdout",
     "output_type": "stream",
     "text": [
      "Using cuda device\n",
      "Wrapping the env with a `Monitor` wrapper\n",
      "Wrapping the env in a DummyVecEnv.\n"
     ]
    }
   ],
   "source": [
    "log_path = os.path.join('Training', 'Logs')\n",
    "# vec_env = make_vec_env(env, n_envs=4)\n",
    "model = PPO(\"MultiInputPolicy\", env, verbose=1, tensorboard_log = log_path)\n",
    "# model = DQN('MultiInputPolicy', env, verbose = 1, tensorboard_log = log_path)"
   ],
   "metadata": {
    "collapsed": false,
    "ExecuteTime": {
     "end_time": "2024-05-16T20:00:55.880634500Z",
     "start_time": "2024-05-16T20:00:55.703678900Z"
    }
   },
   "id": "895e02aed605d28"
  },
  {
   "cell_type": "code",
   "execution_count": 72,
   "outputs": [
    {
     "name": "stdout",
     "output_type": "stream",
     "text": [
      "Logging to Training/Logs/PPO_6\n",
      "---------------------------------\n",
      "| rollout/           |          |\n",
      "|    ep_len_mean     | 1e+03    |\n",
      "|    ep_rew_mean     | -223     |\n",
      "| time/              |          |\n",
      "|    fps             | 297      |\n",
      "|    iterations      | 1        |\n",
      "|    time_elapsed    | 6        |\n",
      "|    total_timesteps | 2048     |\n",
      "---------------------------------\n",
      "-----------------------------------------\n",
      "| rollout/                |             |\n",
      "|    ep_len_mean          | 1e+03       |\n",
      "|    ep_rew_mean          | -194        |\n",
      "| time/                   |             |\n",
      "|    fps                  | 249         |\n",
      "|    iterations           | 2           |\n",
      "|    time_elapsed         | 16          |\n",
      "|    total_timesteps      | 4096        |\n",
      "| train/                  |             |\n",
      "|    approx_kl            | 0.011354081 |\n",
      "|    clip_fraction        | 0.105       |\n",
      "|    clip_range           | 0.2         |\n",
      "|    entropy_loss         | -1.09       |\n",
      "|    explained_variance   | -0.0023     |\n",
      "|    learning_rate        | 0.0003      |\n",
      "|    loss                 | 57.6        |\n",
      "|    n_updates            | 10          |\n",
      "|    policy_gradient_loss | -0.00915    |\n",
      "|    value_loss           | 144         |\n",
      "-----------------------------------------\n",
      "-----------------------------------------\n",
      "| rollout/                |             |\n",
      "|    ep_len_mean          | 1e+03       |\n",
      "|    ep_rew_mean          | -113        |\n",
      "| time/                   |             |\n",
      "|    fps                  | 252         |\n",
      "|    iterations           | 3           |\n",
      "|    time_elapsed         | 24          |\n",
      "|    total_timesteps      | 6144        |\n",
      "| train/                  |             |\n",
      "|    approx_kl            | 0.010262638 |\n",
      "|    clip_fraction        | 0.085       |\n",
      "|    clip_range           | 0.2         |\n",
      "|    entropy_loss         | -1.07       |\n",
      "|    explained_variance   | 0.000234    |\n",
      "|    learning_rate        | 0.0003      |\n",
      "|    loss                 | 85.2        |\n",
      "|    n_updates            | 20          |\n",
      "|    policy_gradient_loss | -0.0108     |\n",
      "|    value_loss           | 166         |\n",
      "-----------------------------------------\n",
      "-----------------------------------------\n",
      "| rollout/                |             |\n",
      "|    ep_len_mean          | 1e+03       |\n",
      "|    ep_rew_mean          | 98.8        |\n",
      "| time/                   |             |\n",
      "|    fps                  | 254         |\n",
      "|    iterations           | 4           |\n",
      "|    time_elapsed         | 32          |\n",
      "|    total_timesteps      | 8192        |\n",
      "| train/                  |             |\n",
      "|    approx_kl            | 0.010893835 |\n",
      "|    clip_fraction        | 0.154       |\n",
      "|    clip_range           | 0.2         |\n",
      "|    entropy_loss         | -1.04       |\n",
      "|    explained_variance   | 0.0395      |\n",
      "|    learning_rate        | 0.0003      |\n",
      "|    loss                 | 68.2        |\n",
      "|    n_updates            | 30          |\n",
      "|    policy_gradient_loss | -0.0188     |\n",
      "|    value_loss           | 148         |\n",
      "-----------------------------------------\n",
      "-----------------------------------------\n",
      "| rollout/                |             |\n",
      "|    ep_len_mean          | 1e+03       |\n",
      "|    ep_rew_mean          | 17.2        |\n",
      "| time/                   |             |\n",
      "|    fps                  | 259         |\n",
      "|    iterations           | 5           |\n",
      "|    time_elapsed         | 39          |\n",
      "|    total_timesteps      | 10240       |\n",
      "| train/                  |             |\n",
      "|    approx_kl            | 0.011274613 |\n",
      "|    clip_fraction        | 0.123       |\n",
      "|    clip_range           | 0.2         |\n",
      "|    entropy_loss         | -0.992      |\n",
      "|    explained_variance   | -0.044      |\n",
      "|    learning_rate        | 0.0003      |\n",
      "|    loss                 | 36.2        |\n",
      "|    n_updates            | 40          |\n",
      "|    policy_gradient_loss | -0.0121     |\n",
      "|    value_loss           | 80.1        |\n",
      "-----------------------------------------\n",
      "-----------------------------------------\n",
      "| rollout/                |             |\n",
      "|    ep_len_mean          | 1e+03       |\n",
      "|    ep_rew_mean          | -35         |\n",
      "| time/                   |             |\n",
      "|    fps                  | 264         |\n",
      "|    iterations           | 6           |\n",
      "|    time_elapsed         | 46          |\n",
      "|    total_timesteps      | 12288       |\n",
      "| train/                  |             |\n",
      "|    approx_kl            | 0.009592591 |\n",
      "|    clip_fraction        | 0.0572      |\n",
      "|    clip_range           | 0.2         |\n",
      "|    entropy_loss         | -0.965      |\n",
      "|    explained_variance   | 0.00557     |\n",
      "|    learning_rate        | 0.0003      |\n",
      "|    loss                 | 78          |\n",
      "|    n_updates            | 50          |\n",
      "|    policy_gradient_loss | -0.00681    |\n",
      "|    value_loss           | 182         |\n",
      "-----------------------------------------\n",
      "------------------------------------------\n",
      "| rollout/                |              |\n",
      "|    ep_len_mean          | 1e+03        |\n",
      "|    ep_rew_mean          | -172         |\n",
      "| time/                   |              |\n",
      "|    fps                  | 259          |\n",
      "|    iterations           | 7            |\n",
      "|    time_elapsed         | 55           |\n",
      "|    total_timesteps      | 14336        |\n",
      "| train/                  |              |\n",
      "|    approx_kl            | 0.0101388525 |\n",
      "|    clip_fraction        | 0.0418       |\n",
      "|    clip_range           | 0.2          |\n",
      "|    entropy_loss         | -0.929       |\n",
      "|    explained_variance   | 0.00483      |\n",
      "|    learning_rate        | 0.0003       |\n",
      "|    loss                 | 71.7         |\n",
      "|    n_updates            | 60           |\n",
      "|    policy_gradient_loss | -0.00613     |\n",
      "|    value_loss           | 163          |\n",
      "------------------------------------------\n",
      "------------------------------------------\n",
      "| rollout/                |              |\n",
      "|    ep_len_mean          | 1e+03        |\n",
      "|    ep_rew_mean          | -182         |\n",
      "| time/                   |              |\n",
      "|    fps                  | 255          |\n",
      "|    iterations           | 8            |\n",
      "|    time_elapsed         | 64           |\n",
      "|    total_timesteps      | 16384        |\n",
      "| train/                  |              |\n",
      "|    approx_kl            | 0.0052986755 |\n",
      "|    clip_fraction        | 0.0588       |\n",
      "|    clip_range           | 0.2          |\n",
      "|    entropy_loss         | -0.899       |\n",
      "|    explained_variance   | -0.00688     |\n",
      "|    learning_rate        | 0.0003       |\n",
      "|    loss                 | 56.1         |\n",
      "|    n_updates            | 70           |\n",
      "|    policy_gradient_loss | 0.000388     |\n",
      "|    value_loss           | 116          |\n",
      "------------------------------------------\n",
      "-----------------------------------------\n",
      "| rollout/                |             |\n",
      "|    ep_len_mean          | 1e+03       |\n",
      "|    ep_rew_mean          | -252        |\n",
      "| time/                   |             |\n",
      "|    fps                  | 258         |\n",
      "|    iterations           | 9           |\n",
      "|    time_elapsed         | 71          |\n",
      "|    total_timesteps      | 18432       |\n",
      "| train/                  |             |\n",
      "|    approx_kl            | 0.007908904 |\n",
      "|    clip_fraction        | 0.0677      |\n",
      "|    clip_range           | 0.2         |\n",
      "|    entropy_loss         | -0.884      |\n",
      "|    explained_variance   | 0.00145     |\n",
      "|    learning_rate        | 0.0003      |\n",
      "|    loss                 | 60          |\n",
      "|    n_updates            | 80          |\n",
      "|    policy_gradient_loss | -0.00428    |\n",
      "|    value_loss           | 161         |\n",
      "-----------------------------------------\n",
      "----------------------------------------\n",
      "| rollout/                |            |\n",
      "|    ep_len_mean          | 1e+03      |\n",
      "|    ep_rew_mean          | -177       |\n",
      "| time/                   |            |\n",
      "|    fps                  | 261        |\n",
      "|    iterations           | 10         |\n",
      "|    time_elapsed         | 78         |\n",
      "|    total_timesteps      | 20480      |\n",
      "| train/                  |            |\n",
      "|    approx_kl            | 0.01142635 |\n",
      "|    clip_fraction        | 0.0602     |\n",
      "|    clip_range           | 0.2        |\n",
      "|    entropy_loss         | -0.872     |\n",
      "|    explained_variance   | 0.00814    |\n",
      "|    learning_rate        | 0.0003     |\n",
      "|    loss                 | 44.1       |\n",
      "|    n_updates            | 90         |\n",
      "|    policy_gradient_loss | -0.00646   |\n",
      "|    value_loss           | 120        |\n",
      "----------------------------------------\n",
      "-----------------------------------------\n",
      "| rollout/                |             |\n",
      "|    ep_len_mean          | 1e+03       |\n",
      "|    ep_rew_mean          | -221        |\n",
      "| time/                   |             |\n",
      "|    fps                  | 263         |\n",
      "|    iterations           | 11          |\n",
      "|    time_elapsed         | 85          |\n",
      "|    total_timesteps      | 22528       |\n",
      "| train/                  |             |\n",
      "|    approx_kl            | 0.008060273 |\n",
      "|    clip_fraction        | 0.0299      |\n",
      "|    clip_range           | 0.2         |\n",
      "|    entropy_loss         | -0.851      |\n",
      "|    explained_variance   | -0.0082     |\n",
      "|    learning_rate        | 0.0003      |\n",
      "|    loss                 | 62.8        |\n",
      "|    n_updates            | 100         |\n",
      "|    policy_gradient_loss | -0.00337    |\n",
      "|    value_loss           | 148         |\n",
      "-----------------------------------------\n",
      "-----------------------------------------\n",
      "| rollout/                |             |\n",
      "|    ep_len_mean          | 1e+03       |\n",
      "|    ep_rew_mean          | -133        |\n",
      "| time/                   |             |\n",
      "|    fps                  | 265         |\n",
      "|    iterations           | 12          |\n",
      "|    time_elapsed         | 92          |\n",
      "|    total_timesteps      | 24576       |\n",
      "| train/                  |             |\n",
      "|    approx_kl            | 0.005593554 |\n",
      "|    clip_fraction        | 0.00684     |\n",
      "|    clip_range           | 0.2         |\n",
      "|    entropy_loss         | -0.845      |\n",
      "|    explained_variance   | 0.000168    |\n",
      "|    learning_rate        | 0.0003      |\n",
      "|    loss                 | 94.7        |\n",
      "|    n_updates            | 110         |\n",
      "|    policy_gradient_loss | -0.000854   |\n",
      "|    value_loss           | 181         |\n",
      "-----------------------------------------\n",
      "------------------------------------------\n",
      "| rollout/                |              |\n",
      "|    ep_len_mean          | 1e+03        |\n",
      "|    ep_rew_mean          | -99.5        |\n",
      "| time/                   |              |\n",
      "|    fps                  | 265          |\n",
      "|    iterations           | 13           |\n",
      "|    time_elapsed         | 100          |\n",
      "|    total_timesteps      | 26624        |\n",
      "| train/                  |              |\n",
      "|    approx_kl            | 0.0093569765 |\n",
      "|    clip_fraction        | 0.0266       |\n",
      "|    clip_range           | 0.2          |\n",
      "|    entropy_loss         | -0.847       |\n",
      "|    explained_variance   | -0.00635     |\n",
      "|    learning_rate        | 0.0003       |\n",
      "|    loss                 | 60.1         |\n",
      "|    n_updates            | 120          |\n",
      "|    policy_gradient_loss | -0.00388     |\n",
      "|    value_loss           | 186          |\n",
      "------------------------------------------\n",
      "-----------------------------------------\n",
      "| rollout/                |             |\n",
      "|    ep_len_mean          | 1e+03       |\n",
      "|    ep_rew_mean          | -108        |\n",
      "| time/                   |             |\n",
      "|    fps                  | 267         |\n",
      "|    iterations           | 14          |\n",
      "|    time_elapsed         | 107         |\n",
      "|    total_timesteps      | 28672       |\n",
      "| train/                  |             |\n",
      "|    approx_kl            | 0.009609247 |\n",
      "|    clip_fraction        | 0.0642      |\n",
      "|    clip_range           | 0.2         |\n",
      "|    entropy_loss         | -0.818      |\n",
      "|    explained_variance   | 0.000759    |\n",
      "|    learning_rate        | 0.0003      |\n",
      "|    loss                 | 90.1        |\n",
      "|    n_updates            | 130         |\n",
      "|    policy_gradient_loss | -0.004      |\n",
      "|    value_loss           | 164         |\n",
      "-----------------------------------------\n",
      "-----------------------------------------\n",
      "| rollout/                |             |\n",
      "|    ep_len_mean          | 1e+03       |\n",
      "|    ep_rew_mean          | -114        |\n",
      "| time/                   |             |\n",
      "|    fps                  | 266         |\n",
      "|    iterations           | 15          |\n",
      "|    time_elapsed         | 115         |\n",
      "|    total_timesteps      | 30720       |\n",
      "| train/                  |             |\n",
      "|    approx_kl            | 0.009437902 |\n",
      "|    clip_fraction        | 0.037       |\n",
      "|    clip_range           | 0.2         |\n",
      "|    entropy_loss         | -0.757      |\n",
      "|    explained_variance   | 0.000331    |\n",
      "|    learning_rate        | 0.0003      |\n",
      "|    loss                 | 110         |\n",
      "|    n_updates            | 140         |\n",
      "|    policy_gradient_loss | -0.00352    |\n",
      "|    value_loss           | 210         |\n",
      "-----------------------------------------\n",
      "-----------------------------------------\n",
      "| rollout/                |             |\n",
      "|    ep_len_mean          | 1e+03       |\n",
      "|    ep_rew_mean          | -135        |\n",
      "| time/                   |             |\n",
      "|    fps                  | 267         |\n",
      "|    iterations           | 16          |\n",
      "|    time_elapsed         | 122         |\n",
      "|    total_timesteps      | 32768       |\n",
      "| train/                  |             |\n",
      "|    approx_kl            | 0.004280331 |\n",
      "|    clip_fraction        | 0.02        |\n",
      "|    clip_range           | 0.2         |\n",
      "|    entropy_loss         | -0.761      |\n",
      "|    explained_variance   | -0.00406    |\n",
      "|    learning_rate        | 0.0003      |\n",
      "|    loss                 | 101         |\n",
      "|    n_updates            | 150         |\n",
      "|    policy_gradient_loss | -0.00151    |\n",
      "|    value_loss           | 187         |\n",
      "-----------------------------------------\n",
      "------------------------------------------\n",
      "| rollout/                |              |\n",
      "|    ep_len_mean          | 1e+03        |\n",
      "|    ep_rew_mean          | -126         |\n",
      "| time/                   |              |\n",
      "|    fps                  | 268          |\n",
      "|    iterations           | 17           |\n",
      "|    time_elapsed         | 129          |\n",
      "|    total_timesteps      | 34816        |\n",
      "| train/                  |              |\n",
      "|    approx_kl            | 0.0028437485 |\n",
      "|    clip_fraction        | 0.0241       |\n",
      "|    clip_range           | 0.2          |\n",
      "|    entropy_loss         | -0.734       |\n",
      "|    explained_variance   | -0.00135     |\n",
      "|    learning_rate        | 0.0003       |\n",
      "|    loss                 | 97.3         |\n",
      "|    n_updates            | 160          |\n",
      "|    policy_gradient_loss | -0.00209     |\n",
      "|    value_loss           | 192          |\n",
      "------------------------------------------\n",
      "-----------------------------------------\n",
      "| rollout/                |             |\n",
      "|    ep_len_mean          | 1e+03       |\n",
      "|    ep_rew_mean          | -123        |\n",
      "| time/                   |             |\n",
      "|    fps                  | 269         |\n",
      "|    iterations           | 18          |\n",
      "|    time_elapsed         | 136         |\n",
      "|    total_timesteps      | 36864       |\n",
      "| train/                  |             |\n",
      "|    approx_kl            | 0.009016766 |\n",
      "|    clip_fraction        | 0.0723      |\n",
      "|    clip_range           | 0.2         |\n",
      "|    entropy_loss         | -0.678      |\n",
      "|    explained_variance   | -0.000228   |\n",
      "|    learning_rate        | 0.0003      |\n",
      "|    loss                 | 96          |\n",
      "|    n_updates            | 170         |\n",
      "|    policy_gradient_loss | -0.00586    |\n",
      "|    value_loss           | 223         |\n",
      "-----------------------------------------\n",
      "-----------------------------------------\n",
      "| rollout/                |             |\n",
      "|    ep_len_mean          | 1e+03       |\n",
      "|    ep_rew_mean          | -128        |\n",
      "| time/                   |             |\n",
      "|    fps                  | 270         |\n",
      "|    iterations           | 19          |\n",
      "|    time_elapsed         | 144         |\n",
      "|    total_timesteps      | 38912       |\n",
      "| train/                  |             |\n",
      "|    approx_kl            | 0.004645688 |\n",
      "|    clip_fraction        | 0.0127      |\n",
      "|    clip_range           | 0.2         |\n",
      "|    entropy_loss         | -0.628      |\n",
      "|    explained_variance   | -0.00043    |\n",
      "|    learning_rate        | 0.0003      |\n",
      "|    loss                 | 113         |\n",
      "|    n_updates            | 180         |\n",
      "|    policy_gradient_loss | -0.00145    |\n",
      "|    value_loss           | 214         |\n",
      "-----------------------------------------\n",
      "------------------------------------------\n",
      "| rollout/                |              |\n",
      "|    ep_len_mean          | 1e+03        |\n",
      "|    ep_rew_mean          | -86.1        |\n",
      "| time/                   |              |\n",
      "|    fps                  | 270          |\n",
      "|    iterations           | 20           |\n",
      "|    time_elapsed         | 151          |\n",
      "|    total_timesteps      | 40960        |\n",
      "| train/                  |              |\n",
      "|    approx_kl            | 0.0012628193 |\n",
      "|    clip_fraction        | 0.00498      |\n",
      "|    clip_range           | 0.2          |\n",
      "|    entropy_loss         | -0.618       |\n",
      "|    explained_variance   | -0.00085     |\n",
      "|    learning_rate        | 0.0003       |\n",
      "|    loss                 | 128          |\n",
      "|    n_updates            | 190          |\n",
      "|    policy_gradient_loss | -0.00171     |\n",
      "|    value_loss           | 238          |\n",
      "------------------------------------------\n",
      "-----------------------------------------\n",
      "| rollout/                |             |\n",
      "|    ep_len_mean          | 1e+03       |\n",
      "|    ep_rew_mean          | -97         |\n",
      "| time/                   |             |\n",
      "|    fps                  | 271         |\n",
      "|    iterations           | 21          |\n",
      "|    time_elapsed         | 158         |\n",
      "|    total_timesteps      | 43008       |\n",
      "| train/                  |             |\n",
      "|    approx_kl            | 0.002810277 |\n",
      "|    clip_fraction        | 0.0043      |\n",
      "|    clip_range           | 0.2         |\n",
      "|    entropy_loss         | -0.593      |\n",
      "|    explained_variance   | 0.000111    |\n",
      "|    learning_rate        | 0.0003      |\n",
      "|    loss                 | 124         |\n",
      "|    n_updates            | 200         |\n",
      "|    policy_gradient_loss | -0.000903   |\n",
      "|    value_loss           | 245         |\n",
      "-----------------------------------------\n",
      "------------------------------------------\n",
      "| rollout/                |              |\n",
      "|    ep_len_mean          | 1e+03        |\n",
      "|    ep_rew_mean          | -69.1        |\n",
      "| time/                   |              |\n",
      "|    fps                  | 272          |\n",
      "|    iterations           | 22           |\n",
      "|    time_elapsed         | 165          |\n",
      "|    total_timesteps      | 45056        |\n",
      "| train/                  |              |\n",
      "|    approx_kl            | 0.0025886772 |\n",
      "|    clip_fraction        | 0.0152       |\n",
      "|    clip_range           | 0.2          |\n",
      "|    entropy_loss         | -0.559       |\n",
      "|    explained_variance   | -0.000571    |\n",
      "|    learning_rate        | 0.0003       |\n",
      "|    loss                 | 124          |\n",
      "|    n_updates            | 210          |\n",
      "|    policy_gradient_loss | -0.00124     |\n",
      "|    value_loss           | 253          |\n",
      "------------------------------------------\n",
      "-----------------------------------------\n",
      "| rollout/                |             |\n",
      "|    ep_len_mean          | 1e+03       |\n",
      "|    ep_rew_mean          | -87.9       |\n",
      "| time/                   |             |\n",
      "|    fps                  | 272         |\n",
      "|    iterations           | 23          |\n",
      "|    time_elapsed         | 172         |\n",
      "|    total_timesteps      | 47104       |\n",
      "| train/                  |             |\n",
      "|    approx_kl            | 0.005229272 |\n",
      "|    clip_fraction        | 0.0311      |\n",
      "|    clip_range           | 0.2         |\n",
      "|    entropy_loss         | -0.531      |\n",
      "|    explained_variance   | 0.00168     |\n",
      "|    learning_rate        | 0.0003      |\n",
      "|    loss                 | 79.2        |\n",
      "|    n_updates            | 220         |\n",
      "|    policy_gradient_loss | -0.00262    |\n",
      "|    value_loss           | 179         |\n",
      "-----------------------------------------\n",
      "-----------------------------------------\n",
      "| rollout/                |             |\n",
      "|    ep_len_mean          | 1e+03       |\n",
      "|    ep_rew_mean          | -125        |\n",
      "| time/                   |             |\n",
      "|    fps                  | 274         |\n",
      "|    iterations           | 24          |\n",
      "|    time_elapsed         | 178         |\n",
      "|    total_timesteps      | 49152       |\n",
      "| train/                  |             |\n",
      "|    approx_kl            | 0.003011657 |\n",
      "|    clip_fraction        | 0.0148      |\n",
      "|    clip_range           | 0.2         |\n",
      "|    entropy_loss         | -0.493      |\n",
      "|    explained_variance   | -0.00232    |\n",
      "|    learning_rate        | 0.0003      |\n",
      "|    loss                 | 104         |\n",
      "|    n_updates            | 230         |\n",
      "|    policy_gradient_loss | -0.0013     |\n",
      "|    value_loss           | 173         |\n",
      "-----------------------------------------\n",
      "----------------------------------------\n",
      "| rollout/                |            |\n",
      "|    ep_len_mean          | 1e+03      |\n",
      "|    ep_rew_mean          | -123       |\n",
      "| time/                   |            |\n",
      "|    fps                  | 276        |\n",
      "|    iterations           | 25         |\n",
      "|    time_elapsed         | 185        |\n",
      "|    total_timesteps      | 51200      |\n",
      "| train/                  |            |\n",
      "|    approx_kl            | 0.00321707 |\n",
      "|    clip_fraction        | 0.0376     |\n",
      "|    clip_range           | 0.2        |\n",
      "|    entropy_loss         | -0.455     |\n",
      "|    explained_variance   | -0.000956  |\n",
      "|    learning_rate        | 0.0003     |\n",
      "|    loss                 | 9.77       |\n",
      "|    n_updates            | 240        |\n",
      "|    policy_gradient_loss | -0.000374  |\n",
      "|    value_loss           | 75.9       |\n",
      "----------------------------------------\n",
      "------------------------------------------\n",
      "| rollout/                |              |\n",
      "|    ep_len_mean          | 1e+03        |\n",
      "|    ep_rew_mean          | -99.8        |\n",
      "| time/                   |              |\n",
      "|    fps                  | 277          |\n",
      "|    iterations           | 26           |\n",
      "|    time_elapsed         | 191          |\n",
      "|    total_timesteps      | 53248        |\n",
      "| train/                  |              |\n",
      "|    approx_kl            | 0.0019094511 |\n",
      "|    clip_fraction        | 0.0127       |\n",
      "|    clip_range           | 0.2          |\n",
      "|    entropy_loss         | -0.457       |\n",
      "|    explained_variance   | 0.00122      |\n",
      "|    learning_rate        | 0.0003       |\n",
      "|    loss                 | 127          |\n",
      "|    n_updates            | 250          |\n",
      "|    policy_gradient_loss | -0.000896    |\n",
      "|    value_loss           | 242          |\n",
      "------------------------------------------\n",
      "------------------------------------------\n",
      "| rollout/                |              |\n",
      "|    ep_len_mean          | 1e+03        |\n",
      "|    ep_rew_mean          | -111         |\n",
      "| time/                   |              |\n",
      "|    fps                  | 279          |\n",
      "|    iterations           | 27           |\n",
      "|    time_elapsed         | 198          |\n",
      "|    total_timesteps      | 55296        |\n",
      "| train/                  |              |\n",
      "|    approx_kl            | 0.0023402371 |\n",
      "|    clip_fraction        | 0.0232       |\n",
      "|    clip_range           | 0.2          |\n",
      "|    entropy_loss         | -0.496       |\n",
      "|    explained_variance   | -0.00792     |\n",
      "|    learning_rate        | 0.0003       |\n",
      "|    loss                 | 103          |\n",
      "|    n_updates            | 260          |\n",
      "|    policy_gradient_loss | -0.00176     |\n",
      "|    value_loss           | 222          |\n",
      "------------------------------------------\n",
      "------------------------------------------\n",
      "| rollout/                |              |\n",
      "|    ep_len_mean          | 1e+03        |\n",
      "|    ep_rew_mean          | -113         |\n",
      "| time/                   |              |\n",
      "|    fps                  | 280          |\n",
      "|    iterations           | 28           |\n",
      "|    time_elapsed         | 204          |\n",
      "|    total_timesteps      | 57344        |\n",
      "| train/                  |              |\n",
      "|    approx_kl            | 0.0023433082 |\n",
      "|    clip_fraction        | 0.014        |\n",
      "|    clip_range           | 0.2          |\n",
      "|    entropy_loss         | -0.488       |\n",
      "|    explained_variance   | 0.00213      |\n",
      "|    learning_rate        | 0.0003       |\n",
      "|    loss                 | 96.3         |\n",
      "|    n_updates            | 270          |\n",
      "|    policy_gradient_loss | -0.00113     |\n",
      "|    value_loss           | 225          |\n",
      "------------------------------------------\n",
      "------------------------------------------\n",
      "| rollout/                |              |\n",
      "|    ep_len_mean          | 1e+03        |\n",
      "|    ep_rew_mean          | -87.5        |\n",
      "| time/                   |              |\n",
      "|    fps                  | 281          |\n",
      "|    iterations           | 29           |\n",
      "|    time_elapsed         | 210          |\n",
      "|    total_timesteps      | 59392        |\n",
      "| train/                  |              |\n",
      "|    approx_kl            | 0.0014398934 |\n",
      "|    clip_fraction        | 0.0104       |\n",
      "|    clip_range           | 0.2          |\n",
      "|    entropy_loss         | -0.518       |\n",
      "|    explained_variance   | -0.000352    |\n",
      "|    learning_rate        | 0.0003       |\n",
      "|    loss                 | 118          |\n",
      "|    n_updates            | 280          |\n",
      "|    policy_gradient_loss | -0.000786    |\n",
      "|    value_loss           | 241          |\n",
      "------------------------------------------\n",
      "------------------------------------------\n",
      "| rollout/                |              |\n",
      "|    ep_len_mean          | 1e+03        |\n",
      "|    ep_rew_mean          | -74.2        |\n",
      "| time/                   |              |\n",
      "|    fps                  | 282          |\n",
      "|    iterations           | 30           |\n",
      "|    time_elapsed         | 217          |\n",
      "|    total_timesteps      | 61440        |\n",
      "| train/                  |              |\n",
      "|    approx_kl            | 0.0026242444 |\n",
      "|    clip_fraction        | 0.0202       |\n",
      "|    clip_range           | 0.2          |\n",
      "|    entropy_loss         | -0.519       |\n",
      "|    explained_variance   | -0.00174     |\n",
      "|    learning_rate        | 0.0003       |\n",
      "|    loss                 | 69.4         |\n",
      "|    n_updates            | 290          |\n",
      "|    policy_gradient_loss | -0.000217    |\n",
      "|    value_loss           | 134          |\n",
      "------------------------------------------\n"
     ]
    },
    {
     "data": {
      "text/plain": "<stable_baselines3.ppo.ppo.PPO at 0x7f7f4a576c70>"
     },
     "execution_count": 72,
     "metadata": {},
     "output_type": "execute_result"
    }
   ],
   "source": [
    "model.learn(total_timesteps=60000)"
   ],
   "metadata": {
    "collapsed": false,
    "ExecuteTime": {
     "end_time": "2024-05-16T20:04:35.175309200Z",
     "start_time": "2024-05-16T20:00:55.715607100Z"
    }
   },
   "id": "455fd93683590ae7"
  },
  {
   "cell_type": "code",
   "execution_count": 73,
   "outputs": [
    {
     "name": "stderr",
     "output_type": "stream",
     "text": [
      "/home/doga/miniconda3/envs/myenv/lib/python3.9/site-packages/stable_baselines3/common/evaluation.py:67: UserWarning: Evaluation environment is not wrapped with a ``Monitor`` wrapper. This may result in reporting modified episode lengths and rewards, if other wrappers happen to modify these. Consider wrapping environment first with ``Monitor`` wrapper.\n",
      "  warnings.warn(\n"
     ]
    },
    {
     "data": {
      "text/plain": "(-1000.0, 0.0)"
     },
     "execution_count": 73,
     "metadata": {},
     "output_type": "execute_result"
    }
   ],
   "source": [
    "evaluate_policy(model, env, n_eval_episodes=10, render = False)"
   ],
   "metadata": {
    "collapsed": false,
    "ExecuteTime": {
     "end_time": "2024-05-16T20:04:47.603021100Z",
     "start_time": "2024-05-16T20:04:35.169338900Z"
    }
   },
   "id": "dae0672286f9c00d"
  },
  {
   "cell_type": "code",
   "execution_count": 73,
   "outputs": [],
   "source": [],
   "metadata": {
    "collapsed": false,
    "ExecuteTime": {
     "end_time": "2024-05-16T20:04:47.603021100Z",
     "start_time": "2024-05-16T20:04:47.597070Z"
    }
   },
   "id": "20292c68fe6ba5e8"
  },
  {
   "cell_type": "code",
   "execution_count": 82,
   "outputs": [
    {
     "name": "stdout",
     "output_type": "stream",
     "text": [
      "Episode:1 Reward:-616\n"
     ]
    }
   ],
   "source": [
    "episodes = 1\n",
    "for episode in range(1, episodes+1):\n",
    "    obs, inf = env.reset()\n",
    "    evaluation_data = pd.DataFrame(None)\n",
    "    hourly_emission_difference.clear()\n",
    "    hourly_battery_level.clear()\n",
    "    hourly_baseline_em.clear()\n",
    "    hourly_battery_em.clear()\n",
    "    decision_hist.clear()\n",
    "    reward_hist.clear()\n",
    "    done = False\n",
    "    score = 0\n",
    "\n",
    "    while not done:\n",
    "        action, _ = model.predict(obs) # Random actions here\n",
    "        obs, reward, done, truncated, info = env.step(action)\n",
    "        score += reward\n",
    "    print('Episode:{} Reward:{}'.format(episode, score))\n",
    "    \n",
    "    evaluation_data.insert(0,column=\"energy_usage\",value=pd.Series(e_usage[:env_length]))\n",
    "    evaluation_data.insert(1,column=\"carbon_intensity\",value=pd.Series(c_int[:env_length]))\n",
    "    evaluation_data.insert(2,column=\"battery_level\",value=pd.Series(hourly_battery_level))\n",
    "    evaluation_data.insert(3,column=\"decision\",value=pd.Series(decision_hist))\n",
    "    evaluation_data.insert(4,column=\"emission_baseline\",value=pd.Series(hourly_baseline_em))\n",
    "    evaluation_data.insert(5,column=\"emission_w_battery\",value=pd.Series(hourly_battery_em))\n",
    "    evaluation_data.insert(6,column=\"emission_delta\",value=pd.Series(hourly_emission_difference))\n",
    "    evaluation_data.insert(7,column=\"reward\",value=pd.Series(reward_hist))"
   ],
   "metadata": {
    "collapsed": false,
    "ExecuteTime": {
     "end_time": "2024-05-16T20:22:48.801098700Z",
     "start_time": "2024-05-16T20:22:46.454071900Z"
    }
   },
   "id": "303545fadf5be61b"
  },
  {
   "cell_type": "code",
   "execution_count": 83,
   "outputs": [],
   "source": [
    "evaluation_data.to_csv(\"evaluation.csv\")"
   ],
   "metadata": {
    "collapsed": false,
    "ExecuteTime": {
     "end_time": "2024-05-16T20:22:52.360514100Z",
     "start_time": "2024-05-16T20:22:52.119081700Z"
    }
   },
   "id": "5a6478cc01ddef82"
  },
  {
   "cell_type": "code",
   "execution_count": 84,
   "outputs": [
    {
     "name": "stdout",
     "output_type": "stream",
     "text": [
      "     energy_usage  carbon_intensity battery_level    decision  \\\n",
      "0             969               404           [0]  Discharged   \n",
      "1            1583               370           [0]  Discharged   \n",
      "2             818               388           [0]  Discharged   \n",
      "3            1201               399           [0]  Discharged   \n",
      "4            1369               402           [0]  Discharged   \n",
      "..            ...               ...           ...         ...   \n",
      "995          1007               204           [0]  Discharged   \n",
      "996           748               201           [0]  Discharged   \n",
      "997           779               200           [0]  Discharged   \n",
      "998           934               205           [0]  Discharged   \n",
      "999          1055               222           [0]  Discharged   \n",
      "\n",
      "        emission_baseline    emission_w_battery emission_delta  reward  \n",
      "0               [391.476]             [391.476]          [0.0]      -1  \n",
      "1                [585.71]              [585.71]          [0.0]      -1  \n",
      "2    [317.38399999999996]  [317.38399999999996]          [0.0]      -1  \n",
      "3               [479.199]             [479.199]          [0.0]      -1  \n",
      "4               [550.338]             [550.338]          [0.0]      -1  \n",
      "..                    ...                   ...            ...     ...  \n",
      "995  [205.42799999999997]  [205.42799999999997]         [2.75]       1  \n",
      "996             [150.348]             [150.348]         [2.75]       1  \n",
      "997               [155.8]               [155.8]         [2.75]       1  \n",
      "998              [191.47]              [191.47]         [2.75]       1  \n",
      "999  [234.20999999999998]  [234.20999999999998]         [2.75]       1  \n",
      "\n",
      "[1000 rows x 8 columns]\n"
     ]
    }
   ],
   "source": [
    "print(evaluation_data)"
   ],
   "metadata": {
    "collapsed": false,
    "ExecuteTime": {
     "end_time": "2024-05-16T20:22:53.303700500Z",
     "start_time": "2024-05-16T20:22:53.250269400Z"
    }
   },
   "id": "7ba11964e5f275e9"
  },
  {
   "cell_type": "code",
   "execution_count": 85,
   "outputs": [],
   "source": [
    "# training_log_path = os.path.join(log_path, 'DQN_9')"
   ],
   "metadata": {
    "collapsed": false,
    "ExecuteTime": {
     "end_time": "2024-05-16T20:22:54.857545Z",
     "start_time": "2024-05-16T20:22:54.842548900Z"
    }
   },
   "id": "869739f5ffbd1447"
  },
  {
   "cell_type": "code",
   "execution_count": 86,
   "outputs": [
    {
     "name": "stdout",
     "output_type": "stream",
     "text": [
      "-3695.0\n"
     ]
    },
    {
     "data": {
      "text/plain": "<Figure size 640x480 with 1 Axes>",
      "image/png": "[encoded data removed]"
     },
     "metadata": {},
     "output_type": "display_data"
    }
   ],
   "source": [
    "my_list = map(lambda x: x[0], evaluation_data[\"emission_delta\"])\n",
    "ser = pd.Series(my_list)\n",
    "ser.plot()\n",
    "print(ser.sum())"
   ],
   "metadata": {
    "collapsed": false,
    "ExecuteTime": {
     "end_time": "2024-05-16T20:22:55.537068700Z",
     "start_time": "2024-05-16T20:22:55.288302900Z"
    }
   },
   "id": "64cfafa235513124"
  },
  {
   "cell_type": "code",
   "execution_count": 87,
   "outputs": [
    {
     "data": {
      "text/plain": "<Axes: >"
     },
     "execution_count": 87,
     "metadata": {},
     "output_type": "execute_result"
    },
    {
     "data": {
      "text/plain": "<Figure size 640x480 with 1 Axes>",
      "image/png": "[encoded data removed]"
     },
     "metadata": {},
     "output_type": "display_data"
    }
   ],
   "source": [
    "my_list = map(lambda x: x[0], evaluation_data[\"battery_level\"])\n",
    "ser = pd.Series(my_list)\n",
    "ser.plot()"
   ],
   "metadata": {
    "collapsed": false,
    "ExecuteTime": {
     "end_time": "2024-05-16T20:22:56.687043300Z",
     "start_time": "2024-05-16T20:22:56.441309500Z"
    }
   },
   "id": "3cccf78261d0e804"
  },
  {
   "cell_type": "code",
   "execution_count": 79,
   "outputs": [],
   "source": [],
   "metadata": {
    "collapsed": false,
    "ExecuteTime": {
     "end_time": "2024-05-16T20:04:49.641141Z",
     "start_time": "2024-05-16T20:04:49.580404300Z"
    }
   },
   "id": "939678283355057c"
  }
 ],
 "metadata": {
  "kernelspec": {
   "display_name": "Python 3",
   "language": "python",
   "name": "python3"
  },
  "language_info": {
   "codemirror_mode": {
    "name": "ipython",
    "version": 2
   },
   "file_extension": ".py",
   "mimetype": "text/x-python",
   "name": "python",
   "nbconvert_exporter": "python",
   "pygments_lexer": "ipython2",
   "version": "2.7.6"
  }
 },
 "nbformat": 4,
 "nbformat_minor": 5
}
