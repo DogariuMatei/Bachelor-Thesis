{
 "cells": [
  {
   "cell_type": "code",
   "execution_count": 266,
   "id": "initial_id",
   "metadata": {
    "collapsed": true,
    "ExecuteTime": {
     "end_time": "2024-05-20T10:39:55.291813800Z",
     "start_time": "2024-05-20T10:39:55.100063200Z"
    }
   },
   "outputs": [],
   "source": [
    "import os\n",
    "from gymnasium import Env\n",
    "from gymnasium import spaces\n",
    "from gymnasium.spaces import Discrete\n",
    "import pandas as pd\n",
    "import numpy as np\n",
    "\n",
    "from stable_baselines3 import DQN\n",
    "from stable_baselines3 import PPO\n",
    "from stable_baselines3.common.env_util import make_vec_env\n",
    "from stable_baselines3.common.evaluation import evaluate_policy\n",
    "\n"
   ]
  },
  {
   "cell_type": "code",
   "execution_count": 267,
   "outputs": [],
   "source": [
    "carbon_intensity = pd.read_csv('Datasets/Carbon_intensity_processed_hourly.csv')\n",
    "electricity_usage = pd.read_csv('Datasets/Household_processed_hourly.csv')"
   ],
   "metadata": {
    "collapsed": false,
    "ExecuteTime": {
     "end_time": "2024-05-20T10:39:55.503807600Z",
     "start_time": "2024-05-20T10:39:55.110062800Z"
    }
   },
   "id": "9acea165d31417fc"
  },
  {
   "cell_type": "code",
   "execution_count": 268,
   "outputs": [],
   "source": [
    "carbon_intensity['Datetime (UTC)'] = pd.to_datetime(carbon_intensity['Datetime (UTC)'], utc=True)\n",
    "carbon_intensity = carbon_intensity.set_index('Datetime (UTC)')\n",
    "carbon_intensity.index = carbon_intensity.index.tz_convert(None)\n",
    "carbon_intensity = carbon_intensity['Carbon Intensity gCO₂eq/kWh (LCA)']\n"
   ],
   "metadata": {
    "collapsed": false,
    "ExecuteTime": {
     "end_time": "2024-05-20T10:39:55.503807600Z",
     "start_time": "2024-05-20T10:39:55.271810800Z"
    }
   },
   "id": "ac609cd148501070"
  },
  {
   "cell_type": "code",
   "execution_count": 269,
   "outputs": [],
   "source": [
    "c_int = np.asarray(carbon_intensity['2021-07-05 00:00:00':'2021-12-05 21:00:00'],dtype=int)"
   ],
   "metadata": {
    "collapsed": false,
    "ExecuteTime": {
     "end_time": "2024-05-20T10:39:55.503807600Z",
     "start_time": "2024-05-20T10:39:55.275812400Z"
    }
   },
   "id": "b52da773c2a0fbe1"
  },
  {
   "cell_type": "code",
   "execution_count": 270,
   "outputs": [],
   "source": [
    "electricity_usage['date'] = pd.to_datetime(electricity_usage['date'], utc=True)\n",
    "electricity_usage= electricity_usage.set_index('date')\n",
    "electricity_usage.index = electricity_usage.index.tz_convert(None)\n",
    "electricity_usage = electricity_usage['energy meter val']"
   ],
   "metadata": {
    "collapsed": false,
    "ExecuteTime": {
     "end_time": "2024-05-20T10:39:55.523811200Z",
     "start_time": "2024-05-20T10:39:55.293812900Z"
    }
   },
   "id": "11cd1e0acf3bf76b"
  },
  {
   "cell_type": "code",
   "execution_count": 271,
   "outputs": [],
   "source": [
    "e_usage = np.asarray([(i * 10) for i in electricity_usage['2015-07-05 00:00:00':]], dtype=int)"
   ],
   "metadata": {
    "collapsed": false,
    "ExecuteTime": {
     "end_time": "2024-05-20T10:39:55.523811200Z",
     "start_time": "2024-05-20T10:39:55.297811Z"
    }
   },
   "id": "ccc36b6530c936ca"
  },
  {
   "cell_type": "markdown",
   "source": [
    "----------------------"
   ],
   "metadata": {
    "collapsed": false
   },
   "id": "9b532a69a5187653"
  },
  {
   "cell_type": "code",
   "execution_count": 272,
   "outputs": [],
   "source": [
    "# Global evaluation vars\n",
    "evaluation_data = pd.DataFrame()\n",
    "old_emission_difference = [0]\n",
    "hourly_emission_difference = []\n",
    "hourly_battery_level = []\n",
    "hourly_baseline_em = []\n",
    "hourly_battery_em = []\n",
    "decision_hist = []\n",
    "reward_hist = []\n",
    "total_emissions_saved = 0"
   ],
   "metadata": {
    "collapsed": false,
    "ExecuteTime": {
     "end_time": "2024-05-20T10:39:55.523811200Z",
     "start_time": "2024-05-20T10:39:55.306838Z"
    }
   },
   "id": "cf5973345046501a"
  },
  {
   "cell_type": "code",
   "execution_count": 273,
   "outputs": [],
   "source": [
    "# Environment Constants\n",
    "arr_start_point = 0 # where in the e_usage and c_int arrays to start\n",
    "env_length = 1000 # number of hours\n",
    "battery_size = 5000 #Watt/Hour\n",
    "charge_discharge_rate = 1000 #Watt/Hour"
   ],
   "metadata": {
    "collapsed": false,
    "ExecuteTime": {
     "end_time": "2024-05-20T10:39:55.523811200Z",
     "start_time": "2024-05-20T10:39:55.312812600Z"
    }
   },
   "id": "7172a12dafdf059c"
  },
  {
   "cell_type": "code",
   "execution_count": 274,
   "outputs": [],
   "source": [
    "def calculate_emissions_standard(c_int, e_usage):\n",
    "    em = c_int * (e_usage/1000)\n",
    "    return em"
   ],
   "metadata": {
    "collapsed": false,
    "ExecuteTime": {
     "end_time": "2024-05-20T10:39:55.523811200Z",
     "start_time": "2024-05-20T10:39:55.320813800Z"
    }
   },
   "id": "1138f83050a4d0ee"
  },
  {
   "cell_type": "code",
   "execution_count": 275,
   "outputs": [],
   "source": [
    "def calculate_emissions_when_discharge(curr_c_int, e_usage):\n",
    "    em_new = 0\n",
    "    if e_usage > charge_discharge_rate:\n",
    "        em_new = calculate_emissions_standard(curr_c_int, e_usage)\n",
    "    return em_new"
   ],
   "metadata": {
    "collapsed": false,
    "ExecuteTime": {
     "end_time": "2024-05-20T10:39:55.523811200Z",
     "start_time": "2024-05-20T10:39:55.326810100Z"
    }
   },
   "id": "718fbb643fb77b61"
  },
  {
   "cell_type": "code",
   "execution_count": 276,
   "outputs": [],
   "source": [
    "def eval_battery_level_and_emissions(emissions, battery_val):\n",
    "    hourly_battery_em.append(emissions)\n",
    "    hourly_battery_level.append(battery_val)\n",
    "    "
   ],
   "metadata": {
    "collapsed": false,
    "ExecuteTime": {
     "end_time": "2024-05-20T10:39:55.523811200Z",
     "start_time": "2024-05-20T10:39:55.336809200Z"
    }
   },
   "id": "790a7f513a58de05"
  },
  {
   "cell_type": "code",
   "execution_count": 277,
   "outputs": [],
   "source": [
    "def reward_algo(self):\n",
    "    curr_delta = abs(self.emissions_with_battery - self.emissions_baseline)\n",
    "    if curr_delta > self.state[\"old_em_delta\"]:\n",
    "        reward_hist.append(1)\n",
    "        return 1\n",
    "    else:\n",
    "        reward_hist.append(-1)\n",
    "        return -1"
   ],
   "metadata": {
    "collapsed": false,
    "ExecuteTime": {
     "end_time": "2024-05-20T10:39:55.523811200Z",
     "start_time": "2024-05-20T10:39:55.340811Z"
    }
   },
   "id": "5ad53d73b3785341"
  },
  {
   "cell_type": "code",
   "execution_count": 278,
   "outputs": [],
   "source": [
    "def is_done(self):\n",
    "    if self.length == 0:\n",
    "        print(f'TOTAL EMISSIONS: {self.emissions_baseline}')\n",
    "        return True\n",
    "    else:\n",
    "        return False"
   ],
   "metadata": {
    "collapsed": false,
    "ExecuteTime": {
     "end_time": "2024-05-20T10:39:55.524809900Z",
     "start_time": "2024-05-20T10:39:55.346831800Z"
    }
   },
   "id": "d108dc74de5e8913"
  },
  {
   "cell_type": "code",
   "execution_count": 279,
   "outputs": [],
   "source": [
    "class Environment(Env):\n",
    "    def __init__(self):\n",
    "        super().__init__()\n",
    "        # Actions are discharge(-1), nothing (0) and charge (1)\n",
    "        self.action_space = Discrete(3)\n",
    "        self.observation_space = spaces.Dict({\n",
    "                \"carbon_int\" : spaces.Box(low = 0, high = 100000, shape=(1,), dtype=int),\n",
    "                \"electric_usage\" : spaces.Box(low = 0, high = 10000, shape=(1,), dtype=int),\n",
    "                \"battery_charge\" : spaces.Box(low = 0, high = battery_size, shape=(1,), dtype=int),\n",
    "                \"old_em_delta\" : spaces.Box(low = -np.inf, high = np.inf, shape=(1,), dtype=int)\n",
    "            }\n",
    "        )            \n",
    "        \n",
    "        self.c_int = c_int\n",
    "        self.e_usage = e_usage\n",
    "        self.length = env_length\n",
    "        self.hour_index = arr_start_point\n",
    "        \n",
    "        self.emissions_baseline = 0\n",
    "        self.emissions_with_battery = 0\n",
    "        \n",
    "        self.state = {\n",
    "            \"carbon_int\": np.array([self.c_int[arr_start_point]]),\n",
    "            \"electric_usage\": np.array([self.e_usage[arr_start_point]]),\n",
    "            \"battery_charge\": np.array([battery_size]),\n",
    "            \"old_em_delta\": np.array([0]),\n",
    "        }\n",
    "        \n",
    "        \n",
    "        \n",
    "        \n",
    "    def step(self, action):\n",
    "\n",
    "        if self.length < env_length: # => not on first call of step\n",
    "            self.state.update({\"old_em_delta\" : np.array([abs(self.emissions_with_battery - self.emissions_baseline)])})\n",
    "            old_emission_difference.append(abs(self.emissions_with_battery - self.emissions_baseline))\n",
    "\n",
    "        curr_c_int = self.state[\"carbon_int\"]\n",
    "        curr_e_usage = self.state[\"electric_usage\"]\n",
    "        curr_charge = self.state[\"battery_charge\"]\n",
    "        \n",
    "        baseline_em_now = calculate_emissions_standard(curr_c_int, curr_e_usage)\n",
    "        self.emissions_baseline = self.emissions_baseline + baseline_em_now\n",
    "        hourly_baseline_em.append(baseline_em_now)\n",
    "        \n",
    "\n",
    "        # Perform 'game logic' for each possible agent action\n",
    "        if action == 0 and curr_charge >= 0:\n",
    "            decision_hist.append(\"Discharged\")\n",
    "            if curr_charge > charge_discharge_rate:\n",
    "                emissions_now = calculate_emissions_when_discharge(curr_c_int, curr_e_usage - charge_discharge_rate)\n",
    "                self.emissions_with_battery = self.emissions_with_battery + emissions_now\n",
    "                new_battery_charge_val = curr_charge - charge_discharge_rate\n",
    "                eval_battery_level_and_emissions(emissions_now,new_battery_charge_val)\n",
    "                self.state.update({\"battery_charge\" : new_battery_charge_val})\n",
    "            elif 0 <= curr_charge <= charge_discharge_rate:\n",
    "                emissions_now = calculate_emissions_when_discharge(curr_c_int, curr_e_usage - curr_charge)\n",
    "                self.emissions_with_battery = self.emissions_with_battery + emissions_now\n",
    "                new_battery_charge_val = np.array([0])\n",
    "                eval_battery_level_and_emissions(emissions_now,new_battery_charge_val)\n",
    "                self.state.update({\"battery_charge\" : new_battery_charge_val})\n",
    "            \n",
    "        elif action == 1:\n",
    "            decision_hist.append(\"Nothing\")\n",
    "            emissions_now = calculate_emissions_standard(curr_c_int,curr_e_usage)\n",
    "            eval_battery_level_and_emissions(emissions_now,curr_charge)\n",
    "            self.emissions_with_battery = self.emissions_with_battery + emissions_now\n",
    "            \n",
    "        elif action == 2 and curr_charge <= battery_size:\n",
    "            decision_hist.append(\"Charged\")\n",
    "            if (battery_size - charge_discharge_rate) <= curr_charge <= battery_size:\n",
    "                emissions_now = calculate_emissions_standard(curr_c_int, curr_e_usage + (battery_size - curr_charge))\n",
    "                self.emissions_with_battery = self.emissions_with_battery + emissions_now\n",
    "                new_battery_charge_val = np.array([battery_size])\n",
    "                \n",
    "                eval_battery_level_and_emissions(emissions_now,new_battery_charge_val)\n",
    "                self.state.update({\"battery_charge\" : new_battery_charge_val})\n",
    "            elif 0 <= curr_charge < (battery_size - charge_discharge_rate):\n",
    "                emissions_now = calculate_emissions_standard(curr_c_int, curr_e_usage + charge_discharge_rate)\n",
    "                self.emissions_with_battery = self.emissions_with_battery + emissions_now\n",
    "                new_battery_charge_val = curr_charge + charge_discharge_rate\n",
    "                eval_battery_level_and_emissions(emissions_now,new_battery_charge_val)\n",
    "                self.state.update({\"battery_charge\" : new_battery_charge_val})\n",
    "        else:\n",
    "            decision_hist.append(\"PASSED\")\n",
    "            print(\"Smth weird happened\")\n",
    "            pass\n",
    "        \n",
    "        emission_delta = abs(self.emissions_with_battery - self.emissions_baseline)\n",
    "        hourly_emission_difference.append(emission_delta)\n",
    "        \n",
    "        # Update env variables\n",
    "        self.length = self.length - 1\n",
    "        self.hour_index = self.hour_index + 1\n",
    "        # Go to next state\n",
    "        self.state.update({\"carbon_int\": np.array([self.c_int[self.hour_index]])})\n",
    "        self.state.update({\"electric_usage\": np.array([self.e_usage[self.hour_index]])})\n",
    "\n",
    "        # Update reward\n",
    "        reward = reward_algo(self)\n",
    "            \n",
    "        # Check if finished\n",
    "        done = is_done(self)\n",
    "        \n",
    "        info = {}\n",
    "        truncated = False\n",
    "        return self.state, reward, done, truncated, info\n",
    "    \n",
    "    \n",
    "    def reset(self, seed = None, options = None):\n",
    "        self.state = {\n",
    "            \"carbon_int\": np.array([self.c_int[arr_start_point]]),\n",
    "            \"electric_usage\": np.array([self.e_usage[arr_start_point]]),\n",
    "            \"battery_charge\": np.array([battery_size]),\n",
    "            \"old_em_delta\" : np.array([0]),\n",
    "        } \n",
    "        self.c_int = c_int\n",
    "        self.e_usage = e_usage\n",
    "        self.length = env_length\n",
    "        self.hour_index = arr_start_point\n",
    "        self.emissions_baseline = 0\n",
    "        self.emissions_with_battery = 0\n",
    "\n",
    "        info = {}\n",
    "        \n",
    "        return self.state, info"
   ],
   "metadata": {
    "collapsed": false,
    "ExecuteTime": {
     "end_time": "2024-05-20T10:39:55.524809900Z",
     "start_time": "2024-05-20T10:39:55.369810700Z"
    }
   },
   "id": "84894bb74b346dcc"
  },
  {
   "cell_type": "code",
   "execution_count": 280,
   "outputs": [],
   "source": [
    "env = Environment()"
   ],
   "metadata": {
    "collapsed": false,
    "ExecuteTime": {
     "end_time": "2024-05-20T10:39:55.524809900Z",
     "start_time": "2024-05-20T10:39:55.373813300Z"
    }
   },
   "id": "3f3b92941a4d0be2"
  },
  {
   "cell_type": "code",
   "execution_count": 281,
   "outputs": [],
   "source": [
    "from stable_baselines3.common.env_checker import check_env\n",
    "check_env(env)"
   ],
   "metadata": {
    "collapsed": false,
    "ExecuteTime": {
     "end_time": "2024-05-20T10:39:55.524809900Z",
     "start_time": "2024-05-20T10:39:55.390809200Z"
    }
   },
   "id": "489b8e147a6da2d2"
  },
  {
   "cell_type": "code",
   "execution_count": 282,
   "outputs": [],
   "source": [
    "# episodes = 5\n",
    "# for episode in range(1, episodes+1):\n",
    "#     state = env.reset()\n",
    "#     done = False\n",
    "#     score = 0\n",
    "# \n",
    "#     while not done:\n",
    "#         action = env.action_space.sample() # Random actions here\n",
    "#         n_state, reward, done, truncated, info = env.step(action)\n",
    "#         score+=reward\n",
    "#     print('Episode:{} Score:{}'.format(episode, score))"
   ],
   "metadata": {
    "collapsed": false,
    "ExecuteTime": {
     "end_time": "2024-05-20T10:39:55.524809900Z",
     "start_time": "2024-05-20T10:39:55.393812100Z"
    }
   },
   "id": "22b8929025289b30"
  },
  {
   "cell_type": "code",
   "execution_count": 283,
   "outputs": [
    {
     "name": "stdout",
     "output_type": "stream",
     "text": [
      "Using cuda device\n",
      "Wrapping the env with a `Monitor` wrapper\n",
      "Wrapping the env in a DummyVecEnv.\n"
     ]
    }
   ],
   "source": [
    "log_path = os.path.join('Training', 'Logs')\n",
    "# vec_env = make_vec_env(env, n_envs=4)\n",
    "model = PPO(\"MultiInputPolicy\", env, verbose=1, tensorboard_log = log_path)\n",
    "# model = DQN('MultiInputPolicy', env, verbose = 1, tensorboard_log = log_path)"
   ],
   "metadata": {
    "collapsed": false,
    "ExecuteTime": {
     "end_time": "2024-05-20T10:39:55.524809900Z",
     "start_time": "2024-05-20T10:39:55.400812200Z"
    }
   },
   "id": "895e02aed605d28"
  },
  {
   "cell_type": "code",
   "execution_count": 284,
   "outputs": [],
   "source": [
    "PPO??"
   ],
   "metadata": {
    "collapsed": false,
    "ExecuteTime": {
     "end_time": "2024-05-20T10:39:55.534811900Z",
     "start_time": "2024-05-20T10:39:55.423808600Z"
    }
   },
   "id": "b228f6f2f384969c"
  },
  {
   "cell_type": "code",
   "execution_count": 285,
   "outputs": [
    {
     "name": "stdout",
     "output_type": "stream",
     "text": [
      "Logging to Training/Logs/PPO_15\n",
      "TOTAL EMISSIONS: [438443.484]\n",
      "TOTAL EMISSIONS: [438443.484]\n",
      "---------------------------------\n",
      "| rollout/           |          |\n",
      "|    ep_len_mean     | 1e+03    |\n",
      "|    ep_rew_mean     | -377     |\n",
      "| time/              |          |\n",
      "|    fps             | 369      |\n",
      "|    iterations      | 1        |\n",
      "|    time_elapsed    | 5        |\n",
      "|    total_timesteps | 2048     |\n",
      "---------------------------------\n",
      "TOTAL EMISSIONS: [438443.484]\n",
      "TOTAL EMISSIONS: [438443.484]\n",
      "-----------------------------------------\n",
      "| rollout/                |             |\n",
      "|    ep_len_mean          | 1e+03       |\n",
      "|    ep_rew_mean          | -333        |\n",
      "| time/                   |             |\n",
      "|    fps                  | 318         |\n",
      "|    iterations           | 2           |\n",
      "|    time_elapsed         | 12          |\n",
      "|    total_timesteps      | 4096        |\n",
      "| train/                  |             |\n",
      "|    approx_kl            | 0.014467224 |\n",
      "|    clip_fraction        | 0.344       |\n",
      "|    clip_range           | 0.2         |\n",
      "|    entropy_loss         | -1.08       |\n",
      "|    explained_variance   | -0.0768     |\n",
      "|    learning_rate        | 0.0003      |\n",
      "|    loss                 | 3.16        |\n",
      "|    n_updates            | 10          |\n",
      "|    policy_gradient_loss | -0.0383     |\n",
      "|    value_loss           | 11.1        |\n",
      "-----------------------------------------\n",
      "TOTAL EMISSIONS: [438443.484]\n",
      "TOTAL EMISSIONS: [438443.484]\n",
      "-----------------------------------------\n",
      "| rollout/                |             |\n",
      "|    ep_len_mean          | 1e+03       |\n",
      "|    ep_rew_mean          | -291        |\n",
      "| time/                   |             |\n",
      "|    fps                  | 276         |\n",
      "|    iterations           | 3           |\n",
      "|    time_elapsed         | 22          |\n",
      "|    total_timesteps      | 6144        |\n",
      "| train/                  |             |\n",
      "|    approx_kl            | 0.016650284 |\n",
      "|    clip_fraction        | 0.312       |\n",
      "|    clip_range           | 0.2         |\n",
      "|    entropy_loss         | -1.04       |\n",
      "|    explained_variance   | 0.0467      |\n",
      "|    learning_rate        | 0.0003      |\n",
      "|    loss                 | 3.56        |\n",
      "|    n_updates            | 20          |\n",
      "|    policy_gradient_loss | -0.0348     |\n",
      "|    value_loss           | 7.44        |\n",
      "-----------------------------------------\n",
      "TOTAL EMISSIONS: [438443.484]\n",
      "TOTAL EMISSIONS: [438443.484]\n",
      "-----------------------------------------\n",
      "| rollout/                |             |\n",
      "|    ep_len_mean          | 1e+03       |\n",
      "|    ep_rew_mean          | -261        |\n",
      "| time/                   |             |\n",
      "|    fps                  | 273         |\n",
      "|    iterations           | 4           |\n",
      "|    time_elapsed         | 29          |\n",
      "|    total_timesteps      | 8192        |\n",
      "| train/                  |             |\n",
      "|    approx_kl            | 0.013879729 |\n",
      "|    clip_fraction        | 0.205       |\n",
      "|    clip_range           | 0.2         |\n",
      "|    entropy_loss         | -0.968      |\n",
      "|    explained_variance   | 0.135       |\n",
      "|    learning_rate        | 0.0003      |\n",
      "|    loss                 | 2.81        |\n",
      "|    n_updates            | 30          |\n",
      "|    policy_gradient_loss | -0.0217     |\n",
      "|    value_loss           | 6.77        |\n",
      "-----------------------------------------\n",
      "TOTAL EMISSIONS: [438443.484]\n",
      "TOTAL EMISSIONS: [438443.484]\n",
      "-----------------------------------------\n",
      "| rollout/                |             |\n",
      "|    ep_len_mean          | 1e+03       |\n",
      "|    ep_rew_mean          | -239        |\n",
      "| time/                   |             |\n",
      "|    fps                  | 278         |\n",
      "|    iterations           | 5           |\n",
      "|    time_elapsed         | 36          |\n",
      "|    total_timesteps      | 10240       |\n",
      "| train/                  |             |\n",
      "|    approx_kl            | 0.007899938 |\n",
      "|    clip_fraction        | 0.0797      |\n",
      "|    clip_range           | 0.2         |\n",
      "|    entropy_loss         | -0.879      |\n",
      "|    explained_variance   | 0.117       |\n",
      "|    learning_rate        | 0.0003      |\n",
      "|    loss                 | 3.06        |\n",
      "|    n_updates            | 40          |\n",
      "|    policy_gradient_loss | -0.00813    |\n",
      "|    value_loss           | 7.74        |\n",
      "-----------------------------------------\n",
      "TOTAL EMISSIONS: [438443.484]\n",
      "TOTAL EMISSIONS: [438443.484]\n",
      "-----------------------------------------\n",
      "| rollout/                |             |\n",
      "|    ep_len_mean          | 1e+03       |\n",
      "|    ep_rew_mean          | -222        |\n",
      "| time/                   |             |\n",
      "|    fps                  | 282         |\n",
      "|    iterations           | 6           |\n",
      "|    time_elapsed         | 43          |\n",
      "|    total_timesteps      | 12288       |\n",
      "| train/                  |             |\n",
      "|    approx_kl            | 0.003449016 |\n",
      "|    clip_fraction        | 0.0837      |\n",
      "|    clip_range           | 0.2         |\n",
      "|    entropy_loss         | -0.879      |\n",
      "|    explained_variance   | 0.133       |\n",
      "|    learning_rate        | 0.0003      |\n",
      "|    loss                 | 5.13        |\n",
      "|    n_updates            | 50          |\n",
      "|    policy_gradient_loss | -0.00794    |\n",
      "|    value_loss           | 8.81        |\n",
      "-----------------------------------------\n",
      "TOTAL EMISSIONS: [438443.484]\n",
      "TOTAL EMISSIONS: [438443.484]\n",
      "------------------------------------------\n",
      "| rollout/                |              |\n",
      "|    ep_len_mean          | 1e+03        |\n",
      "|    ep_rew_mean          | -202         |\n",
      "| time/                   |              |\n",
      "|    fps                  | 279          |\n",
      "|    iterations           | 7            |\n",
      "|    time_elapsed         | 51           |\n",
      "|    total_timesteps      | 14336        |\n",
      "| train/                  |              |\n",
      "|    approx_kl            | 0.0033697067 |\n",
      "|    clip_fraction        | 0.0743       |\n",
      "|    clip_range           | 0.2          |\n",
      "|    entropy_loss         | -0.854       |\n",
      "|    explained_variance   | 0.128        |\n",
      "|    learning_rate        | 0.0003       |\n",
      "|    loss                 | 3.75         |\n",
      "|    n_updates            | 60           |\n",
      "|    policy_gradient_loss | -0.00779     |\n",
      "|    value_loss           | 8.88         |\n",
      "------------------------------------------\n",
      "TOTAL EMISSIONS: [438443.484]\n",
      "TOTAL EMISSIONS: [438443.484]\n",
      "-----------------------------------------\n",
      "| rollout/                |             |\n",
      "|    ep_len_mean          | 1e+03       |\n",
      "|    ep_rew_mean          | -188        |\n",
      "| time/                   |             |\n",
      "|    fps                  | 279         |\n",
      "|    iterations           | 8           |\n",
      "|    time_elapsed         | 58          |\n",
      "|    total_timesteps      | 16384       |\n",
      "| train/                  |             |\n",
      "|    approx_kl            | 0.005070043 |\n",
      "|    clip_fraction        | 0.0442      |\n",
      "|    clip_range           | 0.2         |\n",
      "|    entropy_loss         | -0.819      |\n",
      "|    explained_variance   | 0.16        |\n",
      "|    learning_rate        | 0.0003      |\n",
      "|    loss                 | 3.17        |\n",
      "|    n_updates            | 70          |\n",
      "|    policy_gradient_loss | -0.00406    |\n",
      "|    value_loss           | 7.48        |\n",
      "-----------------------------------------\n",
      "TOTAL EMISSIONS: [438443.484]\n",
      "TOTAL EMISSIONS: [438443.484]\n",
      "-----------------------------------------\n",
      "| rollout/                |             |\n",
      "|    ep_len_mean          | 1e+03       |\n",
      "|    ep_rew_mean          | -175        |\n",
      "| time/                   |             |\n",
      "|    fps                  | 281         |\n",
      "|    iterations           | 9           |\n",
      "|    time_elapsed         | 65          |\n",
      "|    total_timesteps      | 18432       |\n",
      "| train/                  |             |\n",
      "|    approx_kl            | 0.001973716 |\n",
      "|    clip_fraction        | 0.0572      |\n",
      "|    clip_range           | 0.2         |\n",
      "|    entropy_loss         | -0.75       |\n",
      "|    explained_variance   | 0.193       |\n",
      "|    learning_rate        | 0.0003      |\n",
      "|    loss                 | 3.88        |\n",
      "|    n_updates            | 80          |\n",
      "|    policy_gradient_loss | -0.00302    |\n",
      "|    value_loss           | 6.31        |\n",
      "-----------------------------------------\n",
      "TOTAL EMISSIONS: [438443.484]\n",
      "TOTAL EMISSIONS: [438443.484]\n",
      "-----------------------------------------\n",
      "| rollout/                |             |\n",
      "|    ep_len_mean          | 1e+03       |\n",
      "|    ep_rew_mean          | -165        |\n",
      "| time/                   |             |\n",
      "|    fps                  | 283         |\n",
      "|    iterations           | 10          |\n",
      "|    time_elapsed         | 72          |\n",
      "|    total_timesteps      | 20480       |\n",
      "| train/                  |             |\n",
      "|    approx_kl            | 0.003938622 |\n",
      "|    clip_fraction        | 0.0517      |\n",
      "|    clip_range           | 0.2         |\n",
      "|    entropy_loss         | -0.8        |\n",
      "|    explained_variance   | 0.183       |\n",
      "|    learning_rate        | 0.0003      |\n",
      "|    loss                 | 2.99        |\n",
      "|    n_updates            | 90          |\n",
      "|    policy_gradient_loss | -0.0041     |\n",
      "|    value_loss           | 6.56        |\n",
      "-----------------------------------------\n",
      "TOTAL EMISSIONS: [438443.484]\n",
      "TOTAL EMISSIONS: [438443.484]\n",
      "------------------------------------------\n",
      "| rollout/                |              |\n",
      "|    ep_len_mean          | 1e+03        |\n",
      "|    ep_rew_mean          | -154         |\n",
      "| time/                   |              |\n",
      "|    fps                  | 285          |\n",
      "|    iterations           | 11           |\n",
      "|    time_elapsed         | 78           |\n",
      "|    total_timesteps      | 22528        |\n",
      "| train/                  |              |\n",
      "|    approx_kl            | 0.0050575254 |\n",
      "|    clip_fraction        | 0.0554       |\n",
      "|    clip_range           | 0.2          |\n",
      "|    entropy_loss         | -0.787       |\n",
      "|    explained_variance   | 0.16         |\n",
      "|    learning_rate        | 0.0003       |\n",
      "|    loss                 | 3.72         |\n",
      "|    n_updates            | 100          |\n",
      "|    policy_gradient_loss | -0.00291     |\n",
      "|    value_loss           | 6.96         |\n",
      "------------------------------------------\n",
      "TOTAL EMISSIONS: [438443.484]\n",
      "TOTAL EMISSIONS: [438443.484]\n",
      "------------------------------------------\n",
      "| rollout/                |              |\n",
      "|    ep_len_mean          | 1e+03        |\n",
      "|    ep_rew_mean          | -145         |\n",
      "| time/                   |              |\n",
      "|    fps                  | 287          |\n",
      "|    iterations           | 12           |\n",
      "|    time_elapsed         | 85           |\n",
      "|    total_timesteps      | 24576        |\n",
      "| train/                  |              |\n",
      "|    approx_kl            | 0.0067081694 |\n",
      "|    clip_fraction        | 0.0798       |\n",
      "|    clip_range           | 0.2          |\n",
      "|    entropy_loss         | -0.762       |\n",
      "|    explained_variance   | 0.201        |\n",
      "|    learning_rate        | 0.0003       |\n",
      "|    loss                 | 1.53         |\n",
      "|    n_updates            | 110          |\n",
      "|    policy_gradient_loss | -0.00167     |\n",
      "|    value_loss           | 3.79         |\n",
      "------------------------------------------\n",
      "TOTAL EMISSIONS: [438443.484]\n",
      "TOTAL EMISSIONS: [438443.484]\n",
      "------------------------------------------\n",
      "| rollout/                |              |\n",
      "|    ep_len_mean          | 1e+03        |\n",
      "|    ep_rew_mean          | -135         |\n",
      "| time/                   |              |\n",
      "|    fps                  | 287          |\n",
      "|    iterations           | 13           |\n",
      "|    time_elapsed         | 92           |\n",
      "|    total_timesteps      | 26624        |\n",
      "| train/                  |              |\n",
      "|    approx_kl            | 0.0097678695 |\n",
      "|    clip_fraction        | 0.0714       |\n",
      "|    clip_range           | 0.2          |\n",
      "|    entropy_loss         | -0.72        |\n",
      "|    explained_variance   | 0.242        |\n",
      "|    learning_rate        | 0.0003       |\n",
      "|    loss                 | 1.94         |\n",
      "|    n_updates            | 120          |\n",
      "|    policy_gradient_loss | -0.00319     |\n",
      "|    value_loss           | 4.19         |\n",
      "------------------------------------------\n",
      "TOTAL EMISSIONS: [438443.484]\n",
      "TOTAL EMISSIONS: [438443.484]\n",
      "-----------------------------------------\n",
      "| rollout/                |             |\n",
      "|    ep_len_mean          | 1e+03       |\n",
      "|    ep_rew_mean          | -128        |\n",
      "| time/                   |             |\n",
      "|    fps                  | 288         |\n",
      "|    iterations           | 14          |\n",
      "|    time_elapsed         | 99          |\n",
      "|    total_timesteps      | 28672       |\n",
      "| train/                  |             |\n",
      "|    approx_kl            | 0.012906484 |\n",
      "|    clip_fraction        | 0.198       |\n",
      "|    clip_range           | 0.2         |\n",
      "|    entropy_loss         | -0.685      |\n",
      "|    explained_variance   | 0.211       |\n",
      "|    learning_rate        | 0.0003      |\n",
      "|    loss                 | 1.32        |\n",
      "|    n_updates            | 130         |\n",
      "|    policy_gradient_loss | -0.0088     |\n",
      "|    value_loss           | 3.55        |\n",
      "-----------------------------------------\n",
      "TOTAL EMISSIONS: [438443.484]\n",
      "TOTAL EMISSIONS: [438443.484]\n",
      "-----------------------------------------\n",
      "| rollout/                |             |\n",
      "|    ep_len_mean          | 1e+03       |\n",
      "|    ep_rew_mean          | -120        |\n",
      "| time/                   |             |\n",
      "|    fps                  | 290         |\n",
      "|    iterations           | 15          |\n",
      "|    time_elapsed         | 105         |\n",
      "|    total_timesteps      | 30720       |\n",
      "| train/                  |             |\n",
      "|    approx_kl            | 0.009735836 |\n",
      "|    clip_fraction        | 0.0902      |\n",
      "|    clip_range           | 0.2         |\n",
      "|    entropy_loss         | -0.682      |\n",
      "|    explained_variance   | 0.283       |\n",
      "|    learning_rate        | 0.0003      |\n",
      "|    loss                 | 1.42        |\n",
      "|    n_updates            | 140         |\n",
      "|    policy_gradient_loss | -0.00345    |\n",
      "|    value_loss           | 3.61        |\n",
      "-----------------------------------------\n",
      "TOTAL EMISSIONS: [438443.484]\n",
      "TOTAL EMISSIONS: [438443.484]\n",
      "-----------------------------------------\n",
      "| rollout/                |             |\n",
      "|    ep_len_mean          | 1e+03       |\n",
      "|    ep_rew_mean          | -113        |\n",
      "| time/                   |             |\n",
      "|    fps                  | 289         |\n",
      "|    iterations           | 16          |\n",
      "|    time_elapsed         | 113         |\n",
      "|    total_timesteps      | 32768       |\n",
      "| train/                  |             |\n",
      "|    approx_kl            | 0.009442959 |\n",
      "|    clip_fraction        | 0.0751      |\n",
      "|    clip_range           | 0.2         |\n",
      "|    entropy_loss         | -0.647      |\n",
      "|    explained_variance   | 0.268       |\n",
      "|    learning_rate        | 0.0003      |\n",
      "|    loss                 | 2.01        |\n",
      "|    n_updates            | 150         |\n",
      "|    policy_gradient_loss | -7.07e-05   |\n",
      "|    value_loss           | 4.05        |\n",
      "-----------------------------------------\n",
      "TOTAL EMISSIONS: [438443.484]\n",
      "TOTAL EMISSIONS: [438443.484]\n",
      "-----------------------------------------\n",
      "| rollout/                |             |\n",
      "|    ep_len_mean          | 1e+03       |\n",
      "|    ep_rew_mean          | -105        |\n",
      "| time/                   |             |\n",
      "|    fps                  | 288         |\n",
      "|    iterations           | 17          |\n",
      "|    time_elapsed         | 120         |\n",
      "|    total_timesteps      | 34816       |\n",
      "| train/                  |             |\n",
      "|    approx_kl            | 0.022138853 |\n",
      "|    clip_fraction        | 0.154       |\n",
      "|    clip_range           | 0.2         |\n",
      "|    entropy_loss         | -0.628      |\n",
      "|    explained_variance   | 0.232       |\n",
      "|    learning_rate        | 0.0003      |\n",
      "|    loss                 | 2           |\n",
      "|    n_updates            | 160         |\n",
      "|    policy_gradient_loss | -0.0032     |\n",
      "|    value_loss           | 3.66        |\n",
      "-----------------------------------------\n",
      "TOTAL EMISSIONS: [438443.484]\n",
      "TOTAL EMISSIONS: [438443.484]\n",
      "-----------------------------------------\n",
      "| rollout/                |             |\n",
      "|    ep_len_mean          | 1e+03       |\n",
      "|    ep_rew_mean          | -97.9       |\n",
      "| time/                   |             |\n",
      "|    fps                  | 289         |\n",
      "|    iterations           | 18          |\n",
      "|    time_elapsed         | 127         |\n",
      "|    total_timesteps      | 36864       |\n",
      "| train/                  |             |\n",
      "|    approx_kl            | 0.023408204 |\n",
      "|    clip_fraction        | 0.229       |\n",
      "|    clip_range           | 0.2         |\n",
      "|    entropy_loss         | -0.613      |\n",
      "|    explained_variance   | 0.248       |\n",
      "|    learning_rate        | 0.0003      |\n",
      "|    loss                 | 1.96        |\n",
      "|    n_updates            | 170         |\n",
      "|    policy_gradient_loss | 0.00735     |\n",
      "|    value_loss           | 4.22        |\n",
      "-----------------------------------------\n",
      "TOTAL EMISSIONS: [438443.484]\n",
      "TOTAL EMISSIONS: [438443.484]\n",
      "-----------------------------------------\n",
      "| rollout/                |             |\n",
      "|    ep_len_mean          | 1e+03       |\n",
      "|    ep_rew_mean          | -90.4       |\n",
      "| time/                   |             |\n",
      "|    fps                  | 290         |\n",
      "|    iterations           | 19          |\n",
      "|    time_elapsed         | 133         |\n",
      "|    total_timesteps      | 38912       |\n",
      "| train/                  |             |\n",
      "|    approx_kl            | 0.012837731 |\n",
      "|    clip_fraction        | 0.138       |\n",
      "|    clip_range           | 0.2         |\n",
      "|    entropy_loss         | -0.576      |\n",
      "|    explained_variance   | 0.223       |\n",
      "|    learning_rate        | 0.0003      |\n",
      "|    loss                 | 2.61        |\n",
      "|    n_updates            | 180         |\n",
      "|    policy_gradient_loss | 0.00707     |\n",
      "|    value_loss           | 4.96        |\n",
      "-----------------------------------------\n",
      "TOTAL EMISSIONS: [438443.484]\n",
      "TOTAL EMISSIONS: [438443.484]\n",
      "-----------------------------------------\n",
      "| rollout/                |             |\n",
      "|    ep_len_mean          | 1e+03       |\n",
      "|    ep_rew_mean          | -85         |\n",
      "| time/                   |             |\n",
      "|    fps                  | 288         |\n",
      "|    iterations           | 20          |\n",
      "|    time_elapsed         | 142         |\n",
      "|    total_timesteps      | 40960       |\n",
      "| train/                  |             |\n",
      "|    approx_kl            | 0.009445694 |\n",
      "|    clip_fraction        | 0.0996      |\n",
      "|    clip_range           | 0.2         |\n",
      "|    entropy_loss         | -0.544      |\n",
      "|    explained_variance   | 0.129       |\n",
      "|    learning_rate        | 0.0003      |\n",
      "|    loss                 | 3.89        |\n",
      "|    n_updates            | 190         |\n",
      "|    policy_gradient_loss | 0.00299     |\n",
      "|    value_loss           | 6.61        |\n",
      "-----------------------------------------\n",
      "TOTAL EMISSIONS: [438443.484]\n",
      "TOTAL EMISSIONS: [438443.484]\n",
      "TOTAL EMISSIONS: [438443.484]\n",
      "-----------------------------------------\n",
      "| rollout/                |             |\n",
      "|    ep_len_mean          | 1e+03       |\n",
      "|    ep_rew_mean          | -78.8       |\n",
      "| time/                   |             |\n",
      "|    fps                  | 289         |\n",
      "|    iterations           | 21          |\n",
      "|    time_elapsed         | 148         |\n",
      "|    total_timesteps      | 43008       |\n",
      "| train/                  |             |\n",
      "|    approx_kl            | 0.010937216 |\n",
      "|    clip_fraction        | 0.15        |\n",
      "|    clip_range           | 0.2         |\n",
      "|    entropy_loss         | -0.561      |\n",
      "|    explained_variance   | 0.188       |\n",
      "|    learning_rate        | 0.0003      |\n",
      "|    loss                 | 1.99        |\n",
      "|    n_updates            | 200         |\n",
      "|    policy_gradient_loss | 0.00581     |\n",
      "|    value_loss           | 3.74        |\n",
      "-----------------------------------------\n",
      "TOTAL EMISSIONS: [438443.484]\n",
      "TOTAL EMISSIONS: [438443.484]\n",
      "-----------------------------------------\n",
      "| rollout/                |             |\n",
      "|    ep_len_mean          | 1e+03       |\n",
      "|    ep_rew_mean          | -75.5       |\n",
      "| time/                   |             |\n",
      "|    fps                  | 289         |\n",
      "|    iterations           | 22          |\n",
      "|    time_elapsed         | 155         |\n",
      "|    total_timesteps      | 45056       |\n",
      "| train/                  |             |\n",
      "|    approx_kl            | 0.012115883 |\n",
      "|    clip_fraction        | 0.202       |\n",
      "|    clip_range           | 0.2         |\n",
      "|    entropy_loss         | -0.553      |\n",
      "|    explained_variance   | 0.294       |\n",
      "|    learning_rate        | 0.0003      |\n",
      "|    loss                 | 3.18        |\n",
      "|    n_updates            | 210         |\n",
      "|    policy_gradient_loss | 0.00436     |\n",
      "|    value_loss           | 4.69        |\n",
      "-----------------------------------------\n",
      "TOTAL EMISSIONS: [438443.484]\n",
      "TOTAL EMISSIONS: [438443.484]\n",
      "-----------------------------------------\n",
      "| rollout/                |             |\n",
      "|    ep_len_mean          | 1e+03       |\n",
      "|    ep_rew_mean          | -71.1       |\n",
      "| time/                   |             |\n",
      "|    fps                  | 290         |\n",
      "|    iterations           | 23          |\n",
      "|    time_elapsed         | 162         |\n",
      "|    total_timesteps      | 47104       |\n",
      "| train/                  |             |\n",
      "|    approx_kl            | 0.029025892 |\n",
      "|    clip_fraction        | 0.144       |\n",
      "|    clip_range           | 0.2         |\n",
      "|    entropy_loss         | -0.54       |\n",
      "|    explained_variance   | 0.35        |\n",
      "|    learning_rate        | 0.0003      |\n",
      "|    loss                 | 3.35        |\n",
      "|    n_updates            | 220         |\n",
      "|    policy_gradient_loss | 0.00378     |\n",
      "|    value_loss           | 5.39        |\n",
      "-----------------------------------------\n",
      "TOTAL EMISSIONS: [438443.484]\n",
      "TOTAL EMISSIONS: [438443.484]\n",
      "-----------------------------------------\n",
      "| rollout/                |             |\n",
      "|    ep_len_mean          | 1e+03       |\n",
      "|    ep_rew_mean          | -65.4       |\n",
      "| time/                   |             |\n",
      "|    fps                  | 285         |\n",
      "|    iterations           | 24          |\n",
      "|    time_elapsed         | 171         |\n",
      "|    total_timesteps      | 49152       |\n",
      "| train/                  |             |\n",
      "|    approx_kl            | 0.025807481 |\n",
      "|    clip_fraction        | 0.143       |\n",
      "|    clip_range           | 0.2         |\n",
      "|    entropy_loss         | -0.503      |\n",
      "|    explained_variance   | 0.502       |\n",
      "|    learning_rate        | 0.0003      |\n",
      "|    loss                 | 1.95        |\n",
      "|    n_updates            | 230         |\n",
      "|    policy_gradient_loss | 0.00696     |\n",
      "|    value_loss           | 3.77        |\n",
      "-----------------------------------------\n",
      "TOTAL EMISSIONS: [438443.484]\n",
      "TOTAL EMISSIONS: [438443.484]\n",
      "-----------------------------------------\n",
      "| rollout/                |             |\n",
      "|    ep_len_mean          | 1e+03       |\n",
      "|    ep_rew_mean          | -59.6       |\n",
      "| time/                   |             |\n",
      "|    fps                  | 286         |\n",
      "|    iterations           | 25          |\n",
      "|    time_elapsed         | 178         |\n",
      "|    total_timesteps      | 51200       |\n",
      "| train/                  |             |\n",
      "|    approx_kl            | 0.022604743 |\n",
      "|    clip_fraction        | 0.131       |\n",
      "|    clip_range           | 0.2         |\n",
      "|    entropy_loss         | -0.501      |\n",
      "|    explained_variance   | 0.364       |\n",
      "|    learning_rate        | 0.0003      |\n",
      "|    loss                 | 2.03        |\n",
      "|    n_updates            | 240         |\n",
      "|    policy_gradient_loss | 0.0126      |\n",
      "|    value_loss           | 4.58        |\n",
      "-----------------------------------------\n"
     ]
    },
    {
     "data": {
      "text/plain": "<stable_baselines3.ppo.ppo.PPO at 0x7fc5e80c8430>"
     },
     "execution_count": 285,
     "metadata": {},
     "output_type": "execute_result"
    }
   ],
   "source": [
    "model.learn(total_timesteps=50000)"
   ],
   "metadata": {
    "collapsed": false,
    "ExecuteTime": {
     "end_time": "2024-05-20T10:42:55.966064800Z",
     "start_time": "2024-05-20T10:39:55.472813100Z"
    }
   },
   "id": "455fd93683590ae7"
  },
  {
   "cell_type": "code",
   "execution_count": 286,
   "outputs": [],
   "source": [
    "model_path = os.path.join(\"Training\", \"Saved Models\", \"PPO_MODEL\")\n",
    "model.save(model_path)"
   ],
   "metadata": {
    "collapsed": false,
    "ExecuteTime": {
     "end_time": "2024-05-20T10:42:55.988064600Z",
     "start_time": "2024-05-20T10:42:55.962068300Z"
    }
   },
   "id": "133e97b760f1add5"
  },
  {
   "cell_type": "code",
   "execution_count": 287,
   "outputs": [],
   "source": [
    "# model = PPO.load(model_path)"
   ],
   "metadata": {
    "collapsed": false,
    "ExecuteTime": {
     "end_time": "2024-05-20T10:42:56.035101600Z",
     "start_time": "2024-05-20T10:42:55.991069600Z"
    }
   },
   "id": "fc9e82d8375387b4"
  },
  {
   "cell_type": "code",
   "execution_count": 288,
   "outputs": [
    {
     "name": "stdout",
     "output_type": "stream",
     "text": [
      "TOTAL EMISSIONS: [438443.484]\n",
      "Episode:1 Reward:104\n"
     ]
    }
   ],
   "source": [
    "episodes = 1\n",
    "for episode in range(1, episodes+1):\n",
    "    obs, inf = env.reset()\n",
    "    evaluation_data = pd.DataFrame(None)\n",
    "    old_emission_difference.clear()\n",
    "    old_emission_difference.append(0)\n",
    "    hourly_emission_difference.clear()\n",
    "    hourly_battery_level.clear()\n",
    "    hourly_baseline_em.clear()\n",
    "    hourly_battery_em.clear()\n",
    "    decision_hist.clear()\n",
    "    reward_hist.clear()\n",
    "    done = False\n",
    "    score = 0\n",
    "\n",
    "    while not done:\n",
    "        action, _ = model.predict(obs) # Random actions here\n",
    "        obs, reward, done, truncated, info = env.step(action)\n",
    "        score += reward\n",
    "    print('Episode:{} Reward:{}'.format(episode, score))\n",
    "    \n",
    "    evaluation_data.insert(0,column=\"energy_usage\",value=pd.Series(e_usage[:env_length]))\n",
    "    evaluation_data.insert(1,column=\"carbon_intensity\",value=pd.Series(c_int[:env_length]))\n",
    "    evaluation_data.insert(2,column=\"battery_level\",value=pd.Series(hourly_battery_level))\n",
    "    evaluation_data.insert(3,column=\"decision\",value=pd.Series(decision_hist))\n",
    "    evaluation_data.insert(4,column=\"emission_baseline\",value=pd.Series(hourly_baseline_em))\n",
    "    evaluation_data.insert(5,column=\"emission_w_battery\",value=pd.Series(hourly_battery_em))\n",
    "    evaluation_data.insert(6,column=\"old_emission_delta\",value=pd.Series(old_emission_difference))\n",
    "    evaluation_data.insert(7,column=\"emission_delta\",value=pd.Series(hourly_emission_difference))\n",
    "    evaluation_data.insert(8,column=\"reward\",value=pd.Series(reward_hist))"
   ],
   "metadata": {
    "collapsed": false,
    "ExecuteTime": {
     "end_time": "2024-05-20T10:42:57.668066200Z",
     "start_time": "2024-05-20T10:42:56.049063900Z"
    }
   },
   "id": "303545fadf5be61b"
  },
  {
   "cell_type": "code",
   "execution_count": 289,
   "outputs": [],
   "source": [
    "evaluation_data.to_csv(\"evaluation.csv\")"
   ],
   "metadata": {
    "collapsed": false,
    "ExecuteTime": {
     "end_time": "2024-05-20T10:42:57.889063300Z",
     "start_time": "2024-05-20T10:42:57.663068100Z"
    }
   },
   "id": "5a6478cc01ddef82"
  },
  {
   "cell_type": "code",
   "execution_count": 290,
   "outputs": [
    {
     "name": "stdout",
     "output_type": "stream",
     "text": [
      "     energy_usage  carbon_intensity battery_level    decision  \\\n",
      "0             969               404        [4000]  Discharged   \n",
      "1            1583               370        [3000]  Discharged   \n",
      "2             818               388        [2000]  Discharged   \n",
      "3            1201               399        [1000]  Discharged   \n",
      "4            1369               402           [0]  Discharged   \n",
      "..            ...               ...           ...         ...   \n",
      "995          1007               204        [1000]  Discharged   \n",
      "996           748               201           [0]  Discharged   \n",
      "997           779               200           [0]  Discharged   \n",
      "998           934               205        [1000]     Charged   \n",
      "999          1055               222           [0]  Discharged   \n",
      "\n",
      "        emission_baseline    emission_w_battery   old_emission_delta  \\\n",
      "0               [391.476]                     0                    0   \n",
      "1                [585.71]                     0            [391.476]   \n",
      "2    [317.38399999999996]                     0            [977.186]   \n",
      "3               [479.199]                     0            [1294.57]   \n",
      "4               [550.338]                     0           [1773.769]   \n",
      "..                    ...                   ...                  ...   \n",
      "995  [205.42799999999997]                     0  [88851.22299999959]   \n",
      "996             [150.348]                     0   [89056.6509999996]   \n",
      "997               [155.8]                     0   [89206.9989999996]   \n",
      "998              [191.47]  [396.46999999999997]  [89362.79899999959]   \n",
      "999  [234.20999999999998]                     0  [89157.79899999959]   \n",
      "\n",
      "          emission_delta  reward  \n",
      "0              [391.476]       1  \n",
      "1              [977.186]       1  \n",
      "2              [1294.57]       1  \n",
      "3             [1773.769]       1  \n",
      "4             [2324.107]       1  \n",
      "..                   ...     ...  \n",
      "995   [89056.6509999996]       1  \n",
      "996   [89206.9989999996]       1  \n",
      "997  [89362.79899999959]       1  \n",
      "998  [89157.79899999959]      -1  \n",
      "999  [89392.00899999961]       1  \n",
      "\n",
      "[1000 rows x 9 columns]\n"
     ]
    }
   ],
   "source": [
    "print(evaluation_data)"
   ],
   "metadata": {
    "collapsed": false,
    "ExecuteTime": {
     "end_time": "2024-05-20T10:42:57.913069100Z",
     "start_time": "2024-05-20T10:42:57.902061800Z"
    }
   },
   "id": "7ba11964e5f275e9"
  },
  {
   "cell_type": "code",
   "execution_count": 291,
   "outputs": [],
   "source": [
    "# training_log_path = os.path.join(log_path, 'DQN_9')"
   ],
   "metadata": {
    "collapsed": false,
    "ExecuteTime": {
     "end_time": "2024-05-20T10:42:57.913069100Z",
     "start_time": "2024-05-20T10:42:57.905080400Z"
    }
   },
   "id": "869739f5ffbd1447"
  },
  {
   "cell_type": "code",
   "execution_count": 292,
   "outputs": [
    {
     "name": "stdout",
     "output_type": "stream",
     "text": [
      "Final delta: 89392.00899999961\n",
      "0        391.476\n",
      "1        977.186\n",
      "2       1294.570\n",
      "3       1773.769\n",
      "4       2324.107\n",
      "         ...    \n",
      "995    89056.651\n",
      "996    89206.999\n",
      "997    89362.799\n",
      "998    89157.799\n",
      "999    89392.009\n",
      "Length: 1000, dtype: float64\n"
     ]
    },
    {
     "data": {
      "text/plain": "<Figure size 640x480 with 1 Axes>",
      "image/png": "[encoded data removed]"
     },
     "metadata": {},
     "output_type": "display_data"
    }
   ],
   "source": [
    "my_list = map(lambda x: x[0], evaluation_data[\"emission_delta\"])\n",
    "ser = pd.Series(my_list)\n",
    "ser.plot()\n",
    "print(f'Final delta: {ser.iloc[-1]}')\n",
    "print(ser)"
   ],
   "metadata": {
    "collapsed": false,
    "ExecuteTime": {
     "end_time": "2024-05-20T10:42:58.026651Z",
     "start_time": "2024-05-20T10:42:57.913069100Z"
    }
   },
   "id": "64cfafa235513124"
  },
  {
   "cell_type": "code",
   "execution_count": 293,
   "outputs": [
    {
     "data": {
      "text/plain": "<Axes: >"
     },
     "execution_count": 293,
     "metadata": {},
     "output_type": "execute_result"
    },
    {
     "data": {
      "text/plain": "<Figure size 640x480 with 1 Axes>",
      "image/png": "[encoded data removed]"
     },
     "metadata": {},
     "output_type": "display_data"
    }
   ],
   "source": [
    "my_list = map(lambda x: x[0], evaluation_data[\"battery_level\"])\n",
    "ser = pd.Series(my_list)\n",
    "ser.plot()"
   ],
   "metadata": {
    "collapsed": false,
    "ExecuteTime": {
     "end_time": "2024-05-20T10:42:58.221180200Z",
     "start_time": "2024-05-20T10:42:58.026651Z"
    }
   },
   "id": "3cccf78261d0e804"
  },
  {
   "cell_type": "code",
   "execution_count": 293,
   "outputs": [],
   "source": [],
   "metadata": {
    "collapsed": false,
    "ExecuteTime": {
     "end_time": "2024-05-20T10:42:58.222181900Z",
     "start_time": "2024-05-20T10:42:58.213183800Z"
    }
   },
   "id": "939678283355057c"
  },
  {
   "cell_type": "code",
   "execution_count": 293,
   "outputs": [],
   "source": [],
   "metadata": {
    "collapsed": false,
    "ExecuteTime": {
     "end_time": "2024-05-20T10:42:58.280216100Z",
     "start_time": "2024-05-20T10:42:58.221180200Z"
    }
   },
   "id": "2e29d9b7405b4883"
  }
 ],
 "metadata": {
  "kernelspec": {
   "display_name": "Python 3",
   "language": "python",
   "name": "python3"
  },
  "language_info": {
   "codemirror_mode": {
    "name": "ipython",
    "version": 2
   },
   "file_extension": ".py",
   "mimetype": "text/x-python",
   "name": "python",
   "nbconvert_exporter": "python",
   "pygments_lexer": "ipython2",
   "version": "2.7.6"
  }
 },
 "nbformat": 4,
 "nbformat_minor": 5
}
