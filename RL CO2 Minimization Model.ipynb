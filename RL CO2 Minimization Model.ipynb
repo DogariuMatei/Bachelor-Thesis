{
 "cells": [
  {
   "cell_type": "code",
   "execution_count": 197,
   "id": "initial_id",
   "metadata": {
    "collapsed": true,
    "ExecuteTime": {
     "end_time": "2024-04-25T12:44:16.292329600Z",
     "start_time": "2024-04-25T12:44:16.220361300Z"
    }
   },
   "outputs": [],
   "source": [
    "from gymnasium import Env\n",
    "from gymnasium import Space\n",
    "from gymnasium.spaces import Discrete\n",
    "import pandas as pd\n",
    "import numpy as np\n",
    "import random as rm"
   ]
  },
  {
   "cell_type": "code",
   "execution_count": 198,
   "outputs": [],
   "source": [
    "carbon_intensity = pd.read_csv('Datasets/Carbon_intensity_processed_hourly.csv')\n",
    "electricity_usage = pd.read_csv('Datasets/Household_processed_hourly.csv')"
   ],
   "metadata": {
    "collapsed": false,
    "ExecuteTime": {
     "end_time": "2024-04-25T12:44:16.349317300Z",
     "start_time": "2024-04-25T12:44:16.230319500Z"
    }
   },
   "id": "9acea165d31417fc"
  },
  {
   "cell_type": "code",
   "execution_count": 199,
   "outputs": [],
   "source": [
    "carbon_intensity['Datetime (UTC)'] = pd.to_datetime(carbon_intensity['Datetime (UTC)'], utc=True)\n",
    "carbon_intensity = carbon_intensity.set_index('Datetime (UTC)')\n",
    "carbon_intensity.index = carbon_intensity.index.tz_convert(None)\n",
    "carbon_intensity = carbon_intensity['Carbon Intensity gCO₂eq/kWh (LCA)']\n"
   ],
   "metadata": {
    "collapsed": false,
    "ExecuteTime": {
     "end_time": "2024-04-25T12:44:16.385038600Z",
     "start_time": "2024-04-25T12:44:16.339313700Z"
    }
   },
   "id": "ac609cd148501070"
  },
  {
   "cell_type": "code",
   "execution_count": 200,
   "outputs": [],
   "source": [
    "c_int = np.asarray(carbon_intensity['2021-07-05 00:00:00':'2021-12-05 21:00:00'],dtype=np.int32)"
   ],
   "metadata": {
    "collapsed": false,
    "ExecuteTime": {
     "end_time": "2024-04-25T12:44:16.388038100Z",
     "start_time": "2024-04-25T12:44:16.353317400Z"
    }
   },
   "id": "b52da773c2a0fbe1"
  },
  {
   "cell_type": "code",
   "execution_count": 201,
   "outputs": [],
   "source": [
    "electricity_usage['date'] = pd.to_datetime(electricity_usage['date'], utc=True)\n",
    "electricity_usage= electricity_usage.set_index('date')\n",
    "electricity_usage.index = electricity_usage.index.tz_convert(None)\n",
    "electricity_usage = electricity_usage['energy meter val']"
   ],
   "metadata": {
    "collapsed": false,
    "ExecuteTime": {
     "end_time": "2024-04-25T12:44:16.431038600Z",
     "start_time": "2024-04-25T12:44:16.367514800Z"
    }
   },
   "id": "11cd1e0acf3bf76b"
  },
  {
   "cell_type": "code",
   "execution_count": 202,
   "outputs": [],
   "source": [
    "e_usage = np.asarray(electricity_usage['2015-07-05 00:00:00':], dtype=np.int32)"
   ],
   "metadata": {
    "collapsed": false,
    "ExecuteTime": {
     "end_time": "2024-04-25T12:44:16.438042600Z",
     "start_time": "2024-04-25T12:44:16.375045800Z"
    }
   },
   "id": "ccc36b6530c936ca"
  },
  {
   "cell_type": "code",
   "execution_count": 203,
   "outputs": [
    {
     "data": {
      "text/plain": "array([[404,  96],\n       [370, 158],\n       [388,  81],\n       ...,\n       [473, 128],\n       [475, 128],\n       [475, 128]], dtype=int32)"
     },
     "execution_count": 203,
     "metadata": {},
     "output_type": "execute_result"
    }
   ],
   "source": [
    "energy_matrix = np.vstack((c_int, e_usage)).T\n",
    "energy_matrix"
   ],
   "metadata": {
    "collapsed": false,
    "ExecuteTime": {
     "end_time": "2024-04-25T12:44:16.440043Z",
     "start_time": "2024-04-25T12:44:16.384038800Z"
    }
   },
   "id": "5095794e59446bc0"
  },
  {
   "cell_type": "code",
   "execution_count": 204,
   "outputs": [],
   "source": [
    "# Constant Environment Variables \n",
    "env_length = 24"
   ],
   "metadata": {
    "collapsed": false,
    "ExecuteTime": {
     "end_time": "2024-04-25T12:44:16.440043Z",
     "start_time": "2024-04-25T12:44:16.389040700Z"
    }
   },
   "id": "7172a12dafdf059c"
  },
  {
   "cell_type": "code",
   "execution_count": 205,
   "outputs": [],
   "source": [
    "# def reward_algo(self):\n",
    "#     if 60 <= self.state <= 65:\n",
    "#         return 1\n",
    "#     else:\n",
    "#         return -1"
   ],
   "metadata": {
    "collapsed": false,
    "ExecuteTime": {
     "end_time": "2024-04-25T12:44:16.440043Z",
     "start_time": "2024-04-25T12:44:16.399041600Z"
    }
   },
   "id": "5ad53d73b3785341"
  },
  {
   "cell_type": "code",
   "execution_count": 206,
   "outputs": [],
   "source": [
    "def is_done(self):\n",
    "    if self.length == 0:\n",
    "        return True\n",
    "    else:\n",
    "        return False"
   ],
   "metadata": {
    "collapsed": false,
    "ExecuteTime": {
     "end_time": "2024-04-25T12:44:16.440043Z",
     "start_time": "2024-04-25T12:44:16.406045500Z"
    }
   },
   "id": "d108dc74de5e8913"
  },
  {
   "cell_type": "code",
   "execution_count": 207,
   "outputs": [],
   "source": [
    "class CustomObservationSpace(Space):\n",
    "    def __init__(self, e_matrix):\n",
    "        super().__init__(dtype=object)\n",
    "        self.e_matrix = e_matrix\n",
    "        self.index = 0\n",
    "\n",
    "    def get_first(self):\n",
    "        return self.e_matrix[0]\n",
    "    \n",
    "    def get_next(self):\n",
    "        self.index += 1\n",
    "        return self.e_matrix[self.index]\n",
    "\n",
    "    def sample(self):\n",
    "        return np.random.choice(self.e_matrix)\n",
    "  \n",
    "    def contains(self, observation):\n",
    "        # Check if the observation (two valued arr) is valid based on allowed values\n",
    "        return observation in self.e_matrix\n",
    "    \n",
    "observation_space = CustomObservationSpace(energy_matrix)\n"
   ],
   "metadata": {
    "collapsed": false,
    "ExecuteTime": {
     "end_time": "2024-04-25T12:44:16.441042700Z",
     "start_time": "2024-04-25T12:44:16.415055400Z"
    }
   },
   "id": "e49c585e467b58af"
  },
  {
   "cell_type": "code",
   "execution_count": 208,
   "outputs": [],
   "source": [
    "class Environment(Env):\n",
    "    def __init__(self):\n",
    "        # Actions are discharge(-1), nothing (0) and charge (1)\n",
    "        self.action_space = Discrete(3, start = -1)\n",
    "        # Custom observation space, contains the arr.length * 2 sized matrix and, later, battery\n",
    "        self.observation_space = observation_space\n",
    "        self.state = observation_space.get_first()\n",
    "        self.length = env_length\n",
    "        \n",
    "    def step(self, action):\n",
    "        print(f'We are at index: {observation_space.index}')\n",
    "        print(f'The current values are:{observation_space.e_matrix[observation_space.index]}')\n",
    "        \n",
    "        # Perform 'game logic' for each possible agent action\n",
    "        if action == -1:\n",
    "            print('Discharge')\n",
    "            print()\n",
    "        elif action == 0:\n",
    "            print('Nothing')\n",
    "            print()\n",
    "        elif action == 1:\n",
    "            print('Charge')\n",
    "            print()\n",
    "        else:\n",
    "            print('Should not happen')\n",
    "        \n",
    "        # Reduce remaining env size\n",
    "        self.length -= 1\n",
    "        # Go to next element of observation space\n",
    "        self.state = observation_space.get_next()\n",
    "        \n",
    "        # Update reward\n",
    "        # reward = reward_algo(self)\n",
    "            \n",
    "        # Check if finished\n",
    "        done = is_done(self)\n",
    "        \n",
    "        return self.state, done\n",
    "    def render(self):\n",
    "        # Implement if needed\n",
    "        pass\n",
    "    \n",
    "    def reset(self):\n",
    "        self.state = observation_space.get_first()\n",
    "        self.length = env_length"
   ],
   "metadata": {
    "collapsed": false,
    "ExecuteTime": {
     "end_time": "2024-04-25T12:44:16.441042700Z",
     "start_time": "2024-04-25T12:44:16.424042600Z"
    }
   },
   "id": "84894bb74b346dcc"
  },
  {
   "cell_type": "code",
   "execution_count": 209,
   "outputs": [],
   "source": [
    "env = Environment()"
   ],
   "metadata": {
    "collapsed": false,
    "ExecuteTime": {
     "end_time": "2024-04-25T12:44:16.442044Z",
     "start_time": "2024-04-25T12:44:16.433039500Z"
    }
   },
   "id": "3f3b92941a4d0be2"
  },
  {
   "cell_type": "code",
   "execution_count": 210,
   "outputs": [
    {
     "name": "stdout",
     "output_type": "stream",
     "text": [
      "We are at index: 0\n",
      "The current values are:[404  96]\n",
      "Nothing\n",
      "\n",
      "We are at index: 1\n",
      "The current values are:[370 158]\n",
      "Nothing\n",
      "\n",
      "We are at index: 2\n",
      "The current values are:[388  81]\n",
      "Nothing\n",
      "\n",
      "We are at index: 3\n",
      "The current values are:[399 120]\n",
      "Charge\n",
      "\n",
      "We are at index: 4\n",
      "The current values are:[402 136]\n",
      "Nothing\n",
      "\n",
      "We are at index: 5\n",
      "The current values are:[340  90]\n",
      "Charge\n",
      "\n",
      "We are at index: 6\n",
      "The current values are:[321 159]\n",
      "Nothing\n",
      "\n",
      "We are at index: 7\n",
      "The current values are:[311 156]\n",
      "Nothing\n",
      "\n",
      "We are at index: 8\n",
      "The current values are:[300 123]\n",
      "Nothing\n",
      "\n",
      "We are at index: 9\n",
      "The current values are:[299 209]\n",
      "Discharge\n",
      "\n",
      "We are at index: 10\n",
      "The current values are:[297 148]\n",
      "Nothing\n",
      "\n",
      "We are at index: 11\n",
      "The current values are:[294 152]\n",
      "Charge\n",
      "\n",
      "We are at index: 12\n",
      "The current values are:[296 131]\n",
      "Charge\n",
      "\n",
      "We are at index: 13\n",
      "The current values are:[300 149]\n",
      "Discharge\n",
      "\n",
      "We are at index: 14\n",
      "The current values are:[301 158]\n",
      "Charge\n",
      "\n",
      "We are at index: 15\n",
      "The current values are:[318 270]\n",
      "Charge\n",
      "\n",
      "We are at index: 16\n",
      "The current values are:[326  54]\n",
      "Discharge\n",
      "\n",
      "We are at index: 17\n",
      "The current values are:[338 141]\n",
      "Nothing\n",
      "\n",
      "We are at index: 18\n",
      "The current values are:[368 163]\n",
      "Nothing\n",
      "\n",
      "We are at index: 19\n",
      "The current values are:[428 179]\n",
      "Discharge\n",
      "\n",
      "We are at index: 20\n",
      "The current values are:[458 185]\n",
      "Charge\n",
      "\n",
      "We are at index: 21\n",
      "The current values are:[448  50]\n",
      "Charge\n",
      "\n",
      "We are at index: 22\n",
      "The current values are:[416 105]\n",
      "Charge\n",
      "\n",
      "We are at index: 23\n",
      "The current values are:[379 101]\n",
      "Charge\n"
     ]
    }
   ],
   "source": [
    "episodes = 1\n",
    "for episode in range(1, episodes+1):\n",
    "    state = env.reset()\n",
    "    done = False\n",
    "    # score = 0 \n",
    "\n",
    "    while not done:\n",
    "        action = env.action_space.sample() # Random actions here\n",
    "        n_state, done = env.step(action)\n",
    "        # score+=reward\n",
    "    # print('Episode:{} Score:{}'.format(episode, score))"
   ],
   "metadata": {
    "collapsed": false,
    "ExecuteTime": {
     "end_time": "2024-04-25T12:44:16.462038500Z",
     "start_time": "2024-04-25T12:44:16.446334600Z"
    }
   },
   "id": "22b8929025289b30"
  },
  {
   "cell_type": "code",
   "execution_count": 211,
   "outputs": [],
   "source": [
    "# states = env.observation_space.shape\n",
    "# actions = env.action_space.n"
   ],
   "metadata": {
    "collapsed": false,
    "ExecuteTime": {
     "end_time": "2024-04-25T12:44:16.462038500Z",
     "start_time": "2024-04-25T12:44:16.453039600Z"
    }
   },
   "id": "895e02aed605d28"
  }
 ],
 "metadata": {
  "kernelspec": {
   "display_name": "Python 3",
   "language": "python",
   "name": "python3"
  },
  "language_info": {
   "codemirror_mode": {
    "name": "ipython",
    "version": 2
   },
   "file_extension": ".py",
   "mimetype": "text/x-python",
   "name": "python",
   "nbconvert_exporter": "python",
   "pygments_lexer": "ipython2",
   "version": "2.7.6"
  }
 },
 "nbformat": 4,
 "nbformat_minor": 5
}
