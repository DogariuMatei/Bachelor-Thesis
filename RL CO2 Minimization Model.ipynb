{
 "cells": [
  {
   "cell_type": "code",
   "execution_count": 1,
   "id": "initial_id",
   "metadata": {
    "collapsed": true,
    "ExecuteTime": {
     "end_time": "2024-05-20T15:56:49.048858400Z",
     "start_time": "2024-05-20T15:56:45.115481400Z"
    }
   },
   "outputs": [],
   "source": [
    "import os\n",
    "from gymnasium import Env\n",
    "from gymnasium import spaces\n",
    "from gymnasium.spaces import Discrete\n",
    "import pandas as pd\n",
    "import numpy as np\n",
    "\n",
    "from stable_baselines3 import DQN\n",
    "from stable_baselines3 import PPO\n",
    "from stable_baselines3.common.env_util import make_vec_env\n",
    "from stable_baselines3.common.evaluation import evaluate_policy\n",
    "\n"
   ]
  },
  {
   "cell_type": "code",
   "execution_count": 2,
   "outputs": [],
   "source": [
    "carbon_intensity = pd.read_csv('Datasets/Carbon_intensity_processed_hourly.csv')\n",
    "electricity_usage = pd.read_csv('Datasets/Household_processed_hourly.csv')"
   ],
   "metadata": {
    "collapsed": false,
    "ExecuteTime": {
     "end_time": "2024-05-20T15:56:49.141861100Z",
     "start_time": "2024-05-20T15:56:49.045859700Z"
    }
   },
   "id": "9acea165d31417fc"
  },
  {
   "cell_type": "code",
   "execution_count": 3,
   "outputs": [],
   "source": [
    "carbon_intensity['Datetime (UTC)'] = pd.to_datetime(carbon_intensity['Datetime (UTC)'], utc=True)\n",
    "carbon_intensity = carbon_intensity.set_index('Datetime (UTC)')\n",
    "carbon_intensity.index = carbon_intensity.index.tz_convert(None)\n",
    "carbon_intensity = carbon_intensity['Carbon Intensity gCO₂eq/kWh (LCA)']\n"
   ],
   "metadata": {
    "collapsed": false,
    "ExecuteTime": {
     "end_time": "2024-05-20T15:56:49.186858100Z",
     "start_time": "2024-05-20T15:56:49.160861300Z"
    }
   },
   "id": "ac609cd148501070"
  },
  {
   "cell_type": "code",
   "execution_count": 4,
   "outputs": [],
   "source": [
    "c_int = np.asarray(carbon_intensity['2021-07-05 00:00:00':'2021-12-05 21:00:00'],dtype=int)"
   ],
   "metadata": {
    "collapsed": false,
    "ExecuteTime": {
     "end_time": "2024-05-20T15:56:49.186858100Z",
     "start_time": "2024-05-20T15:56:49.168858700Z"
    }
   },
   "id": "b52da773c2a0fbe1"
  },
  {
   "cell_type": "code",
   "execution_count": 5,
   "outputs": [],
   "source": [
    "electricity_usage['date'] = pd.to_datetime(electricity_usage['date'], utc=True)\n",
    "electricity_usage= electricity_usage.set_index('date')\n",
    "electricity_usage.index = electricity_usage.index.tz_convert(None)\n",
    "electricity_usage = electricity_usage['energy meter val']"
   ],
   "metadata": {
    "collapsed": false,
    "ExecuteTime": {
     "end_time": "2024-05-20T15:56:49.187858Z",
     "start_time": "2024-05-20T15:56:49.180858600Z"
    }
   },
   "id": "11cd1e0acf3bf76b"
  },
  {
   "cell_type": "code",
   "execution_count": 6,
   "outputs": [],
   "source": [
    "e_usage = np.asarray([(i * 10) for i in electricity_usage['2015-07-05 00:00:00':]], dtype=int)"
   ],
   "metadata": {
    "collapsed": false,
    "ExecuteTime": {
     "end_time": "2024-05-20T15:56:49.208858900Z",
     "start_time": "2024-05-20T15:56:49.185859200Z"
    }
   },
   "id": "ccc36b6530c936ca"
  },
  {
   "cell_type": "markdown",
   "source": [
    "----------------------"
   ],
   "metadata": {
    "collapsed": false
   },
   "id": "9b532a69a5187653"
  },
  {
   "cell_type": "code",
   "execution_count": 7,
   "outputs": [],
   "source": [
    "# Global evaluation vars\n",
    "evaluation_data = pd.DataFrame()\n",
    "old_emission_difference = [0]\n",
    "hourly_emission_difference = []\n",
    "hourly_battery_level = []\n",
    "hourly_baseline_em = []\n",
    "hourly_battery_em = []\n",
    "decision_hist = []\n",
    "reward_hist = []\n",
    "total_emissions_saved = 0"
   ],
   "metadata": {
    "collapsed": false,
    "ExecuteTime": {
     "end_time": "2024-05-20T15:56:49.208858900Z",
     "start_time": "2024-05-20T15:56:49.194381300Z"
    }
   },
   "id": "cf5973345046501a"
  },
  {
   "cell_type": "code",
   "execution_count": 8,
   "outputs": [],
   "source": [
    "# Environment Constants\n",
    "arr_start_point = 0 # where in the e_usage and c_int arrays to start\n",
    "env_length = 1000 # number of hours\n",
    "battery_size = 5000 #Watt/Hour\n",
    "charge_discharge_rate = 1000 #Watt/Hour"
   ],
   "metadata": {
    "collapsed": false,
    "ExecuteTime": {
     "end_time": "2024-05-20T15:56:49.208858900Z",
     "start_time": "2024-05-20T15:56:49.198859300Z"
    }
   },
   "id": "7172a12dafdf059c"
  },
  {
   "cell_type": "code",
   "execution_count": 9,
   "outputs": [],
   "source": [
    "def calculate_emissions_standard(c_int, e_usage):\n",
    "    em = c_int * (e_usage/1000)\n",
    "    return em"
   ],
   "metadata": {
    "collapsed": false,
    "ExecuteTime": {
     "end_time": "2024-05-20T15:56:49.259858500Z",
     "start_time": "2024-05-20T15:56:49.205858700Z"
    }
   },
   "id": "1138f83050a4d0ee"
  },
  {
   "cell_type": "code",
   "execution_count": 10,
   "outputs": [],
   "source": [
    "def calculate_emissions_when_discharge(curr_c_int, e_usage):\n",
    "    em_new = 0\n",
    "    if e_usage > charge_discharge_rate:\n",
    "        em_new = calculate_emissions_standard(curr_c_int, e_usage)\n",
    "    return em_new"
   ],
   "metadata": {
    "collapsed": false,
    "ExecuteTime": {
     "end_time": "2024-05-20T15:56:49.260862800Z",
     "start_time": "2024-05-20T15:56:49.211857400Z"
    }
   },
   "id": "718fbb643fb77b61"
  },
  {
   "cell_type": "code",
   "execution_count": 11,
   "outputs": [],
   "source": [
    "def eval_battery_level_and_emissions(emissions, battery_val):\n",
    "    hourly_battery_em.append(emissions)\n",
    "    hourly_battery_level.append(battery_val)\n",
    "    "
   ],
   "metadata": {
    "collapsed": false,
    "ExecuteTime": {
     "end_time": "2024-05-20T15:56:49.261858600Z",
     "start_time": "2024-05-20T15:56:49.219861300Z"
    }
   },
   "id": "790a7f513a58de05"
  },
  {
   "cell_type": "code",
   "execution_count": 12,
   "outputs": [],
   "source": [
    "def reward_algo(self):\n",
    "    curr_delta = abs(self.emissions_with_battery - self.emissions_baseline)\n",
    "    if curr_delta > self.state[\"old_em_delta\"]:\n",
    "        reward_hist.append(1)\n",
    "        return 1\n",
    "    else:\n",
    "        reward_hist.append(-1)\n",
    "        return -1"
   ],
   "metadata": {
    "collapsed": false,
    "ExecuteTime": {
     "end_time": "2024-05-20T15:56:49.261858600Z",
     "start_time": "2024-05-20T15:56:49.225862500Z"
    }
   },
   "id": "5ad53d73b3785341"
  },
  {
   "cell_type": "code",
   "execution_count": 13,
   "outputs": [],
   "source": [
    "def is_done(self):\n",
    "    if self.length == 0:\n",
    "        print(f'TOTAL EMISSIONS: {self.emissions_baseline}')\n",
    "        return True\n",
    "    else:\n",
    "        return False"
   ],
   "metadata": {
    "collapsed": false,
    "ExecuteTime": {
     "end_time": "2024-05-20T15:56:49.262860300Z",
     "start_time": "2024-05-20T15:56:49.234864300Z"
    }
   },
   "id": "d108dc74de5e8913"
  },
  {
   "cell_type": "code",
   "execution_count": 14,
   "outputs": [],
   "source": [
    "class Environment(Env):\n",
    "    def __init__(self):\n",
    "        super().__init__()\n",
    "        # Actions are discharge(-1), nothing (0) and charge (1)\n",
    "        self.action_space = Discrete(3)\n",
    "        self.observation_space = spaces.Dict({\n",
    "                \"carbon_int\" : spaces.Box(low = 0, high = 100000, shape=(1,), dtype=int),\n",
    "                \"electric_usage\" : spaces.Box(low = 0, high = 10000, shape=(1,), dtype=int),\n",
    "                \"battery_charge\" : spaces.Box(low = 0, high = battery_size, shape=(1,), dtype=int),\n",
    "                \"old_em_delta\" : spaces.Box(low = -np.inf, high = np.inf, shape=(1,), dtype=int)\n",
    "            }\n",
    "        )            \n",
    "        \n",
    "        self.c_int = c_int\n",
    "        self.e_usage = e_usage\n",
    "        self.length = env_length\n",
    "        self.hour_index = arr_start_point\n",
    "        \n",
    "        self.emissions_baseline = 0\n",
    "        self.emissions_with_battery = 0\n",
    "        \n",
    "        self.state = {\n",
    "            \"carbon_int\": np.array([self.c_int[arr_start_point]]),\n",
    "            \"electric_usage\": np.array([self.e_usage[arr_start_point]]),\n",
    "            \"battery_charge\": np.array([battery_size]),\n",
    "            \"old_em_delta\": np.array([0]),\n",
    "        }\n",
    "        \n",
    "        \n",
    "    def step(self, action):\n",
    "\n",
    "        if self.length < env_length: # => not on first call of step\n",
    "            self.state.update({\"old_em_delta\" : np.array([abs(self.emissions_with_battery - self.emissions_baseline)])})\n",
    "            old_emission_difference.append(abs(self.emissions_with_battery - self.emissions_baseline))\n",
    "\n",
    "        curr_c_int = self.state[\"carbon_int\"]\n",
    "        curr_e_usage = self.state[\"electric_usage\"]\n",
    "        curr_charge = self.state[\"battery_charge\"]\n",
    "        \n",
    "        baseline_em_now = calculate_emissions_standard(curr_c_int, curr_e_usage)\n",
    "        self.emissions_baseline = self.emissions_baseline + baseline_em_now\n",
    "        hourly_baseline_em.append(baseline_em_now)\n",
    "        \n",
    "\n",
    "        # Perform 'game logic' for each possible agent action\n",
    "        if action == 0 and curr_charge >= 0:\n",
    "            decision_hist.append(\"Discharged\")\n",
    "            if curr_charge > charge_discharge_rate:\n",
    "                emissions_now = calculate_emissions_when_discharge(curr_c_int, curr_e_usage - charge_discharge_rate)\n",
    "                self.emissions_with_battery = self.emissions_with_battery + emissions_now\n",
    "                new_battery_charge_val = curr_charge - charge_discharge_rate\n",
    "                eval_battery_level_and_emissions(emissions_now,new_battery_charge_val)\n",
    "                self.state.update({\"battery_charge\" : new_battery_charge_val})\n",
    "            elif 0 <= curr_charge <= charge_discharge_rate:\n",
    "                emissions_now = calculate_emissions_when_discharge(curr_c_int, curr_e_usage - curr_charge)\n",
    "                self.emissions_with_battery = self.emissions_with_battery + emissions_now\n",
    "                new_battery_charge_val = np.array([0])\n",
    "                eval_battery_level_and_emissions(emissions_now,new_battery_charge_val)\n",
    "                self.state.update({\"battery_charge\" : new_battery_charge_val})\n",
    "            \n",
    "        elif action == 1:\n",
    "            decision_hist.append(\"Nothing\")\n",
    "            emissions_now = calculate_emissions_standard(curr_c_int,curr_e_usage)\n",
    "            eval_battery_level_and_emissions(emissions_now,curr_charge)\n",
    "            self.emissions_with_battery = self.emissions_with_battery + emissions_now\n",
    "            \n",
    "        elif action == 2 and curr_charge <= battery_size:\n",
    "            decision_hist.append(\"Charged\")\n",
    "            if (battery_size - charge_discharge_rate) <= curr_charge <= battery_size:\n",
    "                emissions_now = calculate_emissions_standard(curr_c_int, curr_e_usage + (battery_size - curr_charge))\n",
    "                self.emissions_with_battery = self.emissions_with_battery + emissions_now\n",
    "                new_battery_charge_val = np.array([battery_size])\n",
    "                \n",
    "                eval_battery_level_and_emissions(emissions_now,new_battery_charge_val)\n",
    "                self.state.update({\"battery_charge\" : new_battery_charge_val})\n",
    "            elif 0 <= curr_charge < (battery_size - charge_discharge_rate):\n",
    "                emissions_now = calculate_emissions_standard(curr_c_int, curr_e_usage + charge_discharge_rate)\n",
    "                self.emissions_with_battery = self.emissions_with_battery + emissions_now\n",
    "                new_battery_charge_val = curr_charge + charge_discharge_rate\n",
    "                eval_battery_level_and_emissions(emissions_now,new_battery_charge_val)\n",
    "                self.state.update({\"battery_charge\" : new_battery_charge_val})\n",
    "        else:\n",
    "            decision_hist.append(\"PASSED\")\n",
    "            raise Exception(\"Smth weird happened\")\n",
    "        \n",
    "        # Some eval metrics\n",
    "        hourly_emission_difference.append(abs(self.emissions_with_battery - self.emissions_baseline))\n",
    "        \n",
    "        # Update env variables\n",
    "        self.length = self.length - 1\n",
    "        self.hour_index = self.hour_index + 1\n",
    "        # Go to next state\n",
    "        self.state.update({\"carbon_int\": np.array([self.c_int[self.hour_index]])})\n",
    "        self.state.update({\"electric_usage\": np.array([self.e_usage[self.hour_index]])})\n",
    "\n",
    "        # Update reward\n",
    "        reward = reward_algo(self)\n",
    "            \n",
    "        # Check if finished\n",
    "        done = is_done(self)\n",
    "        \n",
    "        info = {}\n",
    "        truncated = False\n",
    "        return self.state, reward, done, truncated, info\n",
    "    \n",
    "    \n",
    "    def reset(self, seed = None, options = None):\n",
    "        self.state = {\n",
    "            \"carbon_int\": np.array([self.c_int[arr_start_point]]),\n",
    "            \"electric_usage\": np.array([self.e_usage[arr_start_point]]),\n",
    "            \"battery_charge\": np.array([battery_size]),\n",
    "            \"old_em_delta\" : np.array([0]),\n",
    "        } \n",
    "        self.c_int = c_int\n",
    "        self.e_usage = e_usage\n",
    "        self.length = env_length\n",
    "        self.hour_index = arr_start_point\n",
    "        self.emissions_baseline = 0\n",
    "        self.emissions_with_battery = 0\n",
    "\n",
    "        info = {}\n",
    "        \n",
    "        return self.state, info"
   ],
   "metadata": {
    "collapsed": false,
    "ExecuteTime": {
     "end_time": "2024-05-20T15:56:49.262860300Z",
     "start_time": "2024-05-20T15:56:49.239864Z"
    }
   },
   "id": "84894bb74b346dcc"
  },
  {
   "cell_type": "code",
   "execution_count": 15,
   "outputs": [],
   "source": [
    "env = Environment()"
   ],
   "metadata": {
    "collapsed": false,
    "ExecuteTime": {
     "end_time": "2024-05-20T15:56:49.332895800Z",
     "start_time": "2024-05-20T15:56:49.259858500Z"
    }
   },
   "id": "3f3b92941a4d0be2"
  },
  {
   "cell_type": "code",
   "execution_count": 281,
   "outputs": [],
   "source": [
    "from stable_baselines3.common.env_checker import check_env\n",
    "check_env(env)"
   ],
   "metadata": {
    "collapsed": false,
    "ExecuteTime": {
     "end_time": "2024-05-20T10:39:55.524809900Z",
     "start_time": "2024-05-20T10:39:55.390809200Z"
    }
   },
   "id": "489b8e147a6da2d2"
  },
  {
   "cell_type": "code",
   "execution_count": 282,
   "outputs": [],
   "source": [
    "# episodes = 5\n",
    "# for episode in range(1, episodes+1):\n",
    "#     state = env.reset()\n",
    "#     done = False\n",
    "#     score = 0\n",
    "# \n",
    "#     while not done:\n",
    "#         action = env.action_space.sample() # Random actions here\n",
    "#         n_state, reward, done, truncated, info = env.step(action)\n",
    "#         score+=reward\n",
    "#     print('Episode:{} Score:{}'.format(episode, score))"
   ],
   "metadata": {
    "collapsed": false,
    "ExecuteTime": {
     "end_time": "2024-05-20T10:39:55.524809900Z",
     "start_time": "2024-05-20T10:39:55.393812100Z"
    }
   },
   "id": "22b8929025289b30"
  },
  {
   "cell_type": "code",
   "execution_count": 283,
   "outputs": [
    {
     "name": "stdout",
     "output_type": "stream",
     "text": [
      "Using cuda device\n",
      "Wrapping the env with a `Monitor` wrapper\n",
      "Wrapping the env in a DummyVecEnv.\n"
     ]
    }
   ],
   "source": [
    "log_path = os.path.join('Training', 'Logs')\n",
    "# vec_env = make_vec_env(env, n_envs=4)\n",
    "modelPPO = PPO(\"MultiInputPolicy\", env, verbose=1, tensorboard_log = log_path)\n",
    "# model = DQN('MultiInputPolicy', env, verbose = 1, tensorboard_log = log_path)"
   ],
   "metadata": {
    "collapsed": false,
    "ExecuteTime": {
     "end_time": "2024-05-20T10:39:55.524809900Z",
     "start_time": "2024-05-20T10:39:55.400812200Z"
    }
   },
   "id": "895e02aed605d28"
  },
  {
   "cell_type": "code",
   "execution_count": 284,
   "outputs": [],
   "source": [
    "PPO??"
   ],
   "metadata": {
    "collapsed": false,
    "ExecuteTime": {
     "end_time": "2024-05-20T10:39:55.534811900Z",
     "start_time": "2024-05-20T10:39:55.423808600Z"
    }
   },
   "id": "b228f6f2f384969c"
  },
  {
   "cell_type": "code",
   "execution_count": 285,
   "outputs": [
    {
     "name": "stdout",
     "output_type": "stream",
     "text": [
      "Logging to Training/Logs/PPO_15\n",
      "TOTAL EMISSIONS: [438443.484]\n",
      "TOTAL EMISSIONS: [438443.484]\n",
      "---------------------------------\n",
      "| rollout/           |          |\n",
      "|    ep_len_mean     | 1e+03    |\n",
      "|    ep_rew_mean     | -377     |\n",
      "| time/              |          |\n",
      "|    fps             | 369      |\n",
      "|    iterations      | 1        |\n",
      "|    time_elapsed    | 5        |\n",
      "|    total_timesteps | 2048     |\n",
      "---------------------------------\n",
      "TOTAL EMISSIONS: [438443.484]\n",
      "TOTAL EMISSIONS: [438443.484]\n",
      "-----------------------------------------\n",
      "| rollout/                |             |\n",
      "|    ep_len_mean          | 1e+03       |\n",
      "|    ep_rew_mean          | -333        |\n",
      "| time/                   |             |\n",
      "|    fps                  | 318         |\n",
      "|    iterations           | 2           |\n",
      "|    time_elapsed         | 12          |\n",
      "|    total_timesteps      | 4096        |\n",
      "| train/                  |             |\n",
      "|    approx_kl            | 0.014467224 |\n",
      "|    clip_fraction        | 0.344       |\n",
      "|    clip_range           | 0.2         |\n",
      "|    entropy_loss         | -1.08       |\n",
      "|    explained_variance   | -0.0768     |\n",
      "|    learning_rate        | 0.0003      |\n",
      "|    loss                 | 3.16        |\n",
      "|    n_updates            | 10          |\n",
      "|    policy_gradient_loss | -0.0383     |\n",
      "|    value_loss           | 11.1        |\n",
      "-----------------------------------------\n",
      "TOTAL EMISSIONS: [438443.484]\n",
      "TOTAL EMISSIONS: [438443.484]\n",
      "-----------------------------------------\n",
      "| rollout/                |             |\n",
      "|    ep_len_mean          | 1e+03       |\n",
      "|    ep_rew_mean          | -291        |\n",
      "| time/                   |             |\n",
      "|    fps                  | 276         |\n",
      "|    iterations           | 3           |\n",
      "|    time_elapsed         | 22          |\n",
      "|    total_timesteps      | 6144        |\n",
      "| train/                  |             |\n",
      "|    approx_kl            | 0.016650284 |\n",
      "|    clip_fraction        | 0.312       |\n",
      "|    clip_range           | 0.2         |\n",
      "|    entropy_loss         | -1.04       |\n",
      "|    explained_variance   | 0.0467      |\n",
      "|    learning_rate        | 0.0003      |\n",
      "|    loss                 | 3.56        |\n",
      "|    n_updates            | 20          |\n",
      "|    policy_gradient_loss | -0.0348     |\n",
      "|    value_loss           | 7.44        |\n",
      "-----------------------------------------\n",
      "TOTAL EMISSIONS: [438443.484]\n",
      "TOTAL EMISSIONS: [438443.484]\n",
      "-----------------------------------------\n",
      "| rollout/                |             |\n",
      "|    ep_len_mean          | 1e+03       |\n",
      "|    ep_rew_mean          | -261        |\n",
      "| time/                   |             |\n",
      "|    fps                  | 273         |\n",
      "|    iterations           | 4           |\n",
      "|    time_elapsed         | 29          |\n",
      "|    total_timesteps      | 8192        |\n",
      "| train/                  |             |\n",
      "|    approx_kl            | 0.013879729 |\n",
      "|    clip_fraction        | 0.205       |\n",
      "|    clip_range           | 0.2         |\n",
      "|    entropy_loss         | -0.968      |\n",
      "|    explained_variance   | 0.135       |\n",
      "|    learning_rate        | 0.0003      |\n",
      "|    loss                 | 2.81        |\n",
      "|    n_updates            | 30          |\n",
      "|    policy_gradient_loss | -0.0217     |\n",
      "|    value_loss           | 6.77        |\n",
      "-----------------------------------------\n",
      "TOTAL EMISSIONS: [438443.484]\n",
      "TOTAL EMISSIONS: [438443.484]\n",
      "-----------------------------------------\n",
      "| rollout/                |             |\n",
      "|    ep_len_mean          | 1e+03       |\n",
      "|    ep_rew_mean          | -239        |\n",
      "| time/                   |             |\n",
      "|    fps                  | 278         |\n",
      "|    iterations           | 5           |\n",
      "|    time_elapsed         | 36          |\n",
      "|    total_timesteps      | 10240       |\n",
      "| train/                  |             |\n",
      "|    approx_kl            | 0.007899938 |\n",
      "|    clip_fraction        | 0.0797      |\n",
      "|    clip_range           | 0.2         |\n",
      "|    entropy_loss         | -0.879      |\n",
      "|    explained_variance   | 0.117       |\n",
      "|    learning_rate        | 0.0003      |\n",
      "|    loss                 | 3.06        |\n",
      "|    n_updates            | 40          |\n",
      "|    policy_gradient_loss | -0.00813    |\n",
      "|    value_loss           | 7.74        |\n",
      "-----------------------------------------\n",
      "TOTAL EMISSIONS: [438443.484]\n",
      "TOTAL EMISSIONS: [438443.484]\n",
      "-----------------------------------------\n",
      "| rollout/                |             |\n",
      "|    ep_len_mean          | 1e+03       |\n",
      "|    ep_rew_mean          | -222        |\n",
      "| time/                   |             |\n",
      "|    fps                  | 282         |\n",
      "|    iterations           | 6           |\n",
      "|    time_elapsed         | 43          |\n",
      "|    total_timesteps      | 12288       |\n",
      "| train/                  |             |\n",
      "|    approx_kl            | 0.003449016 |\n",
      "|    clip_fraction        | 0.0837      |\n",
      "|    clip_range           | 0.2         |\n",
      "|    entropy_loss         | -0.879      |\n",
      "|    explained_variance   | 0.133       |\n",
      "|    learning_rate        | 0.0003      |\n",
      "|    loss                 | 5.13        |\n",
      "|    n_updates            | 50          |\n",
      "|    policy_gradient_loss | -0.00794    |\n",
      "|    value_loss           | 8.81        |\n",
      "-----------------------------------------\n",
      "TOTAL EMISSIONS: [438443.484]\n",
      "TOTAL EMISSIONS: [438443.484]\n",
      "------------------------------------------\n",
      "| rollout/                |              |\n",
      "|    ep_len_mean          | 1e+03        |\n",
      "|    ep_rew_mean          | -202         |\n",
      "| time/                   |              |\n",
      "|    fps                  | 279          |\n",
      "|    iterations           | 7            |\n",
      "|    time_elapsed         | 51           |\n",
      "|    total_timesteps      | 14336        |\n",
      "| train/                  |              |\n",
      "|    approx_kl            | 0.0033697067 |\n",
      "|    clip_fraction        | 0.0743       |\n",
      "|    clip_range           | 0.2          |\n",
      "|    entropy_loss         | -0.854       |\n",
      "|    explained_variance   | 0.128        |\n",
      "|    learning_rate        | 0.0003       |\n",
      "|    loss                 | 3.75         |\n",
      "|    n_updates            | 60           |\n",
      "|    policy_gradient_loss | -0.00779     |\n",
      "|    value_loss           | 8.88         |\n",
      "------------------------------------------\n",
      "TOTAL EMISSIONS: [438443.484]\n",
      "TOTAL EMISSIONS: [438443.484]\n",
      "-----------------------------------------\n",
      "| rollout/                |             |\n",
      "|    ep_len_mean          | 1e+03       |\n",
      "|    ep_rew_mean          | -188        |\n",
      "| time/                   |             |\n",
      "|    fps                  | 279         |\n",
      "|    iterations           | 8           |\n",
      "|    time_elapsed         | 58          |\n",
      "|    total_timesteps      | 16384       |\n",
      "| train/                  |             |\n",
      "|    approx_kl            | 0.005070043 |\n",
      "|    clip_fraction        | 0.0442      |\n",
      "|    clip_range           | 0.2         |\n",
      "|    entropy_loss         | -0.819      |\n",
      "|    explained_variance   | 0.16        |\n",
      "|    learning_rate        | 0.0003      |\n",
      "|    loss                 | 3.17        |\n",
      "|    n_updates            | 70          |\n",
      "|    policy_gradient_loss | -0.00406    |\n",
      "|    value_loss           | 7.48        |\n",
      "-----------------------------------------\n",
      "TOTAL EMISSIONS: [438443.484]\n",
      "TOTAL EMISSIONS: [438443.484]\n",
      "-----------------------------------------\n",
      "| rollout/                |             |\n",
      "|    ep_len_mean          | 1e+03       |\n",
      "|    ep_rew_mean          | -175        |\n",
      "| time/                   |             |\n",
      "|    fps                  | 281         |\n",
      "|    iterations           | 9           |\n",
      "|    time_elapsed         | 65          |\n",
      "|    total_timesteps      | 18432       |\n",
      "| train/                  |             |\n",
      "|    approx_kl            | 0.001973716 |\n",
      "|    clip_fraction        | 0.0572      |\n",
      "|    clip_range           | 0.2         |\n",
      "|    entropy_loss         | -0.75       |\n",
      "|    explained_variance   | 0.193       |\n",
      "|    learning_rate        | 0.0003      |\n",
      "|    loss                 | 3.88        |\n",
      "|    n_updates            | 80          |\n",
      "|    policy_gradient_loss | -0.00302    |\n",
      "|    value_loss           | 6.31        |\n",
      "-----------------------------------------\n",
      "TOTAL EMISSIONS: [438443.484]\n",
      "TOTAL EMISSIONS: [438443.484]\n",
      "-----------------------------------------\n",
      "| rollout/                |             |\n",
      "|    ep_len_mean          | 1e+03       |\n",
      "|    ep_rew_mean          | -165        |\n",
      "| time/                   |             |\n",
      "|    fps                  | 283         |\n",
      "|    iterations           | 10          |\n",
      "|    time_elapsed         | 72          |\n",
      "|    total_timesteps      | 20480       |\n",
      "| train/                  |             |\n",
      "|    approx_kl            | 0.003938622 |\n",
      "|    clip_fraction        | 0.0517      |\n",
      "|    clip_range           | 0.2         |\n",
      "|    entropy_loss         | -0.8        |\n",
      "|    explained_variance   | 0.183       |\n",
      "|    learning_rate        | 0.0003      |\n",
      "|    loss                 | 2.99        |\n",
      "|    n_updates            | 90          |\n",
      "|    policy_gradient_loss | -0.0041     |\n",
      "|    value_loss           | 6.56        |\n",
      "-----------------------------------------\n",
      "TOTAL EMISSIONS: [438443.484]\n",
      "TOTAL EMISSIONS: [438443.484]\n",
      "------------------------------------------\n",
      "| rollout/                |              |\n",
      "|    ep_len_mean          | 1e+03        |\n",
      "|    ep_rew_mean          | -154         |\n",
      "| time/                   |              |\n",
      "|    fps                  | 285          |\n",
      "|    iterations           | 11           |\n",
      "|    time_elapsed         | 78           |\n",
      "|    total_timesteps      | 22528        |\n",
      "| train/                  |              |\n",
      "|    approx_kl            | 0.0050575254 |\n",
      "|    clip_fraction        | 0.0554       |\n",
      "|    clip_range           | 0.2          |\n",
      "|    entropy_loss         | -0.787       |\n",
      "|    explained_variance   | 0.16         |\n",
      "|    learning_rate        | 0.0003       |\n",
      "|    loss                 | 3.72         |\n",
      "|    n_updates            | 100          |\n",
      "|    policy_gradient_loss | -0.00291     |\n",
      "|    value_loss           | 6.96         |\n",
      "------------------------------------------\n",
      "TOTAL EMISSIONS: [438443.484]\n",
      "TOTAL EMISSIONS: [438443.484]\n",
      "------------------------------------------\n",
      "| rollout/                |              |\n",
      "|    ep_len_mean          | 1e+03        |\n",
      "|    ep_rew_mean          | -145         |\n",
      "| time/                   |              |\n",
      "|    fps                  | 287          |\n",
      "|    iterations           | 12           |\n",
      "|    time_elapsed         | 85           |\n",
      "|    total_timesteps      | 24576        |\n",
      "| train/                  |              |\n",
      "|    approx_kl            | 0.0067081694 |\n",
      "|    clip_fraction        | 0.0798       |\n",
      "|    clip_range           | 0.2          |\n",
      "|    entropy_loss         | -0.762       |\n",
      "|    explained_variance   | 0.201        |\n",
      "|    learning_rate        | 0.0003       |\n",
      "|    loss                 | 1.53         |\n",
      "|    n_updates            | 110          |\n",
      "|    policy_gradient_loss | -0.00167     |\n",
      "|    value_loss           | 3.79         |\n",
      "------------------------------------------\n",
      "TOTAL EMISSIONS: [438443.484]\n",
      "TOTAL EMISSIONS: [438443.484]\n",
      "------------------------------------------\n",
      "| rollout/                |              |\n",
      "|    ep_len_mean          | 1e+03        |\n",
      "|    ep_rew_mean          | -135         |\n",
      "| time/                   |              |\n",
      "|    fps                  | 287          |\n",
      "|    iterations           | 13           |\n",
      "|    time_elapsed         | 92           |\n",
      "|    total_timesteps      | 26624        |\n",
      "| train/                  |              |\n",
      "|    approx_kl            | 0.0097678695 |\n",
      "|    clip_fraction        | 0.0714       |\n",
      "|    clip_range           | 0.2          |\n",
      "|    entropy_loss         | -0.72        |\n",
      "|    explained_variance   | 0.242        |\n",
      "|    learning_rate        | 0.0003       |\n",
      "|    loss                 | 1.94         |\n",
      "|    n_updates            | 120          |\n",
      "|    policy_gradient_loss | -0.00319     |\n",
      "|    value_loss           | 4.19         |\n",
      "------------------------------------------\n",
      "TOTAL EMISSIONS: [438443.484]\n",
      "TOTAL EMISSIONS: [438443.484]\n",
      "-----------------------------------------\n",
      "| rollout/                |             |\n",
      "|    ep_len_mean          | 1e+03       |\n",
      "|    ep_rew_mean          | -128        |\n",
      "| time/                   |             |\n",
      "|    fps                  | 288         |\n",
      "|    iterations           | 14          |\n",
      "|    time_elapsed         | 99          |\n",
      "|    total_timesteps      | 28672       |\n",
      "| train/                  |             |\n",
      "|    approx_kl            | 0.012906484 |\n",
      "|    clip_fraction        | 0.198       |\n",
      "|    clip_range           | 0.2         |\n",
      "|    entropy_loss         | -0.685      |\n",
      "|    explained_variance   | 0.211       |\n",
      "|    learning_rate        | 0.0003      |\n",
      "|    loss                 | 1.32        |\n",
      "|    n_updates            | 130         |\n",
      "|    policy_gradient_loss | -0.0088     |\n",
      "|    value_loss           | 3.55        |\n",
      "-----------------------------------------\n",
      "TOTAL EMISSIONS: [438443.484]\n",
      "TOTAL EMISSIONS: [438443.484]\n",
      "-----------------------------------------\n",
      "| rollout/                |             |\n",
      "|    ep_len_mean          | 1e+03       |\n",
      "|    ep_rew_mean          | -120        |\n",
      "| time/                   |             |\n",
      "|    fps                  | 290         |\n",
      "|    iterations           | 15          |\n",
      "|    time_elapsed         | 105         |\n",
      "|    total_timesteps      | 30720       |\n",
      "| train/                  |             |\n",
      "|    approx_kl            | 0.009735836 |\n",
      "|    clip_fraction        | 0.0902      |\n",
      "|    clip_range           | 0.2         |\n",
      "|    entropy_loss         | -0.682      |\n",
      "|    explained_variance   | 0.283       |\n",
      "|    learning_rate        | 0.0003      |\n",
      "|    loss                 | 1.42        |\n",
      "|    n_updates            | 140         |\n",
      "|    policy_gradient_loss | -0.00345    |\n",
      "|    value_loss           | 3.61        |\n",
      "-----------------------------------------\n",
      "TOTAL EMISSIONS: [438443.484]\n",
      "TOTAL EMISSIONS: [438443.484]\n",
      "-----------------------------------------\n",
      "| rollout/                |             |\n",
      "|    ep_len_mean          | 1e+03       |\n",
      "|    ep_rew_mean          | -113        |\n",
      "| time/                   |             |\n",
      "|    fps                  | 289         |\n",
      "|    iterations           | 16          |\n",
      "|    time_elapsed         | 113         |\n",
      "|    total_timesteps      | 32768       |\n",
      "| train/                  |             |\n",
      "|    approx_kl            | 0.009442959 |\n",
      "|    clip_fraction        | 0.0751      |\n",
      "|    clip_range           | 0.2         |\n",
      "|    entropy_loss         | -0.647      |\n",
      "|    explained_variance   | 0.268       |\n",
      "|    learning_rate        | 0.0003      |\n",
      "|    loss                 | 2.01        |\n",
      "|    n_updates            | 150         |\n",
      "|    policy_gradient_loss | -7.07e-05   |\n",
      "|    value_loss           | 4.05        |\n",
      "-----------------------------------------\n",
      "TOTAL EMISSIONS: [438443.484]\n",
      "TOTAL EMISSIONS: [438443.484]\n",
      "-----------------------------------------\n",
      "| rollout/                |             |\n",
      "|    ep_len_mean          | 1e+03       |\n",
      "|    ep_rew_mean          | -105        |\n",
      "| time/                   |             |\n",
      "|    fps                  | 288         |\n",
      "|    iterations           | 17          |\n",
      "|    time_elapsed         | 120         |\n",
      "|    total_timesteps      | 34816       |\n",
      "| train/                  |             |\n",
      "|    approx_kl            | 0.022138853 |\n",
      "|    clip_fraction        | 0.154       |\n",
      "|    clip_range           | 0.2         |\n",
      "|    entropy_loss         | -0.628      |\n",
      "|    explained_variance   | 0.232       |\n",
      "|    learning_rate        | 0.0003      |\n",
      "|    loss                 | 2           |\n",
      "|    n_updates            | 160         |\n",
      "|    policy_gradient_loss | -0.0032     |\n",
      "|    value_loss           | 3.66        |\n",
      "-----------------------------------------\n",
      "TOTAL EMISSIONS: [438443.484]\n",
      "TOTAL EMISSIONS: [438443.484]\n",
      "-----------------------------------------\n",
      "| rollout/                |             |\n",
      "|    ep_len_mean          | 1e+03       |\n",
      "|    ep_rew_mean          | -97.9       |\n",
      "| time/                   |             |\n",
      "|    fps                  | 289         |\n",
      "|    iterations           | 18          |\n",
      "|    time_elapsed         | 127         |\n",
      "|    total_timesteps      | 36864       |\n",
      "| train/                  |             |\n",
      "|    approx_kl            | 0.023408204 |\n",
      "|    clip_fraction        | 0.229       |\n",
      "|    clip_range           | 0.2         |\n",
      "|    entropy_loss         | -0.613      |\n",
      "|    explained_variance   | 0.248       |\n",
      "|    learning_rate        | 0.0003      |\n",
      "|    loss                 | 1.96        |\n",
      "|    n_updates            | 170         |\n",
      "|    policy_gradient_loss | 0.00735     |\n",
      "|    value_loss           | 4.22        |\n",
      "-----------------------------------------\n",
      "TOTAL EMISSIONS: [438443.484]\n",
      "TOTAL EMISSIONS: [438443.484]\n",
      "-----------------------------------------\n",
      "| rollout/                |             |\n",
      "|    ep_len_mean          | 1e+03       |\n",
      "|    ep_rew_mean          | -90.4       |\n",
      "| time/                   |             |\n",
      "|    fps                  | 290         |\n",
      "|    iterations           | 19          |\n",
      "|    time_elapsed         | 133         |\n",
      "|    total_timesteps      | 38912       |\n",
      "| train/                  |             |\n",
      "|    approx_kl            | 0.012837731 |\n",
      "|    clip_fraction        | 0.138       |\n",
      "|    clip_range           | 0.2         |\n",
      "|    entropy_loss         | -0.576      |\n",
      "|    explained_variance   | 0.223       |\n",
      "|    learning_rate        | 0.0003      |\n",
      "|    loss                 | 2.61        |\n",
      "|    n_updates            | 180         |\n",
      "|    policy_gradient_loss | 0.00707     |\n",
      "|    value_loss           | 4.96        |\n",
      "-----------------------------------------\n",
      "TOTAL EMISSIONS: [438443.484]\n",
      "TOTAL EMISSIONS: [438443.484]\n",
      "-----------------------------------------\n",
      "| rollout/                |             |\n",
      "|    ep_len_mean          | 1e+03       |\n",
      "|    ep_rew_mean          | -85         |\n",
      "| time/                   |             |\n",
      "|    fps                  | 288         |\n",
      "|    iterations           | 20          |\n",
      "|    time_elapsed         | 142         |\n",
      "|    total_timesteps      | 40960       |\n",
      "| train/                  |             |\n",
      "|    approx_kl            | 0.009445694 |\n",
      "|    clip_fraction        | 0.0996      |\n",
      "|    clip_range           | 0.2         |\n",
      "|    entropy_loss         | -0.544      |\n",
      "|    explained_variance   | 0.129       |\n",
      "|    learning_rate        | 0.0003      |\n",
      "|    loss                 | 3.89        |\n",
      "|    n_updates            | 190         |\n",
      "|    policy_gradient_loss | 0.00299     |\n",
      "|    value_loss           | 6.61        |\n",
      "-----------------------------------------\n",
      "TOTAL EMISSIONS: [438443.484]\n",
      "TOTAL EMISSIONS: [438443.484]\n",
      "TOTAL EMISSIONS: [438443.484]\n",
      "-----------------------------------------\n",
      "| rollout/                |             |\n",
      "|    ep_len_mean          | 1e+03       |\n",
      "|    ep_rew_mean          | -78.8       |\n",
      "| time/                   |             |\n",
      "|    fps                  | 289         |\n",
      "|    iterations           | 21          |\n",
      "|    time_elapsed         | 148         |\n",
      "|    total_timesteps      | 43008       |\n",
      "| train/                  |             |\n",
      "|    approx_kl            | 0.010937216 |\n",
      "|    clip_fraction        | 0.15        |\n",
      "|    clip_range           | 0.2         |\n",
      "|    entropy_loss         | -0.561      |\n",
      "|    explained_variance   | 0.188       |\n",
      "|    learning_rate        | 0.0003      |\n",
      "|    loss                 | 1.99        |\n",
      "|    n_updates            | 200         |\n",
      "|    policy_gradient_loss | 0.00581     |\n",
      "|    value_loss           | 3.74        |\n",
      "-----------------------------------------\n",
      "TOTAL EMISSIONS: [438443.484]\n",
      "TOTAL EMISSIONS: [438443.484]\n",
      "-----------------------------------------\n",
      "| rollout/                |             |\n",
      "|    ep_len_mean          | 1e+03       |\n",
      "|    ep_rew_mean          | -75.5       |\n",
      "| time/                   |             |\n",
      "|    fps                  | 289         |\n",
      "|    iterations           | 22          |\n",
      "|    time_elapsed         | 155         |\n",
      "|    total_timesteps      | 45056       |\n",
      "| train/                  |             |\n",
      "|    approx_kl            | 0.012115883 |\n",
      "|    clip_fraction        | 0.202       |\n",
      "|    clip_range           | 0.2         |\n",
      "|    entropy_loss         | -0.553      |\n",
      "|    explained_variance   | 0.294       |\n",
      "|    learning_rate        | 0.0003      |\n",
      "|    loss                 | 3.18        |\n",
      "|    n_updates            | 210         |\n",
      "|    policy_gradient_loss | 0.00436     |\n",
      "|    value_loss           | 4.69        |\n",
      "-----------------------------------------\n",
      "TOTAL EMISSIONS: [438443.484]\n",
      "TOTAL EMISSIONS: [438443.484]\n",
      "-----------------------------------------\n",
      "| rollout/                |             |\n",
      "|    ep_len_mean          | 1e+03       |\n",
      "|    ep_rew_mean          | -71.1       |\n",
      "| time/                   |             |\n",
      "|    fps                  | 290         |\n",
      "|    iterations           | 23          |\n",
      "|    time_elapsed         | 162         |\n",
      "|    total_timesteps      | 47104       |\n",
      "| train/                  |             |\n",
      "|    approx_kl            | 0.029025892 |\n",
      "|    clip_fraction        | 0.144       |\n",
      "|    clip_range           | 0.2         |\n",
      "|    entropy_loss         | -0.54       |\n",
      "|    explained_variance   | 0.35        |\n",
      "|    learning_rate        | 0.0003      |\n",
      "|    loss                 | 3.35        |\n",
      "|    n_updates            | 220         |\n",
      "|    policy_gradient_loss | 0.00378     |\n",
      "|    value_loss           | 5.39        |\n",
      "-----------------------------------------\n",
      "TOTAL EMISSIONS: [438443.484]\n",
      "TOTAL EMISSIONS: [438443.484]\n",
      "-----------------------------------------\n",
      "| rollout/                |             |\n",
      "|    ep_len_mean          | 1e+03       |\n",
      "|    ep_rew_mean          | -65.4       |\n",
      "| time/                   |             |\n",
      "|    fps                  | 285         |\n",
      "|    iterations           | 24          |\n",
      "|    time_elapsed         | 171         |\n",
      "|    total_timesteps      | 49152       |\n",
      "| train/                  |             |\n",
      "|    approx_kl            | 0.025807481 |\n",
      "|    clip_fraction        | 0.143       |\n",
      "|    clip_range           | 0.2         |\n",
      "|    entropy_loss         | -0.503      |\n",
      "|    explained_variance   | 0.502       |\n",
      "|    learning_rate        | 0.0003      |\n",
      "|    loss                 | 1.95        |\n",
      "|    n_updates            | 230         |\n",
      "|    policy_gradient_loss | 0.00696     |\n",
      "|    value_loss           | 3.77        |\n",
      "-----------------------------------------\n",
      "TOTAL EMISSIONS: [438443.484]\n",
      "TOTAL EMISSIONS: [438443.484]\n",
      "-----------------------------------------\n",
      "| rollout/                |             |\n",
      "|    ep_len_mean          | 1e+03       |\n",
      "|    ep_rew_mean          | -59.6       |\n",
      "| time/                   |             |\n",
      "|    fps                  | 286         |\n",
      "|    iterations           | 25          |\n",
      "|    time_elapsed         | 178         |\n",
      "|    total_timesteps      | 51200       |\n",
      "| train/                  |             |\n",
      "|    approx_kl            | 0.022604743 |\n",
      "|    clip_fraction        | 0.131       |\n",
      "|    clip_range           | 0.2         |\n",
      "|    entropy_loss         | -0.501      |\n",
      "|    explained_variance   | 0.364       |\n",
      "|    learning_rate        | 0.0003      |\n",
      "|    loss                 | 2.03        |\n",
      "|    n_updates            | 240         |\n",
      "|    policy_gradient_loss | 0.0126      |\n",
      "|    value_loss           | 4.58        |\n",
      "-----------------------------------------\n"
     ]
    },
    {
     "data": {
      "text/plain": "<stable_baselines3.ppo.ppo.PPO at 0x7fc5e80c8430>"
     },
     "execution_count": 285,
     "metadata": {},
     "output_type": "execute_result"
    }
   ],
   "source": [
    "# modelPPO.learn(total_timesteps=50000)"
   ],
   "metadata": {
    "collapsed": false,
    "ExecuteTime": {
     "end_time": "2024-05-20T10:42:55.966064800Z",
     "start_time": "2024-05-20T10:39:55.472813100Z"
    }
   },
   "id": "455fd93683590ae7"
  },
  {
   "cell_type": "code",
   "execution_count": 17,
   "outputs": [],
   "source": [
    "PPO_model_path = os.path.join(\"Training\", \"Saved Models\", \"PPO_MODEL\")"
   ],
   "metadata": {
    "collapsed": false,
    "ExecuteTime": {
     "end_time": "2024-05-20T15:57:16.778491900Z",
     "start_time": "2024-05-20T15:57:16.745486500Z"
    }
   },
   "id": "133e97b760f1add5"
  },
  {
   "cell_type": "code",
   "execution_count": null,
   "outputs": [],
   "source": [
    "# modelPPO.save(PPO_model_path)"
   ],
   "metadata": {
    "collapsed": false
   },
   "id": "f8e7245b0670f07f"
  },
  {
   "cell_type": "code",
   "execution_count": 19,
   "outputs": [],
   "source": [
    "modelPPO = PPO.load(PPO_model_path)"
   ],
   "metadata": {
    "collapsed": false,
    "ExecuteTime": {
     "end_time": "2024-05-20T15:57:33.284839Z",
     "start_time": "2024-05-20T15:57:32.709837500Z"
    }
   },
   "id": "fc9e82d8375387b4"
  },
  {
   "cell_type": "code",
   "execution_count": 20,
   "outputs": [
    {
     "name": "stdout",
     "output_type": "stream",
     "text": [
      "TOTAL EMISSIONS: [438443.484]\n",
      "Episode:1 Reward:112\n"
     ]
    }
   ],
   "source": [
    "episodes = 1\n",
    "for episode in range(1, episodes+1):\n",
    "    obs, inf = env.reset()\n",
    "    evaluation_data = pd.DataFrame(None)\n",
    "    old_emission_difference.clear()\n",
    "    old_emission_difference.append(0)\n",
    "    hourly_emission_difference.clear()\n",
    "    hourly_battery_level.clear()\n",
    "    hourly_baseline_em.clear()\n",
    "    hourly_battery_em.clear()\n",
    "    decision_hist.clear()\n",
    "    reward_hist.clear()\n",
    "    done = False\n",
    "    score = 0\n",
    "\n",
    "    while not done:\n",
    "        action, _ = modelPPO.predict(obs) # Random actions here\n",
    "        obs, reward, done, truncated, info = env.step(action)\n",
    "        score += reward\n",
    "    print('Episode:{} Reward:{}'.format(episode, score))\n",
    "    \n",
    "    evaluation_data.insert(0,column=\"energy_usage\",value=pd.Series(e_usage[:env_length]))\n",
    "    evaluation_data.insert(1,column=\"carbon_intensity\",value=pd.Series(c_int[:env_length]))\n",
    "    evaluation_data.insert(2,column=\"battery_level\",value=pd.Series(hourly_battery_level))\n",
    "    evaluation_data.insert(3,column=\"decision\",value=pd.Series(decision_hist))\n",
    "    evaluation_data.insert(4,column=\"emission_baseline\",value=pd.Series(hourly_baseline_em))\n",
    "    evaluation_data.insert(5,column=\"emission_w_battery\",value=pd.Series(hourly_battery_em))\n",
    "    evaluation_data.insert(6,column=\"old_emission_delta\",value=pd.Series(old_emission_difference))\n",
    "    evaluation_data.insert(7,column=\"emission_delta\",value=pd.Series(hourly_emission_difference))\n",
    "    evaluation_data.insert(8,column=\"reward\",value=pd.Series(reward_hist))"
   ],
   "metadata": {
    "collapsed": false,
    "ExecuteTime": {
     "end_time": "2024-05-20T15:57:38.744973200Z",
     "start_time": "2024-05-20T15:57:36.130459800Z"
    }
   },
   "id": "303545fadf5be61b"
  },
  {
   "cell_type": "code",
   "execution_count": 21,
   "outputs": [],
   "source": [
    "evaluation_data.to_csv(\"evaluation.csv\")"
   ],
   "metadata": {
    "collapsed": false,
    "ExecuteTime": {
     "end_time": "2024-05-20T15:57:40.623950300Z",
     "start_time": "2024-05-20T15:57:40.335034400Z"
    }
   },
   "id": "5a6478cc01ddef82"
  },
  {
   "cell_type": "code",
   "execution_count": 22,
   "outputs": [],
   "source": [
    "# training_log_path = os.path.join(log_path, 'DQN_9')"
   ],
   "metadata": {
    "collapsed": false,
    "ExecuteTime": {
     "end_time": "2024-05-20T15:57:42.934321200Z",
     "start_time": "2024-05-20T15:57:42.918321500Z"
    }
   },
   "id": "869739f5ffbd1447"
  },
  {
   "cell_type": "code",
   "execution_count": 23,
   "outputs": [
    {
     "name": "stdout",
     "output_type": "stream",
     "text": [
      "Final delta: 89172.81099999952\n",
      "0        391.476\n",
      "1        977.186\n",
      "2       1294.570\n",
      "3       1773.769\n",
      "4       2324.107\n",
      "         ...    \n",
      "995    88675.193\n",
      "996    88825.541\n",
      "997    88981.341\n",
      "998    89172.811\n",
      "999    89172.811\n",
      "Length: 1000, dtype: float64\n"
     ]
    },
    {
     "data": {
      "text/plain": "<Figure size 640x480 with 1 Axes>",
      "image/png": "[encoded data removed]"
     },
     "metadata": {},
     "output_type": "display_data"
    }
   ],
   "source": [
    "my_list = map(lambda x: x[0], evaluation_data[\"emission_delta\"])\n",
    "ser = pd.Series(my_list)\n",
    "ser.plot()\n",
    "print(f'Final delta: {ser.iloc[-1]}')\n",
    "print(ser)"
   ],
   "metadata": {
    "collapsed": false,
    "ExecuteTime": {
     "end_time": "2024-05-20T15:57:44.105995300Z",
     "start_time": "2024-05-20T15:57:43.760915900Z"
    }
   },
   "id": "64cfafa235513124"
  },
  {
   "cell_type": "code",
   "execution_count": 24,
   "outputs": [
    {
     "data": {
      "text/plain": "<Axes: >"
     },
     "execution_count": 24,
     "metadata": {},
     "output_type": "execute_result"
    },
    {
     "data": {
      "text/plain": "<Figure size 640x480 with 1 Axes>",
      "image/png": "[encoded data removed]"
     },
     "metadata": {},
     "output_type": "display_data"
    }
   ],
   "source": [
    "my_list = map(lambda x: x[0], evaluation_data[\"battery_level\"])\n",
    "ser = pd.Series(my_list)\n",
    "ser.plot()"
   ],
   "metadata": {
    "collapsed": false,
    "ExecuteTime": {
     "end_time": "2024-05-20T15:57:47.463291400Z",
     "start_time": "2024-05-20T15:57:47.242216500Z"
    }
   },
   "id": "3cccf78261d0e804"
  },
  {
   "cell_type": "code",
   "execution_count": 25,
   "outputs": [
    {
     "name": "stdout",
     "output_type": "stream",
     "text": [
      "Using cuda device\n",
      "Wrapping the env with a `Monitor` wrapper\n",
      "Wrapping the env in a DummyVecEnv.\n"
     ]
    }
   ],
   "source": [
    "log_path = os.path.join('Training', 'Logs')\n",
    "modelDQN = DQN('MultiInputPolicy', env, verbose = 1, tensorboard_log = log_path)"
   ],
   "metadata": {
    "collapsed": false,
    "ExecuteTime": {
     "end_time": "2024-05-20T15:57:52.153005200Z",
     "start_time": "2024-05-20T15:57:52.129008500Z"
    }
   },
   "id": "939678283355057c"
  },
  {
   "cell_type": "code",
   "execution_count": 26,
   "outputs": [
    {
     "name": "stdout",
     "output_type": "stream",
     "text": [
      "Logging to Training/Logs/DQN_1\n",
      "TOTAL EMISSIONS: [438443.484]\n",
      "TOTAL EMISSIONS: [438443.484]\n",
      "TOTAL EMISSIONS: [438443.484]\n",
      "TOTAL EMISSIONS: [438443.484]\n",
      "----------------------------------\n",
      "| rollout/            |          |\n",
      "|    ep_len_mean      | 1e+03    |\n",
      "|    ep_rew_mean      | -340     |\n",
      "|    exploration_rate | 0.24     |\n",
      "| time/               |          |\n",
      "|    episodes         | 4        |\n",
      "|    fps              | 511      |\n",
      "|    time_elapsed     | 7        |\n",
      "|    total_timesteps  | 4000     |\n",
      "| train/              |          |\n",
      "|    learning_rate    | 0.0001   |\n",
      "|    loss             | 11.1     |\n",
      "|    n_updates        | 974      |\n",
      "----------------------------------\n",
      "TOTAL EMISSIONS: [438443.484]\n",
      "TOTAL EMISSIONS: [438443.484]\n",
      "TOTAL EMISSIONS: [438443.484]\n",
      "TOTAL EMISSIONS: [438443.484]\n",
      "----------------------------------\n",
      "| rollout/            |          |\n",
      "|    ep_len_mean      | 1e+03    |\n",
      "|    ep_rew_mean      | -397     |\n",
      "|    exploration_rate | 0.05     |\n",
      "| time/               |          |\n",
      "|    episodes         | 8        |\n",
      "|    fps              | 494      |\n",
      "|    time_elapsed     | 16       |\n",
      "|    total_timesteps  | 8000     |\n",
      "| train/              |          |\n",
      "|    learning_rate    | 0.0001   |\n",
      "|    loss             | 5.31     |\n",
      "|    n_updates        | 1974     |\n",
      "----------------------------------\n",
      "TOTAL EMISSIONS: [438443.484]\n",
      "TOTAL EMISSIONS: [438443.484]\n",
      "TOTAL EMISSIONS: [438443.484]\n",
      "TOTAL EMISSIONS: [438443.484]\n",
      "----------------------------------\n",
      "| rollout/            |          |\n",
      "|    ep_len_mean      | 1e+03    |\n",
      "|    ep_rew_mean      | -459     |\n",
      "|    exploration_rate | 0.05     |\n",
      "| time/               |          |\n",
      "|    episodes         | 12       |\n",
      "|    fps              | 478      |\n",
      "|    time_elapsed     | 25       |\n",
      "|    total_timesteps  | 12000    |\n",
      "| train/              |          |\n",
      "|    learning_rate    | 0.0001   |\n",
      "|    loss             | 6.09     |\n",
      "|    n_updates        | 2974     |\n",
      "----------------------------------\n",
      "TOTAL EMISSIONS: [438443.484]\n",
      "TOTAL EMISSIONS: [438443.484]\n",
      "TOTAL EMISSIONS: [438443.484]\n",
      "TOTAL EMISSIONS: [438443.484]\n",
      "----------------------------------\n",
      "| rollout/            |          |\n",
      "|    ep_len_mean      | 1e+03    |\n",
      "|    ep_rew_mean      | -448     |\n",
      "|    exploration_rate | 0.05     |\n",
      "| time/               |          |\n",
      "|    episodes         | 16       |\n",
      "|    fps              | 481      |\n",
      "|    time_elapsed     | 33       |\n",
      "|    total_timesteps  | 16000    |\n",
      "| train/              |          |\n",
      "|    learning_rate    | 0.0001   |\n",
      "|    loss             | 3.57     |\n",
      "|    n_updates        | 3974     |\n",
      "----------------------------------\n",
      "TOTAL EMISSIONS: [438443.484]\n",
      "TOTAL EMISSIONS: [438443.484]\n",
      "TOTAL EMISSIONS: [438443.484]\n",
      "TOTAL EMISSIONS: [438443.484]\n",
      "----------------------------------\n",
      "| rollout/            |          |\n",
      "|    ep_len_mean      | 1e+03    |\n",
      "|    ep_rew_mean      | -439     |\n",
      "|    exploration_rate | 0.05     |\n",
      "| time/               |          |\n",
      "|    episodes         | 20       |\n",
      "|    fps              | 463      |\n",
      "|    time_elapsed     | 43       |\n",
      "|    total_timesteps  | 20000    |\n",
      "| train/              |          |\n",
      "|    learning_rate    | 0.0001   |\n",
      "|    loss             | 5.21     |\n",
      "|    n_updates        | 4974     |\n",
      "----------------------------------\n",
      "TOTAL EMISSIONS: [438443.484]\n",
      "TOTAL EMISSIONS: [438443.484]\n",
      "TOTAL EMISSIONS: [438443.484]\n",
      "TOTAL EMISSIONS: [438443.484]\n",
      "----------------------------------\n",
      "| rollout/            |          |\n",
      "|    ep_len_mean      | 1e+03    |\n",
      "|    ep_rew_mean      | -425     |\n",
      "|    exploration_rate | 0.05     |\n",
      "| time/               |          |\n",
      "|    episodes         | 24       |\n",
      "|    fps              | 455      |\n",
      "|    time_elapsed     | 52       |\n",
      "|    total_timesteps  | 24000    |\n",
      "| train/              |          |\n",
      "|    learning_rate    | 0.0001   |\n",
      "|    loss             | 3.06     |\n",
      "|    n_updates        | 5974     |\n",
      "----------------------------------\n",
      "TOTAL EMISSIONS: [438443.484]\n",
      "TOTAL EMISSIONS: [438443.484]\n",
      "TOTAL EMISSIONS: [438443.484]\n",
      "TOTAL EMISSIONS: [438443.484]\n",
      "----------------------------------\n",
      "| rollout/            |          |\n",
      "|    ep_len_mean      | 1e+03    |\n",
      "|    ep_rew_mean      | -420     |\n",
      "|    exploration_rate | 0.05     |\n",
      "| time/               |          |\n",
      "|    episodes         | 28       |\n",
      "|    fps              | 451      |\n",
      "|    time_elapsed     | 61       |\n",
      "|    total_timesteps  | 28000    |\n",
      "| train/              |          |\n",
      "|    learning_rate    | 0.0001   |\n",
      "|    loss             | 3.15     |\n",
      "|    n_updates        | 6974     |\n",
      "----------------------------------\n",
      "TOTAL EMISSIONS: [438443.484]\n",
      "TOTAL EMISSIONS: [438443.484]\n",
      "TOTAL EMISSIONS: [438443.484]\n",
      "TOTAL EMISSIONS: [438443.484]\n",
      "----------------------------------\n",
      "| rollout/            |          |\n",
      "|    ep_len_mean      | 1e+03    |\n",
      "|    ep_rew_mean      | -417     |\n",
      "|    exploration_rate | 0.05     |\n",
      "| time/               |          |\n",
      "|    episodes         | 32       |\n",
      "|    fps              | 447      |\n",
      "|    time_elapsed     | 71       |\n",
      "|    total_timesteps  | 32000    |\n",
      "| train/              |          |\n",
      "|    learning_rate    | 0.0001   |\n",
      "|    loss             | 2.66     |\n",
      "|    n_updates        | 7974     |\n",
      "----------------------------------\n",
      "TOTAL EMISSIONS: [438443.484]\n",
      "TOTAL EMISSIONS: [438443.484]\n",
      "TOTAL EMISSIONS: [438443.484]\n",
      "TOTAL EMISSIONS: [438443.484]\n",
      "----------------------------------\n",
      "| rollout/            |          |\n",
      "|    ep_len_mean      | 1e+03    |\n",
      "|    ep_rew_mean      | -416     |\n",
      "|    exploration_rate | 0.05     |\n",
      "| time/               |          |\n",
      "|    episodes         | 36       |\n",
      "|    fps              | 433      |\n",
      "|    time_elapsed     | 83       |\n",
      "|    total_timesteps  | 36000    |\n",
      "| train/              |          |\n",
      "|    learning_rate    | 0.0001   |\n",
      "|    loss             | 4.11     |\n",
      "|    n_updates        | 8974     |\n",
      "----------------------------------\n",
      "TOTAL EMISSIONS: [438443.484]\n",
      "TOTAL EMISSIONS: [438443.484]\n",
      "TOTAL EMISSIONS: [438443.484]\n",
      "TOTAL EMISSIONS: [438443.484]\n",
      "----------------------------------\n",
      "| rollout/            |          |\n",
      "|    ep_len_mean      | 1e+03    |\n",
      "|    ep_rew_mean      | -415     |\n",
      "|    exploration_rate | 0.05     |\n",
      "| time/               |          |\n",
      "|    episodes         | 40       |\n",
      "|    fps              | 418      |\n",
      "|    time_elapsed     | 95       |\n",
      "|    total_timesteps  | 40000    |\n",
      "| train/              |          |\n",
      "|    learning_rate    | 0.0001   |\n",
      "|    loss             | 3.91     |\n",
      "|    n_updates        | 9974     |\n",
      "----------------------------------\n",
      "TOTAL EMISSIONS: [438443.484]\n",
      "TOTAL EMISSIONS: [438443.484]\n",
      "TOTAL EMISSIONS: [438443.484]\n",
      "TOTAL EMISSIONS: [438443.484]\n",
      "----------------------------------\n",
      "| rollout/            |          |\n",
      "|    ep_len_mean      | 1e+03    |\n",
      "|    ep_rew_mean      | -412     |\n",
      "|    exploration_rate | 0.05     |\n",
      "| time/               |          |\n",
      "|    episodes         | 44       |\n",
      "|    fps              | 412      |\n",
      "|    time_elapsed     | 106      |\n",
      "|    total_timesteps  | 44000    |\n",
      "| train/              |          |\n",
      "|    learning_rate    | 0.0001   |\n",
      "|    loss             | 2.32     |\n",
      "|    n_updates        | 10974    |\n",
      "----------------------------------\n",
      "TOTAL EMISSIONS: [438443.484]\n",
      "TOTAL EMISSIONS: [438443.484]\n",
      "TOTAL EMISSIONS: [438443.484]\n",
      "TOTAL EMISSIONS: [438443.484]\n",
      "----------------------------------\n",
      "| rollout/            |          |\n",
      "|    ep_len_mean      | 1e+03    |\n",
      "|    ep_rew_mean      | -410     |\n",
      "|    exploration_rate | 0.05     |\n",
      "| time/               |          |\n",
      "|    episodes         | 48       |\n",
      "|    fps              | 414      |\n",
      "|    time_elapsed     | 115      |\n",
      "|    total_timesteps  | 48000    |\n",
      "| train/              |          |\n",
      "|    learning_rate    | 0.0001   |\n",
      "|    loss             | 2.8      |\n",
      "|    n_updates        | 11974    |\n",
      "----------------------------------\n",
      "TOTAL EMISSIONS: [438443.484]\n",
      "TOTAL EMISSIONS: [438443.484]\n"
     ]
    },
    {
     "data": {
      "text/plain": "<stable_baselines3.dqn.dqn.DQN at 0x7ff86bd826d0>"
     },
     "execution_count": 26,
     "metadata": {},
     "output_type": "execute_result"
    }
   ],
   "source": [
    "modelDQN.learn(total_timesteps=50000)"
   ],
   "metadata": {
    "collapsed": false,
    "ExecuteTime": {
     "end_time": "2024-05-20T16:00:01.281720500Z",
     "start_time": "2024-05-20T15:58:00.983923200Z"
    }
   },
   "id": "c534a6388898a42f"
  },
  {
   "cell_type": "code",
   "execution_count": 27,
   "outputs": [],
   "source": [
    "DQN_model_path = os.path.join(\"Training\", \"Saved Models\", \"DQN_MODEL\")"
   ],
   "metadata": {
    "collapsed": false,
    "ExecuteTime": {
     "end_time": "2024-05-20T16:00:19.775271500Z",
     "start_time": "2024-05-20T16:00:19.719658400Z"
    }
   },
   "id": "c0fdcb387c177b64"
  },
  {
   "cell_type": "code",
   "execution_count": 28,
   "outputs": [],
   "source": [
    "modelPPO.save(DQN_model_path)"
   ],
   "metadata": {
    "collapsed": false,
    "ExecuteTime": {
     "end_time": "2024-05-20T16:00:20.825204600Z",
     "start_time": "2024-05-20T16:00:20.729196200Z"
    }
   },
   "id": "ce82a6200a3dfc8f"
  },
  {
   "cell_type": "code",
   "execution_count": 29,
   "outputs": [],
   "source": [
    "# modelDNQ = DQN.load(DQN_model_path)"
   ],
   "metadata": {
    "collapsed": false,
    "ExecuteTime": {
     "end_time": "2024-05-20T16:00:22.353090500Z",
     "start_time": "2024-05-20T16:00:22.323730800Z"
    }
   },
   "id": "eafc6741f0542c1f"
  },
  {
   "cell_type": "code",
   "execution_count": 30,
   "outputs": [
    {
     "name": "stdout",
     "output_type": "stream",
     "text": [
      "TOTAL EMISSIONS: [438443.484]\n",
      "Episode:1 Reward:-600\n"
     ]
    }
   ],
   "source": [
    "episodes = 1\n",
    "for episode in range(1, episodes+1):\n",
    "    obs, inf = env.reset()\n",
    "    evaluation_data = pd.DataFrame(None)\n",
    "    old_emission_difference.clear()\n",
    "    old_emission_difference.append(0)\n",
    "    hourly_emission_difference.clear()\n",
    "    hourly_battery_level.clear()\n",
    "    hourly_baseline_em.clear()\n",
    "    hourly_battery_em.clear()\n",
    "    decision_hist.clear()\n",
    "    reward_hist.clear()\n",
    "    done = False\n",
    "    score = 0\n",
    "\n",
    "    while not done:\n",
    "        action, _ = modelDQN.predict(obs) # Random actions here\n",
    "        obs, reward, done, truncated, info = env.step(action)\n",
    "        score += reward\n",
    "    print('Episode:{} Reward:{}'.format(episode, score))\n",
    "    \n",
    "    evaluation_data.insert(0,column=\"energy_usage\",value=pd.Series(e_usage[:env_length]))\n",
    "    evaluation_data.insert(1,column=\"carbon_intensity\",value=pd.Series(c_int[:env_length]))\n",
    "    evaluation_data.insert(2,column=\"battery_level\",value=pd.Series(hourly_battery_level))\n",
    "    evaluation_data.insert(3,column=\"decision\",value=pd.Series(decision_hist))\n",
    "    evaluation_data.insert(4,column=\"emission_baseline\",value=pd.Series(hourly_baseline_em))\n",
    "    evaluation_data.insert(5,column=\"emission_w_battery\",value=pd.Series(hourly_battery_em))\n",
    "    evaluation_data.insert(6,column=\"old_emission_delta\",value=pd.Series(old_emission_difference))\n",
    "    evaluation_data.insert(7,column=\"emission_delta\",value=pd.Series(hourly_emission_difference))\n",
    "    evaluation_data.insert(8,column=\"reward\",value=pd.Series(reward_hist))"
   ],
   "metadata": {
    "collapsed": false,
    "ExecuteTime": {
     "end_time": "2024-05-20T16:00:23.627174400Z",
     "start_time": "2024-05-20T16:00:22.617155200Z"
    }
   },
   "id": "2e29d9b7405b4883"
  },
  {
   "cell_type": "code",
   "execution_count": 31,
   "outputs": [
    {
     "name": "stdout",
     "output_type": "stream",
     "text": [
      "Final delta: 7223.8539999998175\n",
      "0       391.476\n",
      "1       977.186\n",
      "2      1294.570\n",
      "3      1773.769\n",
      "4      1371.769\n",
      "         ...   \n",
      "995    7269.054\n",
      "996    7068.054\n",
      "997    7223.854\n",
      "998    7223.854\n",
      "999    7223.854\n",
      "Length: 1000, dtype: float64\n"
     ]
    },
    {
     "data": {
      "text/plain": "<Figure size 640x480 with 1 Axes>",
      "image/png": "[encoded data removed]"
     },
     "metadata": {},
     "output_type": "display_data"
    }
   ],
   "source": [
    "my_list = map(lambda x: x[0], evaluation_data[\"emission_delta\"])\n",
    "ser = pd.Series(my_list)\n",
    "ser.plot()\n",
    "print(f'Final delta: {ser.iloc[-1]}')\n",
    "print(ser)"
   ],
   "metadata": {
    "collapsed": false,
    "ExecuteTime": {
     "end_time": "2024-05-20T16:00:25.779929900Z",
     "start_time": "2024-05-20T16:00:25.557922800Z"
    }
   },
   "id": "333dc6da52264440"
  },
  {
   "cell_type": "code",
   "execution_count": 32,
   "outputs": [
    {
     "data": {
      "text/plain": "<Axes: >"
     },
     "execution_count": 32,
     "metadata": {},
     "output_type": "execute_result"
    },
    {
     "data": {
      "text/plain": "<Figure size 640x480 with 1 Axes>",
      "image/png": "[encoded data removed]"
     },
     "metadata": {},
     "output_type": "display_data"
    }
   ],
   "source": [
    "my_list = map(lambda x: x[0], evaluation_data[\"battery_level\"])\n",
    "ser = pd.Series(my_list)\n",
    "ser.plot()"
   ],
   "metadata": {
    "collapsed": false,
    "ExecuteTime": {
     "end_time": "2024-05-20T16:00:33.527548900Z",
     "start_time": "2024-05-20T16:00:33.314985Z"
    }
   },
   "id": "a7fbc39f94ee7ca3"
  },
  {
   "cell_type": "code",
   "execution_count": null,
   "outputs": [],
   "source": [],
   "metadata": {
    "collapsed": false
   },
   "id": "9bb5ee17ea79f715"
  }
 ],
 "metadata": {
  "kernelspec": {
   "display_name": "Python 3",
   "language": "python",
   "name": "python3"
  },
  "language_info": {
   "codemirror_mode": {
    "name": "ipython",
    "version": 2
   },
   "file_extension": ".py",
   "mimetype": "text/x-python",
   "name": "python",
   "nbconvert_exporter": "python",
   "pygments_lexer": "ipython2",
   "version": "2.7.6"
  }
 },
 "nbformat": 4,
 "nbformat_minor": 5
}
