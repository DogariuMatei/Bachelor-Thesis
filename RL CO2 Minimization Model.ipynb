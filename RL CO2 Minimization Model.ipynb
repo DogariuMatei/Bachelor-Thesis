{
 "cells": [
  {
   "cell_type": "code",
   "execution_count": 49,
   "id": "initial_id",
   "metadata": {
    "collapsed": true,
    "ExecuteTime": {
     "end_time": "2024-05-08T09:28:57.572224400Z",
     "start_time": "2024-05-08T09:28:57.496226900Z"
    }
   },
   "outputs": [],
   "source": [
    "import os\n",
    "from gymnasium import Env\n",
    "from gymnasium import spaces\n",
    "from gymnasium.spaces import Discrete\n",
    "import pandas as pd\n",
    "import numpy as np\n",
    "\n",
    "from stable_baselines3.common.env_checker import check_env\n",
    "from stable_baselines3 import DQN\n",
    "from stable_baselines3.common.vec_env import DummyVecEnv\n",
    "from stable_baselines3.common.evaluation import evaluate_policy\n"
   ]
  },
  {
   "cell_type": "code",
   "execution_count": 50,
   "outputs": [],
   "source": [
    "carbon_intensity = pd.read_csv('Datasets/Carbon_intensity_processed_hourly.csv')\n",
    "electricity_usage = pd.read_csv('Datasets/Household_processed_hourly.csv')"
   ],
   "metadata": {
    "collapsed": false,
    "ExecuteTime": {
     "end_time": "2024-05-08T09:28:57.665179Z",
     "start_time": "2024-05-08T09:28:57.504226500Z"
    }
   },
   "id": "9acea165d31417fc"
  },
  {
   "cell_type": "code",
   "execution_count": 51,
   "outputs": [],
   "source": [
    "carbon_intensity['Datetime (UTC)'] = pd.to_datetime(carbon_intensity['Datetime (UTC)'], utc=True)\n",
    "carbon_intensity = carbon_intensity.set_index('Datetime (UTC)')\n",
    "carbon_intensity.index = carbon_intensity.index.tz_convert(None)\n",
    "carbon_intensity = carbon_intensity['Carbon Intensity gCO₂eq/kWh (LCA)']\n"
   ],
   "metadata": {
    "collapsed": false,
    "ExecuteTime": {
     "end_time": "2024-05-08T09:28:57.665179Z",
     "start_time": "2024-05-08T09:28:57.608226200Z"
    }
   },
   "id": "ac609cd148501070"
  },
  {
   "cell_type": "code",
   "execution_count": 52,
   "outputs": [],
   "source": [
    "c_int = np.asarray(carbon_intensity['2021-07-05 00:00:00':'2021-12-05 21:00:00'],dtype=np.int32)"
   ],
   "metadata": {
    "collapsed": false,
    "ExecuteTime": {
     "end_time": "2024-05-08T09:28:57.665179Z",
     "start_time": "2024-05-08T09:28:57.616231400Z"
    }
   },
   "id": "b52da773c2a0fbe1"
  },
  {
   "cell_type": "code",
   "execution_count": 53,
   "outputs": [],
   "source": [
    "electricity_usage['date'] = pd.to_datetime(electricity_usage['date'], utc=True)\n",
    "electricity_usage= electricity_usage.set_index('date')\n",
    "electricity_usage.index = electricity_usage.index.tz_convert(None)\n",
    "electricity_usage = electricity_usage['energy meter val']"
   ],
   "metadata": {
    "collapsed": false,
    "ExecuteTime": {
     "end_time": "2024-05-08T09:28:57.666183800Z",
     "start_time": "2024-05-08T09:28:57.631231900Z"
    }
   },
   "id": "11cd1e0acf3bf76b"
  },
  {
   "cell_type": "code",
   "execution_count": 54,
   "outputs": [],
   "source": [
    "elec_usage = np.asarray(electricity_usage['2015-07-05 00:00:00':], dtype=np.int32)\n",
    "e_usage =[i * 10 for i in elec_usage]\n"
   ],
   "metadata": {
    "collapsed": false,
    "ExecuteTime": {
     "end_time": "2024-05-08T09:28:57.667183700Z",
     "start_time": "2024-05-08T09:28:57.636226Z"
    }
   },
   "id": "ccc36b6530c936ca"
  },
  {
   "cell_type": "code",
   "execution_count": 55,
   "outputs": [],
   "source": [
    "# energy_matrix = np.vstack((c_int, e_usage)).T\n",
    "# energy_matrix"
   ],
   "metadata": {
    "collapsed": false,
    "ExecuteTime": {
     "end_time": "2024-05-08T09:28:57.667183700Z",
     "start_time": "2024-05-08T09:28:57.649168500Z"
    }
   },
   "id": "5095794e59446bc0"
  },
  {
   "cell_type": "code",
   "execution_count": 56,
   "outputs": [],
   "source": [
    "# Constant Environment Variables \n",
    "env_length = 1000\n",
    "battery_size = 1000\n",
    "charge_discharge_rate = 250"
   ],
   "metadata": {
    "collapsed": false,
    "ExecuteTime": {
     "end_time": "2024-05-08T09:28:57.668179900Z",
     "start_time": "2024-05-08T09:28:57.654183300Z"
    }
   },
   "id": "7172a12dafdf059c"
  },
  {
   "cell_type": "code",
   "execution_count": 57,
   "outputs": [],
   "source": [
    "def get_carbon_emissions(c_int, e_usage):\n",
    "    return c_int * (e_usage/1000)"
   ],
   "metadata": {
    "collapsed": false,
    "ExecuteTime": {
     "end_time": "2024-05-08T09:28:57.693178700Z",
     "start_time": "2024-05-08T09:28:57.664185700Z"
    }
   },
   "id": "1138f83050a4d0ee"
  },
  {
   "cell_type": "code",
   "execution_count": 58,
   "outputs": [],
   "source": [
    "def reward_algo(self):\n",
    "    if self.emissions_baseline > self.emissions_with_battery:\n",
    "        return 1\n",
    "    else:\n",
    "        return -1"
   ],
   "metadata": {
    "collapsed": false,
    "ExecuteTime": {
     "end_time": "2024-05-08T09:28:57.716178400Z",
     "start_time": "2024-05-08T09:28:57.668179900Z"
    }
   },
   "id": "5ad53d73b3785341"
  },
  {
   "cell_type": "code",
   "execution_count": 59,
   "outputs": [],
   "source": [
    "def is_done(self):\n",
    "    if self.length == 0:\n",
    "        print(self.hist)\n",
    "        print(f\"emissions baseline: {self.emissions_baseline}\")\n",
    "        print(f\"emissions w/ battery: {self.emissions_with_battery}\")\n",
    "        return True\n",
    "    else:\n",
    "        return False"
   ],
   "metadata": {
    "collapsed": false,
    "ExecuteTime": {
     "end_time": "2024-05-08T09:28:57.717183500Z",
     "start_time": "2024-05-08T09:28:57.675178200Z"
    }
   },
   "id": "d108dc74de5e8913"
  },
  {
   "cell_type": "code",
   "execution_count": 60,
   "outputs": [],
   "source": [
    "class Environment(Env):\n",
    "    def __init__(self):\n",
    "        # Actions are discharge(-1), nothing (0) and charge (1)\n",
    "        self.action_space = Discrete(3)\n",
    "        \n",
    "        self.observation_space = spaces.Dict({\n",
    "                \"carbon_int\" : spaces.Box(low = 0, high = 10000, shape=(1,),dtype=int),\n",
    "                \"electric_usage\" : spaces.Box(low = 0, high = 10000, shape=(1,),dtype=int),\n",
    "                \"battery_charge\" : spaces.Box(low = 0, high = battery_size, shape=(1,),dtype=int),\n",
    "                \"c_saved\" : spaces.Box(low = 0, high = 1000000, shape=(1,),dtype=int)\n",
    "            }\n",
    "        )            \n",
    "        \n",
    "        self.length = env_length\n",
    "        self.hour_index = 0\n",
    "        self.c_int = c_int\n",
    "        self.e_usage = e_usage\n",
    "        self.emissions_baseline = 0\n",
    "        self.emissions_with_battery = 0\n",
    "        \n",
    "        self.hist = []\n",
    "        \n",
    "        self.state = {\n",
    "            \"carbon_int\": np.array([self.c_int[0]]),\n",
    "            \"electric_usage\": np.array([self.e_usage[0]]),\n",
    "            \"battery_charge\": np.array([0]),\n",
    "            \"c_saved\" : np.array([0]),\n",
    "        }\n",
    "        \n",
    "    def step(self, action):\n",
    "        curr_c_int = self.state[\"carbon_int\"]\n",
    "        curr_e_usage = self.state[\"electric_usage\"]\n",
    "        curr_charge = self.state[\"battery_charge\"]\n",
    "        self.emissions_baseline +=  get_carbon_emissions(curr_c_int, curr_e_usage)\n",
    "        \n",
    "        \n",
    "        # Perform 'game logic' for each possible agent action\n",
    "        if action == 0 and curr_charge > 0:\n",
    "            if curr_charge >= charge_discharge_rate:\n",
    "                self.emissions_with_battery += get_carbon_emissions(curr_c_int, curr_e_usage - charge_discharge_rate)\n",
    "                new_battery_charge_val = curr_charge - charge_discharge_rate\n",
    "                self.state.update({\"battery_charge\" : new_battery_charge_val})\n",
    "            elif 0 < curr_charge < charge_discharge_rate:\n",
    "                self.emissions_with_battery += get_carbon_emissions(curr_c_int, curr_e_usage - curr_charge)\n",
    "                new_battery_charge_val = 0\n",
    "                self.state.update({\"battery_charge\" : new_battery_charge_val})\n",
    "            \n",
    "        elif action == 1:\n",
    "            self.emissions_with_battery += get_carbon_emissions(curr_c_int,curr_e_usage)\n",
    "            \n",
    "        elif action == 2 and curr_charge <= battery_size:\n",
    "            if (battery_size - charge_discharge_rate) < curr_charge < battery_size:\n",
    "                new_battery_charge_val = battery_size\n",
    "                self.emissions_with_battery += get_carbon_emissions(curr_c_int, curr_e_usage + (battery_size -                                                                         curr_charge))\n",
    "                self.state.update({\"battery_charge\" : new_battery_charge_val})\n",
    "            else:\n",
    "                self.emissions_with_battery += get_carbon_emissions(curr_c_int, curr_e_usage + charge_discharge_rate)\n",
    "                new_battery_charge_val = curr_charge + charge_discharge_rate\n",
    "                self.state.update({\"battery_charge\" : new_battery_charge_val})\n",
    "        else:\n",
    "            pass\n",
    "        \n",
    "        \n",
    "        # update hist array\n",
    "        self.hist.append(int(self.emissions_baseline-self.emissions_with_battery))\n",
    "        \n",
    "        # Update env variables\n",
    "        self.length -= 1\n",
    "        self.hour_index += 1\n",
    "        \n",
    "        # Go to next state\n",
    "        self.state.update({\"carbon_int\": np.array([self.c_int[self.hour_index]])})\n",
    "        self.state.update({\"electric_usage\": np.array([self.e_usage[self.hour_index]])})\n",
    "\n",
    "        # Update emissions saved\n",
    "        emissions_saved = self.emissions_baseline - self.emissions_with_battery\n",
    "        self.state.update({\"c_saved\" : emissions_saved})\n",
    "        \n",
    "        # Update reward\n",
    "        reward = reward_algo(self)\n",
    "            \n",
    "        # Check if finished\n",
    "        done = is_done(self)\n",
    "        \n",
    "        info = {}\n",
    "        truncated = False\n",
    "        return self.state, reward, done, truncated, info\n",
    "    \n",
    "    \n",
    "    def reset(self, seed = None, options = None):\n",
    "        self.state = {\n",
    "            \"carbon_int\": np.array([self.c_int[0]]),\n",
    "            \"electric_usage\": np.array([self.e_usage[0]]),\n",
    "            \"battery_charge\": np.array([0]),\n",
    "            \"c_saved\" : np.array([0]),\n",
    "        } \n",
    "        self.length = env_length\n",
    "        self.hour_index = 0\n",
    "        self.emissions_baseline = 0\n",
    "        self.emissions_with_battery = 0\n",
    "        \n",
    "        self.hist = []\n",
    "\n",
    "        info = {}\n",
    "        \n",
    "        return self.state, info"
   ],
   "metadata": {
    "collapsed": false,
    "ExecuteTime": {
     "end_time": "2024-05-08T09:28:57.772177500Z",
     "start_time": "2024-05-08T09:28:57.693178700Z"
    }
   },
   "id": "84894bb74b346dcc"
  },
  {
   "cell_type": "code",
   "execution_count": 61,
   "outputs": [],
   "source": [
    "env = Environment()"
   ],
   "metadata": {
    "collapsed": false,
    "ExecuteTime": {
     "end_time": "2024-05-08T09:28:57.779177800Z",
     "start_time": "2024-05-08T09:28:57.700182Z"
    }
   },
   "id": "3f3b92941a4d0be2"
  },
  {
   "cell_type": "code",
   "execution_count": 62,
   "outputs": [
    {
     "name": "stdout",
     "output_type": "stream",
     "text": [
      "65353\n",
      "emissions baseline: [436961.38]\n",
      "emissions w/ battery: [371607.44]\n",
      "Episode:1 Score:988\n",
      "52306\n",
      "emissions baseline: [436961.38]\n",
      "emissions w/ battery: [384654.69]\n",
      "Episode:2 Score:998\n",
      "39548\n",
      "emissions baseline: [436961.38]\n",
      "emissions w/ battery: [397412.57]\n",
      "Episode:3 Score:1000\n",
      "49216\n",
      "emissions baseline: [436961.38]\n",
      "emissions w/ battery: [387745.08]\n",
      "Episode:4 Score:974\n",
      "51224\n",
      "emissions baseline: [436961.38]\n",
      "emissions w/ battery: [385736.56]\n",
      "Episode:5 Score:972\n"
     ]
    }
   ],
   "source": [
    "episodes = 5\n",
    "for episode in range(1, episodes+1):\n",
    "    state = env.reset()\n",
    "    done = False\n",
    "    score = 0\n",
    "\n",
    "    while not done:\n",
    "        action = env.action_space.sample() # Random actions here\n",
    "        n_state, reward, done, truncated, info = env.step(action)\n",
    "        score+=reward\n",
    "    print('Episode:{} Score:{}'.format(episode, score))"
   ],
   "metadata": {
    "collapsed": false,
    "ExecuteTime": {
     "end_time": "2024-05-08T09:28:57.841187200Z",
     "start_time": "2024-05-08T09:28:57.713179700Z"
    }
   },
   "id": "22b8929025289b30"
  },
  {
   "cell_type": "code",
   "execution_count": 63,
   "outputs": [
    {
     "name": "stdout",
     "output_type": "stream",
     "text": [
      "Using cuda device\n",
      "Wrapping the env with a `Monitor` wrapper\n",
      "Wrapping the env in a DummyVecEnv.\n"
     ]
    }
   ],
   "source": [
    "log_path = os.path.join('Training', 'Logs')\n",
    "model = DQN('MultiInputPolicy', env, verbose = 1, tensorboard_log = log_path)"
   ],
   "metadata": {
    "collapsed": false,
    "ExecuteTime": {
     "end_time": "2024-05-08T09:28:57.901182100Z",
     "start_time": "2024-05-08T09:28:57.833183300Z"
    }
   },
   "id": "895e02aed605d28"
  },
  {
   "cell_type": "code",
   "execution_count": 64,
   "outputs": [
    {
     "name": "stdout",
     "output_type": "stream",
     "text": [
      "Logging to Training/Logs/DQN_9\n",
      "49734\n",
      "emissions baseline: [436961.38]\n",
      "emissions w/ battery: [387227.01]\n",
      "166706\n",
      "emissions baseline: [436961.38]\n",
      "emissions w/ battery: [270254.41]\n",
      "193041\n",
      "emissions baseline: [436961.38]\n",
      "emissions w/ battery: [243919.63]\n",
      "204213\n",
      "emissions baseline: [436961.38]\n",
      "emissions w/ battery: [232748.29]\n",
      "----------------------------------\n",
      "| rollout/            |          |\n",
      "|    ep_len_mean      | 1e+03    |\n",
      "|    ep_rew_mean      | 1e+03    |\n",
      "|    exploration_rate | 0.05     |\n",
      "| time/               |          |\n",
      "|    episodes         | 4        |\n",
      "|    fps              | 588      |\n",
      "|    time_elapsed     | 6        |\n",
      "|    total_timesteps  | 4000     |\n",
      "| train/              |          |\n",
      "|    learning_rate    | 0.0001   |\n",
      "|    loss             | 18       |\n",
      "|    n_updates        | 974      |\n",
      "----------------------------------\n",
      "225518\n",
      "emissions baseline: [436961.38]\n",
      "emissions w/ battery: [211442.84]\n",
      "223349\n",
      "emissions baseline: [436961.38]\n",
      "emissions w/ battery: [213611.87]\n",
      "233883\n",
      "emissions baseline: [436961.38]\n",
      "emissions w/ battery: [203077.61]\n",
      "259560\n",
      "emissions baseline: [436961.38]\n",
      "emissions w/ battery: [177400.88]\n",
      "----------------------------------\n",
      "| rollout/            |          |\n",
      "|    ep_len_mean      | 1e+03    |\n",
      "|    ep_rew_mean      | 1e+03    |\n",
      "|    exploration_rate | 0.05     |\n",
      "| time/               |          |\n",
      "|    episodes         | 8        |\n",
      "|    fps              | 577      |\n",
      "|    time_elapsed     | 13       |\n",
      "|    total_timesteps  | 8000     |\n",
      "| train/              |          |\n",
      "|    learning_rate    | 0.0001   |\n",
      "|    loss             | 17.6     |\n",
      "|    n_updates        | 1974     |\n",
      "----------------------------------\n",
      "231540\n",
      "emissions baseline: [436961.38]\n",
      "emissions w/ battery: [205420.99]\n",
      "260108\n",
      "emissions baseline: [436961.38]\n",
      "emissions w/ battery: [176852.9]\n",
      "256189\n",
      "emissions baseline: [436961.38]\n",
      "emissions w/ battery: [180771.93]\n",
      "268949\n",
      "emissions baseline: [436961.38]\n",
      "emissions w/ battery: [168012.27]\n",
      "----------------------------------\n",
      "| rollout/            |          |\n",
      "|    ep_len_mean      | 1e+03    |\n",
      "|    ep_rew_mean      | 1e+03    |\n",
      "|    exploration_rate | 0.05     |\n",
      "| time/               |          |\n",
      "|    episodes         | 12       |\n",
      "|    fps              | 569      |\n",
      "|    time_elapsed     | 21       |\n",
      "|    total_timesteps  | 12000    |\n",
      "| train/              |          |\n",
      "|    learning_rate    | 0.0001   |\n",
      "|    loss             | 36.6     |\n",
      "|    n_updates        | 2974     |\n",
      "----------------------------------\n",
      "270033\n",
      "emissions baseline: [436961.38]\n",
      "emissions w/ battery: [166927.9]\n",
      "238945\n",
      "emissions baseline: [436961.38]\n",
      "emissions w/ battery: [198016.06]\n",
      "272135\n",
      "emissions baseline: [436961.38]\n",
      "emissions w/ battery: [164826.14]\n",
      "264149\n",
      "emissions baseline: [436961.38]\n",
      "emissions w/ battery: [172811.4]\n",
      "----------------------------------\n",
      "| rollout/            |          |\n",
      "|    ep_len_mean      | 1e+03    |\n",
      "|    ep_rew_mean      | 1e+03    |\n",
      "|    exploration_rate | 0.05     |\n",
      "| time/               |          |\n",
      "|    episodes         | 16       |\n",
      "|    fps              | 568      |\n",
      "|    time_elapsed     | 28       |\n",
      "|    total_timesteps  | 16000    |\n",
      "| train/              |          |\n",
      "|    learning_rate    | 0.0001   |\n",
      "|    loss             | 22.5     |\n",
      "|    n_updates        | 3974     |\n",
      "----------------------------------\n",
      "262431\n",
      "emissions baseline: [436961.38]\n",
      "emissions w/ battery: [174529.98]\n",
      "286055\n",
      "emissions baseline: [436961.38]\n",
      "emissions w/ battery: [150905.42]\n",
      "255602\n",
      "emissions baseline: [436961.38]\n",
      "emissions w/ battery: [181359.36]\n",
      "268843\n",
      "emissions baseline: [436961.38]\n",
      "emissions w/ battery: [168117.82]\n",
      "----------------------------------\n",
      "| rollout/            |          |\n",
      "|    ep_len_mean      | 1e+03    |\n",
      "|    ep_rew_mean      | 1e+03    |\n",
      "|    exploration_rate | 0.05     |\n",
      "| time/               |          |\n",
      "|    episodes         | 20       |\n",
      "|    fps              | 564      |\n",
      "|    time_elapsed     | 35       |\n",
      "|    total_timesteps  | 20000    |\n",
      "| train/              |          |\n",
      "|    learning_rate    | 0.0001   |\n",
      "|    loss             | 29.7     |\n",
      "|    n_updates        | 4974     |\n",
      "----------------------------------\n"
     ]
    },
    {
     "data": {
      "text/plain": "<stable_baselines3.dqn.dqn.DQN at 0x7fd19b1cfd60>"
     },
     "execution_count": 64,
     "metadata": {},
     "output_type": "execute_result"
    }
   ],
   "source": [
    "model.learn(total_timesteps=20000)"
   ],
   "metadata": {
    "collapsed": false,
    "ExecuteTime": {
     "end_time": "2024-05-08T09:29:33.288129200Z",
     "start_time": "2024-05-08T09:28:57.858190200Z"
    }
   },
   "id": "455fd93683590ae7"
  },
  {
   "cell_type": "code",
   "execution_count": 65,
   "outputs": [
    {
     "name": "stderr",
     "output_type": "stream",
     "text": [
      "/home/doga/miniconda3/envs/myenv/lib/python3.8/site-packages/stable_baselines3/common/evaluation.py:67: UserWarning: Evaluation environment is not wrapped with a ``Monitor`` wrapper. This may result in reporting modified episode lengths and rewards, if other wrappers happen to modify these. Consider wrapping environment first with ``Monitor`` wrapper.\n",
      "  warnings.warn(\n"
     ]
    },
    {
     "name": "stdout",
     "output_type": "stream",
     "text": [
      "431706\n",
      "emissions baseline: [436961.38]\n",
      "emissions w/ battery: [5255.06]\n",
      "431706\n",
      "emissions baseline: [436961.38]\n",
      "emissions w/ battery: [5255.06]\n",
      "431706\n",
      "emissions baseline: [436961.38]\n",
      "emissions w/ battery: [5255.06]\n",
      "431706\n",
      "emissions baseline: [436961.38]\n",
      "emissions w/ battery: [5255.06]\n",
      "431706\n",
      "emissions baseline: [436961.38]\n",
      "emissions w/ battery: [5255.06]\n",
      "431706\n",
      "emissions baseline: [436961.38]\n",
      "emissions w/ battery: [5255.06]\n",
      "431706\n",
      "emissions baseline: [436961.38]\n",
      "emissions w/ battery: [5255.06]\n",
      "431706\n",
      "emissions baseline: [436961.38]\n",
      "emissions w/ battery: [5255.06]\n",
      "431706\n",
      "emissions baseline: [436961.38]\n",
      "emissions w/ battery: [5255.06]\n",
      "431706\n",
      "emissions baseline: [436961.38]\n",
      "emissions w/ battery: [5255.06]\n"
     ]
    },
    {
     "data": {
      "text/plain": "(1000.0, 0.0)"
     },
     "execution_count": 65,
     "metadata": {},
     "output_type": "execute_result"
    }
   ],
   "source": [
    "evaluate_policy(model, env, n_eval_episodes=10, render = False)"
   ],
   "metadata": {
    "collapsed": false,
    "ExecuteTime": {
     "end_time": "2024-05-08T09:29:42.389125600Z",
     "start_time": "2024-05-08T09:29:33.292133100Z"
    }
   },
   "id": "dae0672286f9c00d"
  },
  {
   "cell_type": "code",
   "execution_count": 66,
   "outputs": [
    {
     "name": "stdout",
     "output_type": "stream",
     "text": [
      "410937\n",
      "emissions baseline: [436961.38]\n",
      "emissions w/ battery: [26024.15]\n",
      "Episode:1 Reward:1000 Total Grams Carbon Saved:[410937]\n"
     ]
    }
   ],
   "source": [
    "episodes = 1\n",
    "for episode in range(1, episodes+1):\n",
    "    obs, inf = env.reset()\n",
    "    done = False\n",
    "    score = 0\n",
    "\n",
    "    while not done:\n",
    "        action, _ = model.predict(obs) # Random actions here\n",
    "        obs, reward, done, truncated, info = env.step(action)\n",
    "        score += reward\n",
    "    print('Episode:{} Reward:{} Total Grams Carbon Saved:{}'.format(episode, score, obs[\"c_saved\"].astype(\"int64\")))"
   ],
   "metadata": {
    "collapsed": false,
    "ExecuteTime": {
     "end_time": "2024-05-08T09:29:43.218166900Z",
     "start_time": "2024-05-08T09:29:42.388128700Z"
    }
   },
   "id": "303545fadf5be61b"
  },
  {
   "cell_type": "code",
   "execution_count": 67,
   "outputs": [],
   "source": [
    "training_log_path = os.path.join(log_path, 'DQN_9')"
   ],
   "metadata": {
    "collapsed": false,
    "ExecuteTime": {
     "end_time": "2024-05-08T10:17:10.390695900Z",
     "start_time": "2024-05-08T10:17:10.378097900Z"
    }
   },
   "id": "869739f5ffbd1447"
  }
 ],
 "metadata": {
  "kernelspec": {
   "display_name": "Python 3",
   "language": "python",
   "name": "python3"
  },
  "language_info": {
   "codemirror_mode": {
    "name": "ipython",
    "version": 2
   },
   "file_extension": ".py",
   "mimetype": "text/x-python",
   "name": "python",
   "nbconvert_exporter": "python",
   "pygments_lexer": "ipython2",
   "version": "2.7.6"
  }
 },
 "nbformat": 4,
 "nbformat_minor": 5
}
