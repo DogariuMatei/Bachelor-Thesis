{
 "cells": [
  {
   "cell_type": "code",
   "execution_count": 187,
   "id": "initial_id",
   "metadata": {
    "collapsed": true,
    "ExecuteTime": {
     "end_time": "2024-05-19T19:08:41.330050500Z",
     "start_time": "2024-05-19T19:08:41.201968300Z"
    }
   },
   "outputs": [],
   "source": [
    "import os\n",
    "from gymnasium import Env\n",
    "from gymnasium import spaces\n",
    "from gymnasium.spaces import Discrete\n",
    "import pandas as pd\n",
    "import numpy as np\n",
    "\n",
    "from stable_baselines3 import DQN\n",
    "from stable_baselines3 import PPO\n",
    "from stable_baselines3.common.env_util import make_vec_env\n",
    "from stable_baselines3.common.evaluation import evaluate_policy\n",
    "\n"
   ]
  },
  {
   "cell_type": "code",
   "execution_count": 188,
   "outputs": [],
   "source": [
    "carbon_intensity = pd.read_csv('Datasets/Carbon_intensity_processed_hourly.csv')\n",
    "electricity_usage = pd.read_csv('Datasets/Household_processed_hourly.csv')"
   ],
   "metadata": {
    "collapsed": false,
    "ExecuteTime": {
     "end_time": "2024-05-19T19:08:41.595768100Z",
     "start_time": "2024-05-19T19:08:41.208969600Z"
    }
   },
   "id": "9acea165d31417fc"
  },
  {
   "cell_type": "code",
   "execution_count": 189,
   "outputs": [],
   "source": [
    "carbon_intensity['Datetime (UTC)'] = pd.to_datetime(carbon_intensity['Datetime (UTC)'], utc=True)\n",
    "carbon_intensity = carbon_intensity.set_index('Datetime (UTC)')\n",
    "carbon_intensity.index = carbon_intensity.index.tz_convert(None)\n",
    "carbon_intensity = carbon_intensity['Carbon Intensity gCO₂eq/kWh (LCA)']\n"
   ],
   "metadata": {
    "collapsed": false,
    "ExecuteTime": {
     "end_time": "2024-05-19T19:08:41.609769500Z",
     "start_time": "2024-05-19T19:08:41.309054300Z"
    }
   },
   "id": "ac609cd148501070"
  },
  {
   "cell_type": "code",
   "execution_count": 190,
   "outputs": [],
   "source": [
    "c_int = np.asarray(carbon_intensity['2021-07-05 00:00:00':'2021-12-05 21:00:00'],dtype=int)"
   ],
   "metadata": {
    "collapsed": false,
    "ExecuteTime": {
     "end_time": "2024-05-19T19:08:41.609769500Z",
     "start_time": "2024-05-19T19:08:41.317052500Z"
    }
   },
   "id": "b52da773c2a0fbe1"
  },
  {
   "cell_type": "code",
   "execution_count": 191,
   "outputs": [],
   "source": [
    "electricity_usage['date'] = pd.to_datetime(electricity_usage['date'], utc=True)\n",
    "electricity_usage= electricity_usage.set_index('date')\n",
    "electricity_usage.index = electricity_usage.index.tz_convert(None)\n",
    "electricity_usage = electricity_usage['energy meter val']"
   ],
   "metadata": {
    "collapsed": false,
    "ExecuteTime": {
     "end_time": "2024-05-19T19:08:41.611765400Z",
     "start_time": "2024-05-19T19:08:41.335051400Z"
    }
   },
   "id": "11cd1e0acf3bf76b"
  },
  {
   "cell_type": "code",
   "execution_count": 192,
   "outputs": [],
   "source": [
    "e_usage = np.asarray([(i * 10) for i in electricity_usage['2015-07-05 00:00:00':]], dtype=int)"
   ],
   "metadata": {
    "collapsed": false,
    "ExecuteTime": {
     "end_time": "2024-05-19T19:08:41.611765400Z",
     "start_time": "2024-05-19T19:08:41.340050900Z"
    }
   },
   "id": "ccc36b6530c936ca"
  },
  {
   "cell_type": "markdown",
   "source": [
    "----------------------"
   ],
   "metadata": {
    "collapsed": false
   },
   "id": "9b532a69a5187653"
  },
  {
   "cell_type": "code",
   "execution_count": 193,
   "outputs": [],
   "source": [
    "# Global evaluation vars\n",
    "evaluation_data = pd.DataFrame()\n",
    "hourly_emission_difference = []\n",
    "hourly_battery_level = []\n",
    "hourly_baseline_em = []\n",
    "hourly_battery_em = []\n",
    "decision_hist = []\n",
    "reward_hist = []\n",
    "total_emissions_saved = 0"
   ],
   "metadata": {
    "collapsed": false,
    "ExecuteTime": {
     "end_time": "2024-05-19T19:08:41.611765400Z",
     "start_time": "2024-05-19T19:08:41.353054200Z"
    }
   },
   "id": "cf5973345046501a"
  },
  {
   "cell_type": "code",
   "execution_count": 194,
   "outputs": [],
   "source": [
    "# Environment Constants\n",
    "env_length = 1000 # number of hours\n",
    "battery_size = 5000 #Watt/Hour\n",
    "charge_discharge_rate = 1000 #Watt/Hour"
   ],
   "metadata": {
    "collapsed": false,
    "ExecuteTime": {
     "end_time": "2024-05-19T19:08:41.611765400Z",
     "start_time": "2024-05-19T19:08:41.357052300Z"
    }
   },
   "id": "7172a12dafdf059c"
  },
  {
   "cell_type": "code",
   "execution_count": 195,
   "outputs": [],
   "source": [
    "def calculate_carbon_emissions(c_int, e_usage):\n",
    "    em = c_int * (e_usage/1000)\n",
    "    return em"
   ],
   "metadata": {
    "collapsed": false,
    "ExecuteTime": {
     "end_time": "2024-05-19T19:08:41.611765400Z",
     "start_time": "2024-05-19T19:08:41.363701100Z"
    }
   },
   "id": "1138f83050a4d0ee"
  },
  {
   "cell_type": "code",
   "execution_count": 196,
   "outputs": [],
   "source": [
    "def get_effective_emissions_discharge(curr_c_int, e_usage):\n",
    "    em_new = 0\n",
    "    if e_usage > charge_discharge_rate:\n",
    "        em_new = calculate_carbon_emissions(curr_c_int, e_usage)\n",
    "    return em_new"
   ],
   "metadata": {
    "collapsed": false,
    "ExecuteTime": {
     "end_time": "2024-05-19T19:08:41.611765400Z",
     "start_time": "2024-05-19T19:08:41.372650500Z"
    }
   },
   "id": "718fbb643fb77b61"
  },
  {
   "cell_type": "code",
   "execution_count": 197,
   "outputs": [],
   "source": [
    "def eval_battery_level_and_emissions(emissions, battery_val):\n",
    "    hourly_battery_em.append(emissions)\n",
    "    hourly_battery_level.append(battery_val)\n",
    "    "
   ],
   "metadata": {
    "collapsed": false,
    "ExecuteTime": {
     "end_time": "2024-05-19T19:08:41.612764600Z",
     "start_time": "2024-05-19T19:08:41.376650700Z"
    }
   },
   "id": "790a7f513a58de05"
  },
  {
   "cell_type": "code",
   "execution_count": 198,
   "outputs": [],
   "source": [
    "def reward_algo(self):\n",
    "    curr_delta = abs(self.emissions_with_battery - self.emissions_baseline)\n",
    "    if curr_delta > self.state[\"old_em_delta\"]:\n",
    "        reward_hist.append(1)\n",
    "        return 1\n",
    "    else:\n",
    "        reward_hist.append(-1)\n",
    "        return -1"
   ],
   "metadata": {
    "collapsed": false,
    "ExecuteTime": {
     "end_time": "2024-05-19T19:08:41.612764600Z",
     "start_time": "2024-05-19T19:08:41.385650600Z"
    }
   },
   "id": "5ad53d73b3785341"
  },
  {
   "cell_type": "code",
   "execution_count": 199,
   "outputs": [],
   "source": [
    "def is_done(self):\n",
    "    if self.length == 0:\n",
    "        return True\n",
    "    else:\n",
    "        return False"
   ],
   "metadata": {
    "collapsed": false,
    "ExecuteTime": {
     "end_time": "2024-05-19T19:08:41.612764600Z",
     "start_time": "2024-05-19T19:08:41.391650400Z"
    }
   },
   "id": "d108dc74de5e8913"
  },
  {
   "cell_type": "code",
   "execution_count": 200,
   "outputs": [],
   "source": [
    "class Environment(Env):\n",
    "    def __init__(self):\n",
    "        super().__init__()\n",
    "        # Actions are discharge(-1), nothing (0) and charge (1)\n",
    "        self.action_space = Discrete(3)\n",
    "        self.observation_space = spaces.Dict({\n",
    "                \"carbon_int\" : spaces.Box(low = 0, high = 100000, shape=(1,), dtype=int),\n",
    "                \"electric_usage\" : spaces.Box(low = 0, high = 10000, shape=(1,), dtype=int),\n",
    "                \"battery_charge\" : spaces.Box(low = 0, high = battery_size, shape=(1,), dtype=int),\n",
    "                \"old_em_delta\" : spaces.Box(low = -np.inf, high = np.inf, shape=(1,), dtype=int)\n",
    "            }\n",
    "        )            \n",
    "        \n",
    "        self.c_int = c_int\n",
    "        self.e_usage = e_usage\n",
    "        self.length = env_length\n",
    "        self.hour_index = 0\n",
    "        \n",
    "        self.emissions_baseline = 0\n",
    "        self.emissions_with_battery = 0\n",
    "        \n",
    "        self.state = {\n",
    "            \"carbon_int\": np.array([self.c_int[0]]),\n",
    "            \"electric_usage\": np.array([self.e_usage[0]]),\n",
    "            \"battery_charge\": np.array([battery_size]),\n",
    "            \"old_em_delta\": np.array([0]),\n",
    "        }\n",
    "        \n",
    "        \n",
    "        \n",
    "        \n",
    "    def step(self, action):\n",
    "\n",
    "        if self.state[\"old_em_delta\"] != [0]:\n",
    "          self.state.update({\"old_em_delta\" : np.array([abs(self.emissions_with_battery - self.emissions_baseline)])})\n",
    "\n",
    "        curr_c_int = self.state[\"carbon_int\"]\n",
    "        curr_e_usage = self.state[\"electric_usage\"]\n",
    "        curr_charge = self.state[\"battery_charge\"]\n",
    "        \n",
    "        baseline_em_now = calculate_carbon_emissions(curr_c_int, curr_e_usage)\n",
    "        self.emissions_baseline = self.emissions_baseline + baseline_em_now\n",
    "        hourly_baseline_em.append(baseline_em_now)\n",
    "        \n",
    "\n",
    "        # Perform 'game logic' for each possible agent action\n",
    "        if action == 0 and curr_charge >= 0:\n",
    "            decision_hist.append(\"Discharged\")\n",
    "            if curr_charge > charge_discharge_rate:\n",
    "                emissions_now = get_effective_emissions_discharge(curr_c_int, curr_e_usage - charge_discharge_rate)\n",
    "                self.emissions_with_battery = self.emissions_with_battery + emissions_now\n",
    "                new_battery_charge_val = curr_charge - charge_discharge_rate\n",
    "                eval_battery_level_and_emissions(emissions_now,new_battery_charge_val)\n",
    "                self.state.update({\"battery_charge\" : new_battery_charge_val})\n",
    "            elif 0 <= curr_charge <= charge_discharge_rate:\n",
    "                emissions_now = get_effective_emissions_discharge(curr_c_int, curr_e_usage - curr_charge)\n",
    "                self.emissions_with_battery = self.emissions_with_battery + emissions_now\n",
    "                new_battery_charge_val = np.array([0])\n",
    "                eval_battery_level_and_emissions(emissions_now,new_battery_charge_val)\n",
    "                self.state.update({\"battery_charge\" : new_battery_charge_val})\n",
    "            \n",
    "        elif action == 1:\n",
    "            decision_hist.append(\"Nothing\")\n",
    "            emissions_now = calculate_carbon_emissions(curr_c_int,curr_e_usage)\n",
    "            eval_battery_level_and_emissions(emissions_now,curr_charge)\n",
    "            self.emissions_with_battery = self.emissions_with_battery + emissions_now\n",
    "            \n",
    "        elif action == 2 and curr_charge <= battery_size:\n",
    "            decision_hist.append(\"Charged\")\n",
    "            if (battery_size - charge_discharge_rate) <= curr_charge <= battery_size:\n",
    "                emissions_now = calculate_carbon_emissions(curr_c_int, curr_e_usage + (battery_size - curr_charge))\n",
    "                self.emissions_with_battery = self.emissions_with_battery + emissions_now\n",
    "                new_battery_charge_val = np.array([battery_size])\n",
    "                \n",
    "                eval_battery_level_and_emissions(emissions_now,new_battery_charge_val)\n",
    "                self.state.update({\"battery_charge\" : new_battery_charge_val})\n",
    "            elif 0 <= curr_charge < (battery_size - charge_discharge_rate):\n",
    "                emissions_now = calculate_carbon_emissions(curr_c_int, curr_e_usage + charge_discharge_rate)\n",
    "                self.emissions_with_battery = self.emissions_with_battery + emissions_now\n",
    "                new_battery_charge_val = curr_charge + charge_discharge_rate\n",
    "                eval_battery_level_and_emissions(emissions_now,new_battery_charge_val)\n",
    "                self.state.update({\"battery_charge\" : new_battery_charge_val})\n",
    "        else:\n",
    "            decision_hist.append(\"PASSED\")\n",
    "            print(\"Smth weird happened\")\n",
    "            pass\n",
    "        \n",
    "        emission_delta = abs(self.emissions_with_battery - self.emissions_baseline)\n",
    "        hourly_emission_difference.append(emission_delta)\n",
    "        \n",
    "        # Update env variables\n",
    "        self.length = self.length - 1\n",
    "        self.hour_index = self.hour_index + 1\n",
    "        # Go to next state\n",
    "        self.state.update({\"carbon_int\": np.array([self.c_int[self.hour_index]])})\n",
    "        self.state.update({\"electric_usage\": np.array([self.e_usage[self.hour_index]])})\n",
    "\n",
    "        # Update reward\n",
    "        reward = reward_algo(self)\n",
    "            \n",
    "        # Check if finished\n",
    "        done = is_done(self)\n",
    "        \n",
    "        info = {}\n",
    "        truncated = False\n",
    "        return self.state, reward, done, truncated, info\n",
    "    \n",
    "    \n",
    "    def reset(self, seed = None, options = None):\n",
    "        self.state = {\n",
    "            \"carbon_int\": np.array([self.c_int[0]]),\n",
    "            \"electric_usage\": np.array([self.e_usage[0]]),\n",
    "            \"battery_charge\": np.array([battery_size]),\n",
    "            \"old_em_delta\" : np.array([0]),\n",
    "        } \n",
    "        self.c_int = c_int\n",
    "        self.e_usage = e_usage\n",
    "        self.length = env_length\n",
    "        self.hour_index = 0\n",
    "        self.emissions_baseline = 0\n",
    "        self.emissions_with_battery = 0\n",
    "\n",
    "        info = {}\n",
    "        \n",
    "        return self.state, info"
   ],
   "metadata": {
    "collapsed": false,
    "ExecuteTime": {
     "end_time": "2024-05-19T19:08:41.612764600Z",
     "start_time": "2024-05-19T19:08:41.405648800Z"
    }
   },
   "id": "84894bb74b346dcc"
  },
  {
   "cell_type": "code",
   "execution_count": 201,
   "outputs": [],
   "source": [
    "env = Environment()"
   ],
   "metadata": {
    "collapsed": false,
    "ExecuteTime": {
     "end_time": "2024-05-19T19:08:41.612764600Z",
     "start_time": "2024-05-19T19:08:41.418650Z"
    }
   },
   "id": "3f3b92941a4d0be2"
  },
  {
   "cell_type": "code",
   "execution_count": 202,
   "outputs": [],
   "source": [
    "from stable_baselines3.common.env_checker import check_env\n",
    "check_env(env)"
   ],
   "metadata": {
    "collapsed": false,
    "ExecuteTime": {
     "end_time": "2024-05-19T19:08:41.612764600Z",
     "start_time": "2024-05-19T19:08:41.434648800Z"
    }
   },
   "id": "489b8e147a6da2d2"
  },
  {
   "cell_type": "code",
   "execution_count": 203,
   "outputs": [],
   "source": [
    "# episodes = 5\n",
    "# for episode in range(1, episodes+1):\n",
    "#     state = env.reset()\n",
    "#     done = False\n",
    "#     score = 0\n",
    "# \n",
    "#     while not done:\n",
    "#         action = env.action_space.sample() # Random actions here\n",
    "#         n_state, reward, done, truncated, info = env.step(action)\n",
    "#         score+=reward\n",
    "#     print('Episode:{} Score:{}'.format(episode, score))"
   ],
   "metadata": {
    "collapsed": false,
    "ExecuteTime": {
     "end_time": "2024-05-19T19:08:41.612764600Z",
     "start_time": "2024-05-19T19:08:41.437649700Z"
    }
   },
   "id": "22b8929025289b30"
  },
  {
   "cell_type": "code",
   "execution_count": 204,
   "outputs": [
    {
     "name": "stdout",
     "output_type": "stream",
     "text": [
      "Using cuda device\n",
      "Wrapping the env with a `Monitor` wrapper\n",
      "Wrapping the env in a DummyVecEnv.\n"
     ]
    }
   ],
   "source": [
    "log_path = os.path.join('Training', 'Logs')\n",
    "# vec_env = make_vec_env(env, n_envs=4)\n",
    "model = PPO(\"MultiInputPolicy\", env, verbose=1, tensorboard_log = log_path)\n",
    "# model = DQN('MultiInputPolicy', env, verbose = 1, tensorboard_log = log_path)"
   ],
   "metadata": {
    "collapsed": false,
    "ExecuteTime": {
     "end_time": "2024-05-19T19:08:41.613765500Z",
     "start_time": "2024-05-19T19:08:41.443522400Z"
    }
   },
   "id": "895e02aed605d28"
  },
  {
   "cell_type": "code",
   "execution_count": 205,
   "outputs": [],
   "source": [
    "PPO??"
   ],
   "metadata": {
    "collapsed": false,
    "ExecuteTime": {
     "end_time": "2024-05-19T19:08:41.628768400Z",
     "start_time": "2024-05-19T19:08:41.480765200Z"
    }
   },
   "id": "b228f6f2f384969c"
  },
  {
   "cell_type": "code",
   "execution_count": 206,
   "outputs": [
    {
     "name": "stdout",
     "output_type": "stream",
     "text": [
      "Logging to Training/Logs/PPO_10\n",
      "---------------------------------\n",
      "| rollout/           |          |\n",
      "|    ep_len_mean     | 1e+03    |\n",
      "|    ep_rew_mean     | 998      |\n",
      "| time/              |          |\n",
      "|    fps             | 340      |\n",
      "|    iterations      | 1        |\n",
      "|    time_elapsed    | 6        |\n",
      "|    total_timesteps | 2048     |\n",
      "---------------------------------\n",
      "-----------------------------------------\n",
      "| rollout/                |             |\n",
      "|    ep_len_mean          | 1e+03       |\n",
      "|    ep_rew_mean          | 998         |\n",
      "| time/                   |             |\n",
      "|    fps                  | 326         |\n",
      "|    iterations           | 2           |\n",
      "|    time_elapsed         | 12          |\n",
      "|    total_timesteps      | 4096        |\n",
      "| train/                  |             |\n",
      "|    approx_kl            | 0.008957801 |\n",
      "|    clip_fraction        | 0.0586      |\n",
      "|    clip_range           | 0.2         |\n",
      "|    entropy_loss         | -1.09       |\n",
      "|    explained_variance   | -0.0192     |\n",
      "|    learning_rate        | 0.0003      |\n",
      "|    loss                 | 10.5        |\n",
      "|    n_updates            | 10          |\n",
      "|    policy_gradient_loss | -0.00426    |\n",
      "|    value_loss           | 102         |\n",
      "-----------------------------------------\n",
      "------------------------------------------\n",
      "| rollout/                |              |\n",
      "|    ep_len_mean          | 1e+03        |\n",
      "|    ep_rew_mean          | 997          |\n",
      "| time/                   |              |\n",
      "|    fps                  | 303          |\n",
      "|    iterations           | 3            |\n",
      "|    time_elapsed         | 20           |\n",
      "|    total_timesteps      | 6144         |\n",
      "| train/                  |              |\n",
      "|    approx_kl            | 0.0073560877 |\n",
      "|    clip_fraction        | 0.051        |\n",
      "|    clip_range           | 0.2          |\n",
      "|    entropy_loss         | -1.08        |\n",
      "|    explained_variance   | -0.00782     |\n",
      "|    learning_rate        | 0.0003       |\n",
      "|    loss                 | 27.8         |\n",
      "|    n_updates            | 20           |\n",
      "|    policy_gradient_loss | -0.00543     |\n",
      "|    value_loss           | 116          |\n",
      "------------------------------------------\n",
      "------------------------------------------\n",
      "| rollout/                |              |\n",
      "|    ep_len_mean          | 1e+03        |\n",
      "|    ep_rew_mean          | 998          |\n",
      "| time/                   |              |\n",
      "|    fps                  | 302          |\n",
      "|    iterations           | 4            |\n",
      "|    time_elapsed         | 27           |\n",
      "|    total_timesteps      | 8192         |\n",
      "| train/                  |              |\n",
      "|    approx_kl            | 0.0053698504 |\n",
      "|    clip_fraction        | 0.0386       |\n",
      "|    clip_range           | 0.2          |\n",
      "|    entropy_loss         | -1.08        |\n",
      "|    explained_variance   | -0.00215     |\n",
      "|    learning_rate        | 0.0003       |\n",
      "|    loss                 | 21.7         |\n",
      "|    n_updates            | 30           |\n",
      "|    policy_gradient_loss | -0.004       |\n",
      "|    value_loss           | 103          |\n",
      "------------------------------------------\n",
      "-----------------------------------------\n",
      "| rollout/                |             |\n",
      "|    ep_len_mean          | 1e+03       |\n",
      "|    ep_rew_mean          | 998         |\n",
      "| time/                   |             |\n",
      "|    fps                  | 295         |\n",
      "|    iterations           | 5           |\n",
      "|    time_elapsed         | 34          |\n",
      "|    total_timesteps      | 10240       |\n",
      "| train/                  |             |\n",
      "|    approx_kl            | 0.010372918 |\n",
      "|    clip_fraction        | 0.0701      |\n",
      "|    clip_range           | 0.2         |\n",
      "|    entropy_loss         | -1.07       |\n",
      "|    explained_variance   | -0.00043    |\n",
      "|    learning_rate        | 0.0003      |\n",
      "|    loss                 | 16.7        |\n",
      "|    n_updates            | 40          |\n",
      "|    policy_gradient_loss | -0.00737    |\n",
      "|    value_loss           | 86          |\n",
      "-----------------------------------------\n",
      "-----------------------------------------\n",
      "| rollout/                |             |\n",
      "|    ep_len_mean          | 1e+03       |\n",
      "|    ep_rew_mean          | 998         |\n",
      "| time/                   |             |\n",
      "|    fps                  | 290         |\n",
      "|    iterations           | 6           |\n",
      "|    time_elapsed         | 42          |\n",
      "|    total_timesteps      | 12288       |\n",
      "| train/                  |             |\n",
      "|    approx_kl            | 0.007148035 |\n",
      "|    clip_fraction        | 0.0599      |\n",
      "|    clip_range           | 0.2         |\n",
      "|    entropy_loss         | -1.07       |\n",
      "|    explained_variance   | 1.36e-05    |\n",
      "|    learning_rate        | 0.0003      |\n",
      "|    loss                 | 11.5        |\n",
      "|    n_updates            | 50          |\n",
      "|    policy_gradient_loss | -0.00428    |\n",
      "|    value_loss           | 71.8        |\n",
      "-----------------------------------------\n",
      "-----------------------------------------\n",
      "| rollout/                |             |\n",
      "|    ep_len_mean          | 1e+03       |\n",
      "|    ep_rew_mean          | 998         |\n",
      "| time/                   |             |\n",
      "|    fps                  | 291         |\n",
      "|    iterations           | 7           |\n",
      "|    time_elapsed         | 49          |\n",
      "|    total_timesteps      | 14336       |\n",
      "| train/                  |             |\n",
      "|    approx_kl            | 0.007955658 |\n",
      "|    clip_fraction        | 0.0568      |\n",
      "|    clip_range           | 0.2         |\n",
      "|    entropy_loss         | -1.08       |\n",
      "|    explained_variance   | 2.4e-05     |\n",
      "|    learning_rate        | 0.0003      |\n",
      "|    loss                 | 15.8        |\n",
      "|    n_updates            | 60          |\n",
      "|    policy_gradient_loss | -0.00378    |\n",
      "|    value_loss           | 60.6        |\n",
      "-----------------------------------------\n",
      "------------------------------------------\n",
      "| rollout/                |              |\n",
      "|    ep_len_mean          | 1e+03        |\n",
      "|    ep_rew_mean          | 998          |\n",
      "| time/                   |              |\n",
      "|    fps                  | 289          |\n",
      "|    iterations           | 8            |\n",
      "|    time_elapsed         | 56           |\n",
      "|    total_timesteps      | 16384        |\n",
      "| train/                  |              |\n",
      "|    approx_kl            | 0.0077185743 |\n",
      "|    clip_fraction        | 0.0678       |\n",
      "|    clip_range           | 0.2          |\n",
      "|    entropy_loss         | -1.07        |\n",
      "|    explained_variance   | 1.07e-05     |\n",
      "|    learning_rate        | 0.0003       |\n",
      "|    loss                 | 5.21         |\n",
      "|    n_updates            | 70           |\n",
      "|    policy_gradient_loss | -0.00387     |\n",
      "|    value_loss           | 52.3         |\n",
      "------------------------------------------\n",
      "-----------------------------------------\n",
      "| rollout/                |             |\n",
      "|    ep_len_mean          | 1e+03       |\n",
      "|    ep_rew_mean          | 998         |\n",
      "| time/                   |             |\n",
      "|    fps                  | 284         |\n",
      "|    iterations           | 9           |\n",
      "|    time_elapsed         | 64          |\n",
      "|    total_timesteps      | 18432       |\n",
      "| train/                  |             |\n",
      "|    approx_kl            | 0.017986339 |\n",
      "|    clip_fraction        | 0.187       |\n",
      "|    clip_range           | 0.2         |\n",
      "|    entropy_loss         | -1.07       |\n",
      "|    explained_variance   | 2.52e-05    |\n",
      "|    learning_rate        | 0.0003      |\n",
      "|    loss                 | 2.52        |\n",
      "|    n_updates            | 80          |\n",
      "|    policy_gradient_loss | -0.00926    |\n",
      "|    value_loss           | 47.3        |\n",
      "-----------------------------------------\n",
      "-----------------------------------------\n",
      "| rollout/                |             |\n",
      "|    ep_len_mean          | 1e+03       |\n",
      "|    ep_rew_mean          | 998         |\n",
      "| time/                   |             |\n",
      "|    fps                  | 286         |\n",
      "|    iterations           | 10          |\n",
      "|    time_elapsed         | 71          |\n",
      "|    total_timesteps      | 20480       |\n",
      "| train/                  |             |\n",
      "|    approx_kl            | 0.017899266 |\n",
      "|    clip_fraction        | 0.16        |\n",
      "|    clip_range           | 0.2         |\n",
      "|    entropy_loss         | -1.04       |\n",
      "|    explained_variance   | 3.17e-05    |\n",
      "|    learning_rate        | 0.0003      |\n",
      "|    loss                 | 1.53        |\n",
      "|    n_updates            | 90          |\n",
      "|    policy_gradient_loss | -0.00745    |\n",
      "|    value_loss           | 45.1        |\n",
      "-----------------------------------------\n",
      "-----------------------------------------\n",
      "| rollout/                |             |\n",
      "|    ep_len_mean          | 1e+03       |\n",
      "|    ep_rew_mean          | 997         |\n",
      "| time/                   |             |\n",
      "|    fps                  | 288         |\n",
      "|    iterations           | 11          |\n",
      "|    time_elapsed         | 78          |\n",
      "|    total_timesteps      | 22528       |\n",
      "| train/                  |             |\n",
      "|    approx_kl            | 0.011086233 |\n",
      "|    clip_fraction        | 0.103       |\n",
      "|    clip_range           | 0.2         |\n",
      "|    entropy_loss         | -1.05       |\n",
      "|    explained_variance   | -8.34e-07   |\n",
      "|    learning_rate        | 0.0003      |\n",
      "|    loss                 | 74.3        |\n",
      "|    n_updates            | 100         |\n",
      "|    policy_gradient_loss | -0.00312    |\n",
      "|    value_loss           | 45.7        |\n",
      "-----------------------------------------\n",
      "-----------------------------------------\n",
      "| rollout/                |             |\n",
      "|    ep_len_mean          | 1e+03       |\n",
      "|    ep_rew_mean          | 997         |\n",
      "| time/                   |             |\n",
      "|    fps                  | 289         |\n",
      "|    iterations           | 12          |\n",
      "|    time_elapsed         | 84          |\n",
      "|    total_timesteps      | 24576       |\n",
      "| train/                  |             |\n",
      "|    approx_kl            | 0.011013949 |\n",
      "|    clip_fraction        | 0.0881      |\n",
      "|    clip_range           | 0.2         |\n",
      "|    entropy_loss         | -1.02       |\n",
      "|    explained_variance   | -6.02e-05   |\n",
      "|    learning_rate        | 0.0003      |\n",
      "|    loss                 | 2.27        |\n",
      "|    n_updates            | 110         |\n",
      "|    policy_gradient_loss | -0.00287    |\n",
      "|    value_loss           | 48          |\n",
      "-----------------------------------------\n",
      "-----------------------------------------\n",
      "| rollout/                |             |\n",
      "|    ep_len_mean          | 1e+03       |\n",
      "|    ep_rew_mean          | 997         |\n",
      "| time/                   |             |\n",
      "|    fps                  | 290         |\n",
      "|    iterations           | 13          |\n",
      "|    time_elapsed         | 91          |\n",
      "|    total_timesteps      | 26624       |\n",
      "| train/                  |             |\n",
      "|    approx_kl            | 0.010882316 |\n",
      "|    clip_fraction        | 0.157       |\n",
      "|    clip_range           | 0.2         |\n",
      "|    entropy_loss         | -0.982      |\n",
      "|    explained_variance   | -3.21e-05   |\n",
      "|    learning_rate        | 0.0003      |\n",
      "|    loss                 | 6.77        |\n",
      "|    n_updates            | 120         |\n",
      "|    policy_gradient_loss | -0.00401    |\n",
      "|    value_loss           | 50.1        |\n",
      "-----------------------------------------\n",
      "-----------------------------------------\n",
      "| rollout/                |             |\n",
      "|    ep_len_mean          | 1e+03       |\n",
      "|    ep_rew_mean          | 997         |\n",
      "| time/                   |             |\n",
      "|    fps                  | 292         |\n",
      "|    iterations           | 14          |\n",
      "|    time_elapsed         | 98          |\n",
      "|    total_timesteps      | 28672       |\n",
      "| train/                  |             |\n",
      "|    approx_kl            | 0.015629876 |\n",
      "|    clip_fraction        | 0.0703      |\n",
      "|    clip_range           | 0.2         |\n",
      "|    entropy_loss         | -0.998      |\n",
      "|    explained_variance   | -7.99e-06   |\n",
      "|    learning_rate        | 0.0003      |\n",
      "|    loss                 | 1.44        |\n",
      "|    n_updates            | 130         |\n",
      "|    policy_gradient_loss | -0.00262    |\n",
      "|    value_loss           | 53          |\n",
      "-----------------------------------------\n",
      "----------------------------------------\n",
      "| rollout/                |            |\n",
      "|    ep_len_mean          | 1e+03      |\n",
      "|    ep_rew_mean          | 996        |\n",
      "| time/                   |            |\n",
      "|    fps                  | 292        |\n",
      "|    iterations           | 15         |\n",
      "|    time_elapsed         | 105        |\n",
      "|    total_timesteps      | 30720      |\n",
      "| train/                  |            |\n",
      "|    approx_kl            | 0.01454195 |\n",
      "|    clip_fraction        | 0.12       |\n",
      "|    clip_range           | 0.2        |\n",
      "|    entropy_loss         | -1.02      |\n",
      "|    explained_variance   | -1.08e-05  |\n",
      "|    learning_rate        | 0.0003     |\n",
      "|    loss                 | 10.7       |\n",
      "|    n_updates            | 140        |\n",
      "|    policy_gradient_loss | -0.00364   |\n",
      "|    value_loss           | 55.4       |\n",
      "----------------------------------------\n",
      "-----------------------------------------\n",
      "| rollout/                |             |\n",
      "|    ep_len_mean          | 1e+03       |\n",
      "|    ep_rew_mean          | 996         |\n",
      "| time/                   |             |\n",
      "|    fps                  | 293         |\n",
      "|    iterations           | 16          |\n",
      "|    time_elapsed         | 111         |\n",
      "|    total_timesteps      | 32768       |\n",
      "| train/                  |             |\n",
      "|    approx_kl            | 0.008299494 |\n",
      "|    clip_fraction        | 0.0654      |\n",
      "|    clip_range           | 0.2         |\n",
      "|    entropy_loss         | -1.01       |\n",
      "|    explained_variance   | 1.47e-05    |\n",
      "|    learning_rate        | 0.0003      |\n",
      "|    loss                 | 53.5        |\n",
      "|    n_updates            | 150         |\n",
      "|    policy_gradient_loss | -0.000832   |\n",
      "|    value_loss           | 57.4        |\n",
      "-----------------------------------------\n",
      "-----------------------------------------\n",
      "| rollout/                |             |\n",
      "|    ep_len_mean          | 1e+03       |\n",
      "|    ep_rew_mean          | 996         |\n",
      "| time/                   |             |\n",
      "|    fps                  | 293         |\n",
      "|    iterations           | 17          |\n",
      "|    time_elapsed         | 118         |\n",
      "|    total_timesteps      | 34816       |\n",
      "| train/                  |             |\n",
      "|    approx_kl            | 0.008904272 |\n",
      "|    clip_fraction        | 0.157       |\n",
      "|    clip_range           | 0.2         |\n",
      "|    entropy_loss         | -1.04       |\n",
      "|    explained_variance   | -1.55e-05   |\n",
      "|    learning_rate        | 0.0003      |\n",
      "|    loss                 | 33.7        |\n",
      "|    n_updates            | 160         |\n",
      "|    policy_gradient_loss | -0.00598    |\n",
      "|    value_loss           | 59.4        |\n",
      "-----------------------------------------\n",
      "-----------------------------------------\n",
      "| rollout/                |             |\n",
      "|    ep_len_mean          | 1e+03       |\n",
      "|    ep_rew_mean          | 996         |\n",
      "| time/                   |             |\n",
      "|    fps                  | 294         |\n",
      "|    iterations           | 18          |\n",
      "|    time_elapsed         | 125         |\n",
      "|    total_timesteps      | 36864       |\n",
      "| train/                  |             |\n",
      "|    approx_kl            | 0.008843227 |\n",
      "|    clip_fraction        | 0.0927      |\n",
      "|    clip_range           | 0.2         |\n",
      "|    entropy_loss         | -1.06       |\n",
      "|    explained_variance   | -3.1e-06    |\n",
      "|    learning_rate        | 0.0003      |\n",
      "|    loss                 | 7.6         |\n",
      "|    n_updates            | 170         |\n",
      "|    policy_gradient_loss | -0.00484    |\n",
      "|    value_loss           | 61.4        |\n",
      "-----------------------------------------\n",
      "-----------------------------------------\n",
      "| rollout/                |             |\n",
      "|    ep_len_mean          | 1e+03       |\n",
      "|    ep_rew_mean          | 996         |\n",
      "| time/                   |             |\n",
      "|    fps                  | 294         |\n",
      "|    iterations           | 19          |\n",
      "|    time_elapsed         | 132         |\n",
      "|    total_timesteps      | 38912       |\n",
      "| train/                  |             |\n",
      "|    approx_kl            | 0.008047977 |\n",
      "|    clip_fraction        | 0.0681      |\n",
      "|    clip_range           | 0.2         |\n",
      "|    entropy_loss         | -1.05       |\n",
      "|    explained_variance   | 2.4e-05     |\n",
      "|    learning_rate        | 0.0003      |\n",
      "|    loss                 | 62.4        |\n",
      "|    n_updates            | 180         |\n",
      "|    policy_gradient_loss | -0.00147    |\n",
      "|    value_loss           | 62.3        |\n",
      "-----------------------------------------\n",
      "-----------------------------------------\n",
      "| rollout/                |             |\n",
      "|    ep_len_mean          | 1e+03       |\n",
      "|    ep_rew_mean          | 996         |\n",
      "| time/                   |             |\n",
      "|    fps                  | 295         |\n",
      "|    iterations           | 20          |\n",
      "|    time_elapsed         | 138         |\n",
      "|    total_timesteps      | 40960       |\n",
      "| train/                  |             |\n",
      "|    approx_kl            | 0.009465175 |\n",
      "|    clip_fraction        | 0.0678      |\n",
      "|    clip_range           | 0.2         |\n",
      "|    entropy_loss         | -1.05       |\n",
      "|    explained_variance   | 0.00346     |\n",
      "|    learning_rate        | 0.0003      |\n",
      "|    loss                 | 70          |\n",
      "|    n_updates            | 190         |\n",
      "|    policy_gradient_loss | -0.00401    |\n",
      "|    value_loss           | 62.7        |\n",
      "-----------------------------------------\n",
      "-----------------------------------------\n",
      "| rollout/                |             |\n",
      "|    ep_len_mean          | 1e+03       |\n",
      "|    ep_rew_mean          | 996         |\n",
      "| time/                   |             |\n",
      "|    fps                  | 295         |\n",
      "|    iterations           | 21          |\n",
      "|    time_elapsed         | 145         |\n",
      "|    total_timesteps      | 43008       |\n",
      "| train/                  |             |\n",
      "|    approx_kl            | 0.011749266 |\n",
      "|    clip_fraction        | 0.0736      |\n",
      "|    clip_range           | 0.2         |\n",
      "|    entropy_loss         | -1.03       |\n",
      "|    explained_variance   | 0.00862     |\n",
      "|    learning_rate        | 0.0003      |\n",
      "|    loss                 | 19.3        |\n",
      "|    n_updates            | 200         |\n",
      "|    policy_gradient_loss | -0.00346    |\n",
      "|    value_loss           | 64.6        |\n",
      "-----------------------------------------\n",
      "---------------------------------------\n",
      "| rollout/                |           |\n",
      "|    ep_len_mean          | 1e+03     |\n",
      "|    ep_rew_mean          | 996       |\n",
      "| time/                   |           |\n",
      "|    fps                  | 295       |\n",
      "|    iterations           | 22        |\n",
      "|    time_elapsed         | 152       |\n",
      "|    total_timesteps      | 45056     |\n",
      "| train/                  |           |\n",
      "|    approx_kl            | 0.0090832 |\n",
      "|    clip_fraction        | 0.033     |\n",
      "|    clip_range           | 0.2       |\n",
      "|    entropy_loss         | -1.01     |\n",
      "|    explained_variance   | 0.00466   |\n",
      "|    learning_rate        | 0.0003    |\n",
      "|    loss                 | 60.3      |\n",
      "|    n_updates            | 210       |\n",
      "|    policy_gradient_loss | -0.00198  |\n",
      "|    value_loss           | 97.1      |\n",
      "---------------------------------------\n",
      "-----------------------------------------\n",
      "| rollout/                |             |\n",
      "|    ep_len_mean          | 1e+03       |\n",
      "|    ep_rew_mean          | 996         |\n",
      "| time/                   |             |\n",
      "|    fps                  | 296         |\n",
      "|    iterations           | 23          |\n",
      "|    time_elapsed         | 159         |\n",
      "|    total_timesteps      | 47104       |\n",
      "| train/                  |             |\n",
      "|    approx_kl            | 0.014209588 |\n",
      "|    clip_fraction        | 0.138       |\n",
      "|    clip_range           | 0.2         |\n",
      "|    entropy_loss         | -0.981      |\n",
      "|    explained_variance   | -0.00441    |\n",
      "|    learning_rate        | 0.0003      |\n",
      "|    loss                 | 47.1        |\n",
      "|    n_updates            | 220         |\n",
      "|    policy_gradient_loss | -0.00369    |\n",
      "|    value_loss           | 66          |\n",
      "-----------------------------------------\n",
      "-----------------------------------------\n",
      "| rollout/                |             |\n",
      "|    ep_len_mean          | 1e+03       |\n",
      "|    ep_rew_mean          | 996         |\n",
      "| time/                   |             |\n",
      "|    fps                  | 296         |\n",
      "|    iterations           | 24          |\n",
      "|    time_elapsed         | 165         |\n",
      "|    total_timesteps      | 49152       |\n",
      "| train/                  |             |\n",
      "|    approx_kl            | 0.013691556 |\n",
      "|    clip_fraction        | 0.161       |\n",
      "|    clip_range           | 0.2         |\n",
      "|    entropy_loss         | -0.979      |\n",
      "|    explained_variance   | -0.000229   |\n",
      "|    learning_rate        | 0.0003      |\n",
      "|    loss                 | 0.988       |\n",
      "|    n_updates            | 230         |\n",
      "|    policy_gradient_loss | -0.00458    |\n",
      "|    value_loss           | 66.6        |\n",
      "-----------------------------------------\n",
      "-----------------------------------------\n",
      "| rollout/                |             |\n",
      "|    ep_len_mean          | 1e+03       |\n",
      "|    ep_rew_mean          | 996         |\n",
      "| time/                   |             |\n",
      "|    fps                  | 296         |\n",
      "|    iterations           | 25          |\n",
      "|    time_elapsed         | 172         |\n",
      "|    total_timesteps      | 51200       |\n",
      "| train/                  |             |\n",
      "|    approx_kl            | 0.011083413 |\n",
      "|    clip_fraction        | 0.106       |\n",
      "|    clip_range           | 0.2         |\n",
      "|    entropy_loss         | -0.993      |\n",
      "|    explained_variance   | -2.83e-05   |\n",
      "|    learning_rate        | 0.0003      |\n",
      "|    loss                 | 2.02        |\n",
      "|    n_updates            | 240         |\n",
      "|    policy_gradient_loss | -0.00453    |\n",
      "|    value_loss           | 67          |\n",
      "-----------------------------------------\n"
     ]
    },
    {
     "data": {
      "text/plain": "<stable_baselines3.ppo.ppo.PPO at 0x7faaf11342b0>"
     },
     "execution_count": 206,
     "metadata": {},
     "output_type": "execute_result"
    }
   ],
   "source": [
    "model.learn(total_timesteps=50000)"
   ],
   "metadata": {
    "collapsed": false,
    "ExecuteTime": {
     "end_time": "2024-05-19T19:11:36.370270800Z",
     "start_time": "2024-05-19T19:08:41.532765100Z"
    }
   },
   "id": "455fd93683590ae7"
  },
  {
   "cell_type": "code",
   "execution_count": 207,
   "outputs": [],
   "source": [
    "model_path = os.path.join(\"Training\", \"Saved Models\", \"PPO_MODEL\")\n",
    "model.save(model_path)"
   ],
   "metadata": {
    "collapsed": false,
    "ExecuteTime": {
     "end_time": "2024-05-19T19:11:36.423952200Z",
     "start_time": "2024-05-19T19:11:36.366272700Z"
    }
   },
   "id": "133e97b760f1add5"
  },
  {
   "cell_type": "code",
   "execution_count": 208,
   "outputs": [],
   "source": [
    "# model = PPO.load(model_path)"
   ],
   "metadata": {
    "collapsed": false,
    "ExecuteTime": {
     "end_time": "2024-05-19T19:11:36.435902400Z",
     "start_time": "2024-05-19T19:11:36.400278400Z"
    }
   },
   "id": "fc9e82d8375387b4"
  },
  {
   "cell_type": "code",
   "execution_count": 209,
   "outputs": [
    {
     "name": "stdout",
     "output_type": "stream",
     "text": [
      "Episode:1 Reward:998\n"
     ]
    }
   ],
   "source": [
    "episodes = 1\n",
    "for episode in range(1, episodes+1):\n",
    "    obs, inf = env.reset()\n",
    "    evaluation_data = pd.DataFrame(None)\n",
    "    hourly_emission_difference.clear()\n",
    "    hourly_battery_level.clear()\n",
    "    hourly_baseline_em.clear()\n",
    "    hourly_battery_em.clear()\n",
    "    decision_hist.clear()\n",
    "    reward_hist.clear()\n",
    "    done = False\n",
    "    score = 0\n",
    "\n",
    "    while not done:\n",
    "        action, _ = model.predict(obs) # Random actions here\n",
    "        obs, reward, done, truncated, info = env.step(action)\n",
    "        score += reward\n",
    "    print('Episode:{} Reward:{}'.format(episode, score))\n",
    "    \n",
    "    evaluation_data.insert(0,column=\"energy_usage\",value=pd.Series(e_usage[:env_length]))\n",
    "    evaluation_data.insert(1,column=\"carbon_intensity\",value=pd.Series(c_int[:env_length]))\n",
    "    evaluation_data.insert(2,column=\"battery_level\",value=pd.Series(hourly_battery_level))\n",
    "    evaluation_data.insert(3,column=\"decision\",value=pd.Series(decision_hist))\n",
    "    evaluation_data.insert(4,column=\"emission_baseline\",value=pd.Series(hourly_baseline_em))\n",
    "    evaluation_data.insert(5,column=\"emission_w_battery\",value=pd.Series(hourly_battery_em))\n",
    "    evaluation_data.insert(6,column=\"emission_delta\",value=pd.Series(hourly_emission_difference))\n",
    "    evaluation_data.insert(7,column=\"reward\",value=pd.Series(reward_hist))"
   ],
   "metadata": {
    "collapsed": false,
    "ExecuteTime": {
     "end_time": "2024-05-19T19:11:38.076550400Z",
     "start_time": "2024-05-19T19:11:36.408278200Z"
    }
   },
   "id": "303545fadf5be61b"
  },
  {
   "cell_type": "code",
   "execution_count": 210,
   "outputs": [],
   "source": [
    "evaluation_data.to_csv(\"evaluation.csv\")"
   ],
   "metadata": {
    "collapsed": false,
    "ExecuteTime": {
     "end_time": "2024-05-19T19:11:38.253546Z",
     "start_time": "2024-05-19T19:11:38.071540300Z"
    }
   },
   "id": "5a6478cc01ddef82"
  },
  {
   "cell_type": "code",
   "execution_count": 211,
   "outputs": [
    {
     "name": "stdout",
     "output_type": "stream",
     "text": [
      "     energy_usage  carbon_intensity battery_level    decision  \\\n",
      "0             969               404        [5000]     Charged   \n",
      "1            1583               370        [4000]  Discharged   \n",
      "2             818               388        [3000]  Discharged   \n",
      "3            1201               399        [4000]     Charged   \n",
      "4            1369               402        [5000]     Charged   \n",
      "..            ...               ...           ...         ...   \n",
      "995          1007               204           [0]  Discharged   \n",
      "996           748               201        [1000]     Charged   \n",
      "997           779               200           [0]  Discharged   \n",
      "998           934               205           [0]     Nothing   \n",
      "999          1055               222        [1000]     Charged   \n",
      "\n",
      "        emission_baseline    emission_w_battery        emission_delta  reward  \n",
      "0               [391.476]             [391.476]                 [0.0]      -1  \n",
      "1                [585.71]                     0              [585.71]       1  \n",
      "2    [317.38399999999996]                     0   [903.0939999999999]       1  \n",
      "3               [479.199]   [878.1990000000001]   [504.0939999999998]       1  \n",
      "4               [550.338]   [952.3380000000001]   [102.0939999999996]       1  \n",
      "..                    ...                   ...                   ...     ...  \n",
      "995  [205.42799999999997]                     0   [51573.75799999951]       1  \n",
      "996             [150.348]             [351.348]   [51372.75799999951]       1  \n",
      "997               [155.8]                     0  [51528.557999999495]       1  \n",
      "998              [191.47]              [191.47]  [51528.557999999495]       1  \n",
      "999  [234.20999999999998]  [456.21000000000004]  [51306.557999999495]       1  \n",
      "\n",
      "[1000 rows x 8 columns]\n"
     ]
    }
   ],
   "source": [
    "print(evaluation_data)"
   ],
   "metadata": {
    "collapsed": false,
    "ExecuteTime": {
     "end_time": "2024-05-19T19:11:38.276578Z",
     "start_time": "2024-05-19T19:11:38.263547200Z"
    }
   },
   "id": "7ba11964e5f275e9"
  },
  {
   "cell_type": "code",
   "execution_count": 212,
   "outputs": [],
   "source": [
    "# training_log_path = os.path.join(log_path, 'DQN_9')"
   ],
   "metadata": {
    "collapsed": false,
    "ExecuteTime": {
     "end_time": "2024-05-19T19:11:38.276578Z",
     "start_time": "2024-05-19T19:11:38.268638800Z"
    }
   },
   "id": "869739f5ffbd1447"
  },
  {
   "cell_type": "code",
   "execution_count": 213,
   "outputs": [
    {
     "name": "stdout",
     "output_type": "stream",
     "text": [
      "Final delta: 51306.557999999495\n",
      "0          0.000\n",
      "1        585.710\n",
      "2        903.094\n",
      "3        504.094\n",
      "4        102.094\n",
      "         ...    \n",
      "995    51573.758\n",
      "996    51372.758\n",
      "997    51528.558\n",
      "998    51528.558\n",
      "999    51306.558\n",
      "Length: 1000, dtype: float64\n"
     ]
    },
    {
     "data": {
      "text/plain": "<Figure size 640x480 with 1 Axes>",
      "image/png": "[encoded data removed]"
     },
     "metadata": {},
     "output_type": "display_data"
    }
   ],
   "source": [
    "my_list = map(lambda x: x[0], evaluation_data[\"emission_delta\"])\n",
    "ser = pd.Series(my_list)\n",
    "ser.plot()\n",
    "print(f'Final delta: {ser.iloc[-1]}')\n",
    "print(ser)"
   ],
   "metadata": {
    "collapsed": false,
    "ExecuteTime": {
     "end_time": "2024-05-19T19:11:38.398273500Z",
     "start_time": "2024-05-19T19:11:38.326542100Z"
    }
   },
   "id": "64cfafa235513124"
  },
  {
   "cell_type": "code",
   "execution_count": 214,
   "outputs": [
    {
     "data": {
      "text/plain": "<Axes: >"
     },
     "execution_count": 214,
     "metadata": {},
     "output_type": "execute_result"
    },
    {
     "data": {
      "text/plain": "<Figure size 640x480 with 1 Axes>",
      "image/png": "[encoded data removed]"
     },
     "metadata": {},
     "output_type": "display_data"
    }
   ],
   "source": [
    "my_list = map(lambda x: x[0], evaluation_data[\"battery_level\"])\n",
    "ser = pd.Series(my_list)\n",
    "ser.plot()"
   ],
   "metadata": {
    "collapsed": false,
    "ExecuteTime": {
     "end_time": "2024-05-19T19:11:38.551979500Z",
     "start_time": "2024-05-19T19:11:38.425273800Z"
    }
   },
   "id": "3cccf78261d0e804"
  },
  {
   "cell_type": "code",
   "execution_count": 214,
   "outputs": [],
   "source": [],
   "metadata": {
    "collapsed": false,
    "ExecuteTime": {
     "end_time": "2024-05-19T19:11:38.614020100Z",
     "start_time": "2024-05-19T19:11:38.518979500Z"
    }
   },
   "id": "939678283355057c"
  }
 ],
 "metadata": {
  "kernelspec": {
   "display_name": "Python 3",
   "language": "python",
   "name": "python3"
  },
  "language_info": {
   "codemirror_mode": {
    "name": "ipython",
    "version": 2
   },
   "file_extension": ".py",
   "mimetype": "text/x-python",
   "name": "python",
   "nbconvert_exporter": "python",
   "pygments_lexer": "ipython2",
   "version": "2.7.6"
  }
 },
 "nbformat": 4,
 "nbformat_minor": 5
}
