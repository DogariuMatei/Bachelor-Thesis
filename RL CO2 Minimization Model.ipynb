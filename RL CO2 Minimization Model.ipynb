{
 "cells": [
  {
   "cell_type": "code",
   "execution_count": 244,
   "id": "initial_id",
   "metadata": {
    "collapsed": true,
    "ExecuteTime": {
     "end_time": "2024-05-07T17:23:51.919724Z",
     "start_time": "2024-05-07T17:23:51.863728100Z"
    }
   },
   "outputs": [],
   "source": [
    "import os\n",
    "from gymnasium import Env\n",
    "from gymnasium import spaces\n",
    "from gymnasium.spaces import Discrete\n",
    "import pandas as pd\n",
    "import numpy as np\n",
    "\n",
    "from stable_baselines3.common.env_checker import check_env\n",
    "from stable_baselines3 import DQN\n",
    "from stable_baselines3.common.vec_env import DummyVecEnv\n",
    "from stable_baselines3.common.evaluation import evaluate_policy\n"
   ]
  },
  {
   "cell_type": "code",
   "execution_count": 245,
   "outputs": [],
   "source": [
    "carbon_intensity = pd.read_csv('Datasets/Carbon_intensity_processed_hourly.csv')\n",
    "electricity_usage = pd.read_csv('Datasets/Household_processed_hourly.csv')"
   ],
   "metadata": {
    "collapsed": false,
    "ExecuteTime": {
     "end_time": "2024-05-07T17:23:51.978753Z",
     "start_time": "2024-05-07T17:23:51.873715500Z"
    }
   },
   "id": "9acea165d31417fc"
  },
  {
   "cell_type": "code",
   "execution_count": 246,
   "outputs": [],
   "source": [
    "carbon_intensity['Datetime (UTC)'] = pd.to_datetime(carbon_intensity['Datetime (UTC)'], utc=True)\n",
    "carbon_intensity = carbon_intensity.set_index('Datetime (UTC)')\n",
    "carbon_intensity.index = carbon_intensity.index.tz_convert(None)\n",
    "carbon_intensity = carbon_intensity['Carbon Intensity gCO₂eq/kWh (LCA)']\n"
   ],
   "metadata": {
    "collapsed": false,
    "ExecuteTime": {
     "end_time": "2024-05-07T17:23:51.979751900Z",
     "start_time": "2024-05-07T17:23:51.969716300Z"
    }
   },
   "id": "ac609cd148501070"
  },
  {
   "cell_type": "code",
   "execution_count": 247,
   "outputs": [],
   "source": [
    "c_int = np.asarray(carbon_intensity['2021-07-05 00:00:00':'2021-12-05 21:00:00'],dtype=np.int32)"
   ],
   "metadata": {
    "collapsed": false,
    "ExecuteTime": {
     "end_time": "2024-05-07T17:23:51.990727700Z",
     "start_time": "2024-05-07T17:23:51.976716300Z"
    }
   },
   "id": "b52da773c2a0fbe1"
  },
  {
   "cell_type": "code",
   "execution_count": 248,
   "outputs": [],
   "source": [
    "electricity_usage['date'] = pd.to_datetime(electricity_usage['date'], utc=True)\n",
    "electricity_usage= electricity_usage.set_index('date')\n",
    "electricity_usage.index = electricity_usage.index.tz_convert(None)\n",
    "electricity_usage = electricity_usage['energy meter val']"
   ],
   "metadata": {
    "collapsed": false,
    "ExecuteTime": {
     "end_time": "2024-05-07T17:23:52.023342500Z",
     "start_time": "2024-05-07T17:23:51.988727600Z"
    }
   },
   "id": "11cd1e0acf3bf76b"
  },
  {
   "cell_type": "code",
   "execution_count": 249,
   "outputs": [],
   "source": [
    "e_usage = np.asarray(electricity_usage['2015-07-05 00:00:00':], dtype=np.int32)"
   ],
   "metadata": {
    "collapsed": false,
    "ExecuteTime": {
     "end_time": "2024-05-07T17:23:52.023342500Z",
     "start_time": "2024-05-07T17:23:51.992732400Z"
    }
   },
   "id": "ccc36b6530c936ca"
  },
  {
   "cell_type": "code",
   "execution_count": 250,
   "outputs": [],
   "source": [
    "# energy_matrix = np.vstack((c_int, e_usage)).T\n",
    "# energy_matrix"
   ],
   "metadata": {
    "collapsed": false,
    "ExecuteTime": {
     "end_time": "2024-05-07T17:23:52.024341300Z",
     "start_time": "2024-05-07T17:23:51.999751600Z"
    }
   },
   "id": "5095794e59446bc0"
  },
  {
   "cell_type": "code",
   "execution_count": 251,
   "outputs": [],
   "source": [
    "# Constant Environment Variables \n",
    "env_length = 1000\n",
    "charge_discharge_rate = 250"
   ],
   "metadata": {
    "collapsed": false,
    "ExecuteTime": {
     "end_time": "2024-05-07T17:23:52.052718200Z",
     "start_time": "2024-05-07T17:23:52.004718200Z"
    }
   },
   "id": "7172a12dafdf059c"
  },
  {
   "cell_type": "code",
   "execution_count": 252,
   "outputs": [],
   "source": [
    "def get_carbon_emissions(c_int, e_usage):\n",
    "    return c_int * (e_usage/1000)"
   ],
   "metadata": {
    "collapsed": false,
    "ExecuteTime": {
     "end_time": "2024-05-07T17:23:52.063735200Z",
     "start_time": "2024-05-07T17:23:52.011715600Z"
    }
   },
   "id": "1138f83050a4d0ee"
  },
  {
   "cell_type": "code",
   "execution_count": 253,
   "outputs": [],
   "source": [
    "def reward_algo(self):\n",
    "    if self.emissions_baseline > self.emissions_with_battery:\n",
    "        return 1\n",
    "    else:\n",
    "        return -1"
   ],
   "metadata": {
    "collapsed": false,
    "ExecuteTime": {
     "end_time": "2024-05-07T17:23:52.063735200Z",
     "start_time": "2024-05-07T17:23:52.016377Z"
    }
   },
   "id": "5ad53d73b3785341"
  },
  {
   "cell_type": "code",
   "execution_count": 254,
   "outputs": [],
   "source": [
    "def is_done(self):\n",
    "    if self.length == 0:\n",
    "        # ser = pd.Series(self.bat_charge_viz)\n",
    "        # ser.plot()\n",
    "        print(self.hist[-1])\n",
    "        print(f\"emissions baseline: {self.emissions_baseline}\")\n",
    "        print(f\"emissions w/ battery: {self.emissions_with_battery}\")\n",
    "        return True\n",
    "    else:\n",
    "        return False"
   ],
   "metadata": {
    "collapsed": false,
    "ExecuteTime": {
     "end_time": "2024-05-07T17:23:52.065720100Z",
     "start_time": "2024-05-07T17:23:52.023342500Z"
    }
   },
   "id": "d108dc74de5e8913"
  },
  {
   "cell_type": "code",
   "execution_count": 255,
   "outputs": [],
   "source": [
    "class Environment(Env):\n",
    "    def __init__(self):\n",
    "        # Actions are discharge(-1), nothing (0) and charge (1)\n",
    "        self.action_space = Discrete(3)\n",
    "        \n",
    "        self.observation_space = spaces.Dict({\n",
    "                \"carbon_int\" : spaces.Box(low = 0, high = 1000, shape=(1,),dtype=int),\n",
    "                \"electric_usage\" : spaces.Box(low = 0, high = 1000, shape=(1,),dtype=int),\n",
    "                \"battery_charge\" : spaces.Box(low = 0, high = 1000, shape=(1,),dtype=int),\n",
    "                \"c_saved\" : spaces.Box(low = 0, high = 100000, shape=(1,),dtype=float)\n",
    "            }\n",
    "        )            \n",
    "        \n",
    "        self.length = env_length\n",
    "        self.hour_index = 0\n",
    "        self.c_int = c_int\n",
    "        self.e_usage = e_usage\n",
    "        self.emissions_baseline = 0\n",
    "        self.emissions_with_battery = 0\n",
    "        \n",
    "        self.hist = []\n",
    "        \n",
    "        self.state = {\n",
    "            \"carbon_int\": np.array([self.c_int[0]]),\n",
    "            \"electric_usage\": np.array([self.e_usage[0]]),\n",
    "            \"battery_charge\": np.array([0]),\n",
    "            \"c_saved\" : np.array([0]),\n",
    "        }\n",
    "        \n",
    "    def step(self, action):\n",
    "        self.emissions_baseline +=  get_carbon_emissions(self.state[\"carbon_int\"], self.state[\"electric_usage\"])\n",
    "        curr_c_int = self.state[\"carbon_int\"]\n",
    "        curr_e_usage = self.state[\"electric_usage\"]\n",
    "        \n",
    "        \n",
    "        # Perform 'game logic' for each possible agent action\n",
    "        if action == 0 and self.state[\"battery_charge\"] >= charge_discharge_rate:\n",
    "            self.emissions_with_battery += get_carbon_emissions(curr_c_int, curr_e_usage - charge_discharge_rate)\n",
    "            new_battery_charge_val = self.state[\"battery_charge\"] - charge_discharge_rate\n",
    "            self.state.update({\"battery_charge\" : new_battery_charge_val})\n",
    "            \n",
    "        elif action == 1:\n",
    "            pass\n",
    "            \n",
    "        elif action == 2 and self.state[\"battery_charge\"] <= 1000:\n",
    "            if 850 < self.state[\"battery_charge\"] > 1000:\n",
    "                new_battery_charge_val = 1000\n",
    "                self.emissions_with_battery += get_carbon_emissions(curr_c_int, curr_e_usage + charge_discharge_rate)\n",
    "                self.state.update({\"battery_charge\" : new_battery_charge_val})\n",
    "            else:\n",
    "                self.emissions_with_battery += get_carbon_emissions(curr_c_int, curr_e_usage + charge_discharge_rate)\n",
    "                new_battery_charge_val = self.state[\"battery_charge\"] + charge_discharge_rate\n",
    "                self.state.update({\"battery_charge\" : new_battery_charge_val})\n",
    "        else:\n",
    "            pass\n",
    "        \n",
    "        \n",
    "        # update hist array\n",
    "        self.hist.append(int(self.emissions_baseline-self.emissions_with_battery))\n",
    "        \n",
    "        # Update env variables\n",
    "        self.length -= 1\n",
    "        self.hour_index += 1\n",
    "        \n",
    "        # Go to next state\n",
    "        self.state.update({\"carbon_int\": np.array([self.c_int[self.hour_index]])})\n",
    "        self.state.update({\"electric_usage\": np.array([self.e_usage[self.hour_index]])})\n",
    "\n",
    "        # Update emissions saved\n",
    "        emissions_saved = self.emissions_baseline - self.emissions_with_battery\n",
    "        self.state.update({\"c_saved\" : emissions_saved})\n",
    "        \n",
    "        # Update reward\n",
    "        reward = reward_algo(self)\n",
    "            \n",
    "        # Check if finished\n",
    "        done = is_done(self)\n",
    "        \n",
    "        info = {}\n",
    "        truncated = False\n",
    "        return self.state, reward, done, truncated, info\n",
    "    \n",
    "    \n",
    "    def reset(self, seed = None, options = None):\n",
    "        self.state = {\n",
    "            \"carbon_int\": np.array([self.c_int[0]]),\n",
    "            \"electric_usage\": np.array([self.e_usage[0]]),\n",
    "            \"battery_charge\": np.array([0]),\n",
    "            \"c_saved\" : np.array([0]),\n",
    "        } \n",
    "        self.length = env_length\n",
    "        self.hour_index = 0\n",
    "        self.emissions_baseline = 0\n",
    "        self.emissions_with_battery = 0\n",
    "        \n",
    "        self.hist = []\n",
    "\n",
    "        info = {}\n",
    "        \n",
    "        return self.state, info"
   ],
   "metadata": {
    "collapsed": false,
    "ExecuteTime": {
     "end_time": "2024-05-07T17:23:52.066725900Z",
     "start_time": "2024-05-07T17:23:52.037352600Z"
    }
   },
   "id": "84894bb74b346dcc"
  },
  {
   "cell_type": "code",
   "execution_count": 256,
   "outputs": [],
   "source": [
    "env = Environment()"
   ],
   "metadata": {
    "collapsed": false,
    "ExecuteTime": {
     "end_time": "2024-05-07T17:23:52.066725900Z",
     "start_time": "2024-05-07T17:23:52.041386Z"
    }
   },
   "id": "3f3b92941a4d0be2"
  },
  {
   "cell_type": "code",
   "execution_count": 257,
   "outputs": [
    {
     "name": "stdout",
     "output_type": "stream",
     "text": [
      "19563\n",
      "emissions baseline: [43696.138]\n",
      "emissions w/ battery: [24133.036]\n",
      "Episode:1 Score:992\n",
      "19396\n",
      "emissions baseline: [43696.138]\n",
      "emissions w/ battery: [24299.814]\n",
      "Episode:2 Score:982\n",
      "19903\n",
      "emissions baseline: [43696.138]\n",
      "emissions w/ battery: [23792.972]\n",
      "Episode:3 Score:984\n",
      "20974\n",
      "emissions baseline: [43696.138]\n",
      "emissions w/ battery: [22721.547]\n",
      "Episode:4 Score:966\n",
      "19255\n",
      "emissions baseline: [43696.138]\n",
      "emissions w/ battery: [24440.369]\n",
      "Episode:5 Score:996\n"
     ]
    }
   ],
   "source": [
    "episodes = 5\n",
    "for episode in range(1, episodes+1):\n",
    "    state = env.reset()\n",
    "    done = False\n",
    "    score = 0\n",
    "\n",
    "    while not done:\n",
    "        action = env.action_space.sample() # Random actions here\n",
    "        n_state, reward, done, truncated, info = env.step(action)\n",
    "        score+=reward\n",
    "    print('Episode:{} Score:{}'.format(episode, score))"
   ],
   "metadata": {
    "collapsed": false,
    "ExecuteTime": {
     "end_time": "2024-05-07T17:23:52.158727Z",
     "start_time": "2024-05-07T17:23:52.051718700Z"
    }
   },
   "id": "22b8929025289b30"
  },
  {
   "cell_type": "code",
   "execution_count": 258,
   "outputs": [
    {
     "name": "stdout",
     "output_type": "stream",
     "text": [
      "Using cuda device\n",
      "Wrapping the env with a `Monitor` wrapper\n",
      "Wrapping the env in a DummyVecEnv.\n"
     ]
    }
   ],
   "source": [
    "log_path = os.path.join('Training', 'Logs')\n",
    "model = DQN('MultiInputPolicy', env, verbose = 1, tensorboard_log = log_path)"
   ],
   "metadata": {
    "collapsed": false,
    "ExecuteTime": {
     "end_time": "2024-05-07T17:23:52.240725900Z",
     "start_time": "2024-05-07T17:23:52.154728Z"
    }
   },
   "id": "895e02aed605d28"
  },
  {
   "cell_type": "code",
   "execution_count": 259,
   "outputs": [
    {
     "name": "stdout",
     "output_type": "stream",
     "text": [
      "Logging to Training/Logs/DQN_6\n",
      "18884\n",
      "emissions baseline: [43696.138]\n",
      "emissions w/ battery: [24811.417]\n",
      "29709\n",
      "emissions baseline: [43696.138]\n",
      "emissions w/ battery: [13986.875]\n",
      "35184\n",
      "emissions baseline: [43696.138]\n",
      "emissions w/ battery: [8512.121]\n",
      "34514\n",
      "emissions baseline: [43696.138]\n",
      "emissions w/ battery: [9181.942]\n",
      "----------------------------------\n",
      "| rollout/            |          |\n",
      "|    ep_len_mean      | 1e+03    |\n",
      "|    ep_rew_mean      | 996      |\n",
      "|    exploration_rate | 0.05     |\n",
      "| time/               |          |\n",
      "|    episodes         | 4        |\n",
      "|    fps              | 499      |\n",
      "|    time_elapsed     | 8        |\n",
      "|    total_timesteps  | 4000     |\n",
      "| train/              |          |\n",
      "|    learning_rate    | 0.0001   |\n",
      "|    loss             | 5.39     |\n",
      "|    n_updates        | 974      |\n",
      "----------------------------------\n",
      "34037\n",
      "emissions baseline: [43696.138]\n",
      "emissions w/ battery: [9658.398]\n",
      "36783\n",
      "emissions baseline: [43696.138]\n",
      "emissions w/ battery: [6912.832]\n",
      "19077\n",
      "emissions baseline: [43696.138]\n",
      "emissions w/ battery: [24618.764]\n",
      "35794\n",
      "emissions baseline: [43696.138]\n",
      "emissions w/ battery: [7901.712]\n",
      "----------------------------------\n",
      "| rollout/            |          |\n",
      "|    ep_len_mean      | 1e+03    |\n",
      "|    ep_rew_mean      | 987      |\n",
      "|    exploration_rate | 0.05     |\n",
      "| time/               |          |\n",
      "|    episodes         | 8        |\n",
      "|    fps              | 487      |\n",
      "|    time_elapsed     | 16       |\n",
      "|    total_timesteps  | 8000     |\n",
      "| train/              |          |\n",
      "|    learning_rate    | 0.0001   |\n",
      "|    loss             | 3.74     |\n",
      "|    n_updates        | 1974     |\n",
      "----------------------------------\n",
      "38082\n",
      "emissions baseline: [43696.138]\n",
      "emissions w/ battery: [5613.142]\n",
      "37651\n",
      "emissions baseline: [43696.138]\n",
      "emissions w/ battery: [6044.389]\n",
      "34926\n",
      "emissions baseline: [43696.138]\n",
      "emissions w/ battery: [8769.192]\n",
      "36574\n",
      "emissions baseline: [43696.138]\n",
      "emissions w/ battery: [7121.466]\n",
      "----------------------------------\n",
      "| rollout/            |          |\n",
      "|    ep_len_mean      | 1e+03    |\n",
      "|    ep_rew_mean      | 988      |\n",
      "|    exploration_rate | 0.05     |\n",
      "| time/               |          |\n",
      "|    episodes         | 12       |\n",
      "|    fps              | 481      |\n",
      "|    time_elapsed     | 24       |\n",
      "|    total_timesteps  | 12000    |\n",
      "| train/              |          |\n",
      "|    learning_rate    | 0.0001   |\n",
      "|    loss             | 2.75     |\n",
      "|    n_updates        | 2974     |\n",
      "----------------------------------\n",
      "36649\n",
      "emissions baseline: [43696.138]\n",
      "emissions w/ battery: [7046.962]\n",
      "34314\n",
      "emissions baseline: [43696.138]\n",
      "emissions w/ battery: [9381.427]\n",
      "35598\n",
      "emissions baseline: [43696.138]\n",
      "emissions w/ battery: [8097.675]\n",
      "35296\n",
      "emissions baseline: [43696.138]\n",
      "emissions w/ battery: [8399.939]\n",
      "----------------------------------\n",
      "| rollout/            |          |\n",
      "|    ep_len_mean      | 1e+03    |\n",
      "|    ep_rew_mean      | 991      |\n",
      "|    exploration_rate | 0.05     |\n",
      "| time/               |          |\n",
      "|    episodes         | 16       |\n",
      "|    fps              | 477      |\n",
      "|    time_elapsed     | 33       |\n",
      "|    total_timesteps  | 16000    |\n",
      "| train/              |          |\n",
      "|    learning_rate    | 0.0001   |\n",
      "|    loss             | 4.59     |\n",
      "|    n_updates        | 3974     |\n",
      "----------------------------------\n",
      "35871\n",
      "emissions baseline: [43696.138]\n",
      "emissions w/ battery: [7824.62]\n",
      "34556\n",
      "emissions baseline: [43696.138]\n",
      "emissions w/ battery: [9139.197]\n",
      "35880\n",
      "emissions baseline: [43696.138]\n",
      "emissions w/ battery: [7815.169]\n",
      "34386\n",
      "emissions baseline: [43696.138]\n",
      "emissions w/ battery: [9310.027]\n",
      "----------------------------------\n",
      "| rollout/            |          |\n",
      "|    ep_len_mean      | 1e+03    |\n",
      "|    ep_rew_mean      | 993      |\n",
      "|    exploration_rate | 0.05     |\n",
      "| time/               |          |\n",
      "|    episodes         | 20       |\n",
      "|    fps              | 478      |\n",
      "|    time_elapsed     | 41       |\n",
      "|    total_timesteps  | 20000    |\n",
      "| train/              |          |\n",
      "|    learning_rate    | 0.0001   |\n",
      "|    loss             | 3.17     |\n",
      "|    n_updates        | 4974     |\n",
      "----------------------------------\n"
     ]
    },
    {
     "data": {
      "text/plain": "<stable_baselines3.dqn.dqn.DQN at 0x7fd0e84fd100>"
     },
     "execution_count": 259,
     "metadata": {},
     "output_type": "execute_result"
    }
   ],
   "source": [
    "model.learn(total_timesteps=20000)"
   ],
   "metadata": {
    "collapsed": false,
    "ExecuteTime": {
     "end_time": "2024-05-07T17:24:34.004782400Z",
     "start_time": "2024-05-07T17:23:52.179730900Z"
    }
   },
   "id": "455fd93683590ae7"
  },
  {
   "cell_type": "code",
   "execution_count": 260,
   "outputs": [
    {
     "name": "stderr",
     "output_type": "stream",
     "text": [
      "/home/doga/miniconda3/envs/myenv/lib/python3.8/site-packages/stable_baselines3/common/evaluation.py:67: UserWarning: Evaluation environment is not wrapped with a ``Monitor`` wrapper. This may result in reporting modified episode lengths and rewards, if other wrappers happen to modify these. Consider wrapping environment first with ``Monitor`` wrapper.\n",
      "  warnings.warn(\n"
     ]
    },
    {
     "name": "stdout",
     "output_type": "stream",
     "text": [
      "43696\n",
      "emissions baseline: [43696.138]\n",
      "emissions w/ battery: 0\n",
      "43696\n",
      "emissions baseline: [43696.138]\n",
      "emissions w/ battery: 0\n",
      "43696\n",
      "emissions baseline: [43696.138]\n",
      "emissions w/ battery: 0\n",
      "43696\n",
      "emissions baseline: [43696.138]\n",
      "emissions w/ battery: 0\n",
      "43696\n",
      "emissions baseline: [43696.138]\n",
      "emissions w/ battery: 0\n",
      "43696\n",
      "emissions baseline: [43696.138]\n",
      "emissions w/ battery: 0\n",
      "43696\n",
      "emissions baseline: [43696.138]\n",
      "emissions w/ battery: 0\n",
      "43696\n",
      "emissions baseline: [43696.138]\n",
      "emissions w/ battery: 0\n",
      "43696\n",
      "emissions baseline: [43696.138]\n",
      "emissions w/ battery: 0\n",
      "43696\n",
      "emissions baseline: [43696.138]\n",
      "emissions w/ battery: 0\n"
     ]
    },
    {
     "data": {
      "text/plain": "(1000.0, 0.0)"
     },
     "execution_count": 260,
     "metadata": {},
     "output_type": "execute_result"
    }
   ],
   "source": [
    "evaluate_policy(model, env, n_eval_episodes=10, render = False)"
   ],
   "metadata": {
    "collapsed": false,
    "ExecuteTime": {
     "end_time": "2024-05-07T17:24:42.834744300Z",
     "start_time": "2024-05-07T17:24:34.056743300Z"
    }
   },
   "id": "dae0672286f9c00d"
  },
  {
   "cell_type": "code",
   "execution_count": 261,
   "outputs": [
    {
     "name": "stdout",
     "output_type": "stream",
     "text": [
      "41959\n",
      "emissions baseline: [43696.138]\n",
      "emissions w/ battery: [1736.139]\n",
      "Episode:1 Reward:1000 Total Grams Carbon Saved:[41959]\n",
      "42669\n",
      "emissions baseline: [43696.138]\n",
      "emissions w/ battery: [1026.796]\n",
      "Episode:2 Reward:1000 Total Grams Carbon Saved:[42669]\n",
      "41937\n",
      "emissions baseline: [43696.138]\n",
      "emissions w/ battery: [1758.49]\n",
      "Episode:3 Reward:1000 Total Grams Carbon Saved:[41937]\n",
      "41290\n",
      "emissions baseline: [43696.138]\n",
      "emissions w/ battery: [2405.521]\n",
      "Episode:4 Reward:1000 Total Grams Carbon Saved:[41290]\n",
      "42299\n",
      "emissions baseline: [43696.138]\n",
      "emissions w/ battery: [1396.205]\n",
      "Episode:5 Reward:1000 Total Grams Carbon Saved:[42299]\n"
     ]
    }
   ],
   "source": [
    "episodes = 5\n",
    "for episode in range(1, episodes+1):\n",
    "    obs, inf = env.reset()\n",
    "    done = False\n",
    "    score = 0\n",
    "\n",
    "    while not done:\n",
    "        action, _ = model.predict(obs) # Random actions here\n",
    "        obs, reward, done, truncated, info = env.step(action)\n",
    "        score += reward\n",
    "    print('Episode:{} Reward:{} Total Grams Carbon Saved:{}'.format(episode, score, obs[\"c_saved\"].astype(\"int64\")))"
   ],
   "metadata": {
    "collapsed": false,
    "ExecuteTime": {
     "end_time": "2024-05-07T17:24:46.844752600Z",
     "start_time": "2024-05-07T17:24:42.831748600Z"
    }
   },
   "id": "303545fadf5be61b"
  },
  {
   "cell_type": "code",
   "execution_count": 261,
   "outputs": [],
   "source": [],
   "metadata": {
    "collapsed": false,
    "ExecuteTime": {
     "end_time": "2024-05-07T17:24:46.853782500Z",
     "start_time": "2024-05-07T17:24:46.844752600Z"
    }
   },
   "id": "869739f5ffbd1447"
  }
 ],
 "metadata": {
  "kernelspec": {
   "display_name": "Python 3",
   "language": "python",
   "name": "python3"
  },
  "language_info": {
   "codemirror_mode": {
    "name": "ipython",
    "version": 2
   },
   "file_extension": ".py",
   "mimetype": "text/x-python",
   "name": "python",
   "nbconvert_exporter": "python",
   "pygments_lexer": "ipython2",
   "version": "2.7.6"
  }
 },
 "nbformat": 4,
 "nbformat_minor": 5
}
