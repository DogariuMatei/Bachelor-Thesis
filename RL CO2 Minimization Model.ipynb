{
 "cells": [
  {
   "cell_type": "code",
   "execution_count": 1137,
   "id": "initial_id",
   "metadata": {
    "collapsed": true,
    "ExecuteTime": {
     "end_time": "2024-05-07T13:43:46.380910200Z",
     "start_time": "2024-05-07T13:43:46.354884300Z"
    }
   },
   "outputs": [],
   "source": [
    "import os\n",
    "from gymnasium import Env\n",
    "from gymnasium import spaces\n",
    "from gymnasium.spaces import Discrete\n",
    "import pandas as pd\n",
    "import numpy as np\n",
    "\n",
    "from stable_baselines3.common.env_checker import check_env\n",
    "from stable_baselines3 import DQN\n",
    "from stable_baselines3.common.vec_env import DummyVecEnv\n",
    "from stable_baselines3.common.evaluation import evaluate_policy\n"
   ]
  },
  {
   "cell_type": "code",
   "execution_count": 1138,
   "outputs": [],
   "source": [
    "carbon_intensity = pd.read_csv('Datasets/Carbon_intensity_processed_hourly.csv')\n",
    "electricity_usage = pd.read_csv('Datasets/Household_processed_hourly.csv')"
   ],
   "metadata": {
    "collapsed": false,
    "ExecuteTime": {
     "end_time": "2024-05-07T13:43:46.458058Z",
     "start_time": "2024-05-07T13:43:46.362894800Z"
    }
   },
   "id": "9acea165d31417fc"
  },
  {
   "cell_type": "code",
   "execution_count": 1139,
   "outputs": [],
   "source": [
    "carbon_intensity['Datetime (UTC)'] = pd.to_datetime(carbon_intensity['Datetime (UTC)'], utc=True)\n",
    "carbon_intensity = carbon_intensity.set_index('Datetime (UTC)')\n",
    "carbon_intensity.index = carbon_intensity.index.tz_convert(None)\n",
    "carbon_intensity = carbon_intensity['Carbon Intensity gCO₂eq/kWh (LCA)']\n"
   ],
   "metadata": {
    "collapsed": false,
    "ExecuteTime": {
     "end_time": "2024-05-07T13:43:46.479020300Z",
     "start_time": "2024-05-07T13:43:46.468027400Z"
    }
   },
   "id": "ac609cd148501070"
  },
  {
   "cell_type": "code",
   "execution_count": 1140,
   "outputs": [],
   "source": [
    "c_int = np.asarray(carbon_intensity['2021-07-05 00:00:00':'2021-12-05 21:00:00'],dtype=np.int32)"
   ],
   "metadata": {
    "collapsed": false,
    "ExecuteTime": {
     "end_time": "2024-05-07T13:43:46.487017400Z",
     "start_time": "2024-05-07T13:43:46.477045300Z"
    }
   },
   "id": "b52da773c2a0fbe1"
  },
  {
   "cell_type": "code",
   "execution_count": 1141,
   "outputs": [],
   "source": [
    "electricity_usage['date'] = pd.to_datetime(electricity_usage['date'], utc=True)\n",
    "electricity_usage= electricity_usage.set_index('date')\n",
    "electricity_usage.index = electricity_usage.index.tz_convert(None)\n",
    "electricity_usage = electricity_usage['energy meter val']"
   ],
   "metadata": {
    "collapsed": false,
    "ExecuteTime": {
     "end_time": "2024-05-07T13:43:46.524009800Z",
     "start_time": "2024-05-07T13:43:46.493010600Z"
    }
   },
   "id": "11cd1e0acf3bf76b"
  },
  {
   "cell_type": "code",
   "execution_count": 1142,
   "outputs": [],
   "source": [
    "e_usage = np.asarray(electricity_usage['2015-07-05 00:00:00':], dtype=np.int32)"
   ],
   "metadata": {
    "collapsed": false,
    "ExecuteTime": {
     "end_time": "2024-05-07T13:43:46.525019300Z",
     "start_time": "2024-05-07T13:43:46.502018300Z"
    }
   },
   "id": "ccc36b6530c936ca"
  },
  {
   "cell_type": "code",
   "execution_count": 1143,
   "outputs": [],
   "source": [
    "# energy_matrix = np.vstack((c_int, e_usage)).T\n",
    "# energy_matrix"
   ],
   "metadata": {
    "collapsed": false,
    "ExecuteTime": {
     "end_time": "2024-05-07T13:43:46.525019300Z",
     "start_time": "2024-05-07T13:43:46.509016900Z"
    }
   },
   "id": "5095794e59446bc0"
  },
  {
   "cell_type": "code",
   "execution_count": 1144,
   "outputs": [],
   "source": [
    "# Constant Environment Variables \n",
    "env_length = 24\n",
    "charge_discharge_rate = 250"
   ],
   "metadata": {
    "collapsed": false,
    "ExecuteTime": {
     "end_time": "2024-05-07T13:43:46.525019300Z",
     "start_time": "2024-05-07T13:43:46.514035500Z"
    }
   },
   "id": "7172a12dafdf059c"
  },
  {
   "cell_type": "code",
   "execution_count": 1145,
   "outputs": [],
   "source": [
    "def get_carbon_emissions(c_int, e_usage):\n",
    "    return c_int * (e_usage/1000)"
   ],
   "metadata": {
    "collapsed": false,
    "ExecuteTime": {
     "end_time": "2024-05-07T13:43:46.540017500Z",
     "start_time": "2024-05-07T13:43:46.525019300Z"
    }
   },
   "id": "1138f83050a4d0ee"
  },
  {
   "cell_type": "code",
   "execution_count": 1146,
   "outputs": [],
   "source": [
    "def reward_algo(self):\n",
    "    if self.emissions_baseline > self.emissions_with_battery:\n",
    "        return 1\n",
    "    else:\n",
    "        return -1"
   ],
   "metadata": {
    "collapsed": false,
    "ExecuteTime": {
     "end_time": "2024-05-07T13:43:46.541012Z",
     "start_time": "2024-05-07T13:43:46.533013100Z"
    }
   },
   "id": "5ad53d73b3785341"
  },
  {
   "cell_type": "code",
   "execution_count": 1147,
   "outputs": [],
   "source": [
    "def is_done(self):\n",
    "    if self.length == 0:\n",
    "        return True\n",
    "    else:\n",
    "        return False"
   ],
   "metadata": {
    "collapsed": false,
    "ExecuteTime": {
     "end_time": "2024-05-07T13:43:46.554017200Z",
     "start_time": "2024-05-07T13:43:46.542014800Z"
    }
   },
   "id": "d108dc74de5e8913"
  },
  {
   "cell_type": "code",
   "execution_count": 1148,
   "outputs": [],
   "source": [
    "class Environment(Env):\n",
    "    def __init__(self):\n",
    "        # Actions are discharge(-1), nothing (0) and charge (1)\n",
    "        self.action_space = Discrete(3)\n",
    "        \n",
    "        self.observation_space = spaces.Dict({\n",
    "                \"carbon_int\" : spaces.Box(low = 0, high = 1000, shape=(1,),dtype=int),\n",
    "                \"electric_usage\" : spaces.Box(low = 0, high = 1000, shape=(1,),dtype=int),\n",
    "                \"battery_charge\" : Discrete(1000),\n",
    "            }\n",
    "        )            \n",
    "        \n",
    "        self.length = env_length\n",
    "        self.hour_index = 0\n",
    "        self.c_int = c_int\n",
    "        self.e_usage = e_usage\n",
    "        self.emissions_baseline = 0\n",
    "        self.emissions_with_battery = 0\n",
    "        \n",
    "        self.state = {\n",
    "            \"carbon_int\": np.array([self.c_int[0]]),\n",
    "            \"electric_usage\": np.array([self.e_usage[0]]),\n",
    "            \"battery_charge\": 0,\n",
    "        }\n",
    "        \n",
    "    def step(self, action):\n",
    "        self.emissions_baseline +=  get_carbon_emissions(self.state[\"carbon_int\"], self.state[\"electric_usage\"])\n",
    "        curr_c_int = self.state[\"carbon_int\"]\n",
    "        curr_e_usage = self.state[\"electric_usage\"]\n",
    "        \n",
    "        # Perform 'game logic' for each possible agent action\n",
    "        if action == 0:\n",
    "            self.emissions_with_battery += get_carbon_emissions(curr_c_int, curr_e_usage - charge_discharge_rate)\n",
    "            new_battery_charge_val = self.state[\"battery_charge\"] - charge_discharge_rate\n",
    "            self.state.update({\"battery_charge\" : new_battery_charge_val})\n",
    "            # print(f'Discharge: {new_battery_charge_val}')\n",
    "        elif action == 1:\n",
    "            pass\n",
    "            \n",
    "        elif action == 2:\n",
    "            self.emissions_with_battery += get_carbon_emissions(curr_c_int, curr_e_usage + charge_discharge_rate)\n",
    "            new_battery_charge_val = self.state[\"battery_charge\"] + charge_discharge_rate\n",
    "            self.state.update({\"battery_charge\" : new_battery_charge_val})\n",
    "            # print(f'Charge: {new_battery_charge_val}')\n",
    "        else:\n",
    "            print('Should not happen')\n",
    "        \n",
    "        # Update env variables\n",
    "        self.length -= 1\n",
    "        self.hour_index += 1\n",
    "        \n",
    "        # Go to next state\n",
    "        self.state.update({\"carbon_int\": np.array([self.c_int[self.hour_index]])})\n",
    "        self.state.update({\"electric_usage\": np.array([self.e_usage[self.hour_index]])})\n",
    "        \n",
    "        # Update reward\n",
    "        reward = reward_algo(self)\n",
    "            \n",
    "        # Check if finished\n",
    "        done = is_done(self)\n",
    "        \n",
    "        info = {}\n",
    "        truncated = False\n",
    "        return self.state, reward, done, truncated, info\n",
    "    \n",
    "    \n",
    "    def reset(self, seed = None, options = None):\n",
    "        self.state = {\n",
    "            \"carbon_int\": np.array([self.c_int[0]]),\n",
    "            \"electric_usage\": np.array([self.e_usage[0]]),\n",
    "            \"battery_charge\": 0,\n",
    "        } \n",
    "        self.length = env_length\n",
    "        self.hour_index = 0\n",
    "        self.emissions_baseline = 0\n",
    "        self.emissions_with_battery = 0\n",
    "        \n",
    "        info = {}\n",
    "        \n",
    "        return self.state, info"
   ],
   "metadata": {
    "collapsed": false,
    "ExecuteTime": {
     "end_time": "2024-05-07T13:43:46.593010100Z",
     "start_time": "2024-05-07T13:43:46.551009Z"
    }
   },
   "id": "84894bb74b346dcc"
  },
  {
   "cell_type": "code",
   "execution_count": 1149,
   "outputs": [],
   "source": [
    "env = Environment()\n",
    "# check_env(env)"
   ],
   "metadata": {
    "collapsed": false,
    "ExecuteTime": {
     "end_time": "2024-05-07T13:43:46.593010100Z",
     "start_time": "2024-05-07T13:43:46.563017100Z"
    }
   },
   "id": "3f3b92941a4d0be2"
  },
  {
   "cell_type": "code",
   "execution_count": 1150,
   "outputs": [
    {
     "name": "stdout",
     "output_type": "stream",
     "text": [
      "Episode:1 Score:8\n",
      "Episode:2 Score:-22\n",
      "Episode:3 Score:24\n",
      "Episode:4 Score:24\n",
      "Episode:5 Score:24\n"
     ]
    }
   ],
   "source": [
    "episodes = 5\n",
    "for episode in range(1, episodes+1):\n",
    "    state = env.reset()\n",
    "    done = False\n",
    "    score = 0\n",
    "\n",
    "    while not done:\n",
    "        action = env.action_space.sample() # Random actions here\n",
    "        n_state, reward, done, truncated, info = env.step(action)\n",
    "        score+=reward\n",
    "    print('Episode:{} Score:{}'.format(episode, score))"
   ],
   "metadata": {
    "collapsed": false,
    "ExecuteTime": {
     "end_time": "2024-05-07T13:43:46.594034900Z",
     "start_time": "2024-05-07T13:43:46.573054Z"
    }
   },
   "id": "22b8929025289b30"
  },
  {
   "cell_type": "code",
   "execution_count": 1151,
   "outputs": [],
   "source": [
    "# log_path = os.path.join('Training', 'Logs')\n",
    "# model = DQN('MultiInputPolicy', env, verbose = 1, tensorboard_log = log_path)"
   ],
   "metadata": {
    "collapsed": false,
    "ExecuteTime": {
     "end_time": "2024-05-07T13:43:46.594034900Z",
     "start_time": "2024-05-07T13:43:46.586019700Z"
    }
   },
   "id": "895e02aed605d28"
  },
  {
   "cell_type": "code",
   "execution_count": 1152,
   "outputs": [],
   "source": [
    "# model.learn(total_timesteps=4000)"
   ],
   "metadata": {
    "collapsed": false,
    "ExecuteTime": {
     "end_time": "2024-05-07T13:43:46.607058900Z",
     "start_time": "2024-05-07T13:43:46.593010100Z"
    }
   },
   "id": "455fd93683590ae7"
  },
  {
   "cell_type": "code",
   "execution_count": 1152,
   "outputs": [],
   "source": [],
   "metadata": {
    "collapsed": false,
    "ExecuteTime": {
     "end_time": "2024-05-07T13:43:46.607058900Z",
     "start_time": "2024-05-07T13:43:46.599015Z"
    }
   },
   "id": "c458f4b56f6c3634"
  }
 ],
 "metadata": {
  "kernelspec": {
   "display_name": "Python 3",
   "language": "python",
   "name": "python3"
  },
  "language_info": {
   "codemirror_mode": {
    "name": "ipython",
    "version": 2
   },
   "file_extension": ".py",
   "mimetype": "text/x-python",
   "name": "python",
   "nbconvert_exporter": "python",
   "pygments_lexer": "ipython2",
   "version": "2.7.6"
  }
 },
 "nbformat": 4,
 "nbformat_minor": 5
}
